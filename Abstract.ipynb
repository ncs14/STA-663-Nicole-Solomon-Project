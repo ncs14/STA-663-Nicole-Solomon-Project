{
 "metadata": {
  "name": "",
  "signature": "sha256:bc69adf152421c01b7333b4a75f45d83a0deaa9db8e1a5395f659e78512a9c04"
 },
 "nbformat": 3,
 "nbformat_minor": 0,
 "worksheets": [
  {
   "cells": [
    {
     "cell_type": "markdown",
     "metadata": {},
     "source": [
      "### Abstract\n",
      "\n",
      "Fast false selection rate (FSR) is a model selection method developed by Boos, Stefanski, and Wu$^1$. This method is a variable selection, model selection, and model-sizing tool which determines the aforementioned traits by controlling for the 'false selection rate' or the rate at which unimportant variables are added to the model. \n",
      "\n",
      "The original FSR method developed by the same authors relies on simulating 'phony' variables (unrelated to the outcome) and computing the rate at which these are included in the model in order to determine the appropriate '$\\alpha$-to-enter' level; i.e. the upper threshold on p-value significance of a variable to be entered into the model. This $\\alpha$ level is selected so as to control the average rate of inclusion of meaningless variables in a forward selection approach. The Fast FSR method improves upon this approach by approximating the rate of inclusion of uninformative variables with $\\alpha$ rather than on a term dependent on bootstrapping the simulated phony variables. This has been shown to have results very similar to that of FSR and is particularly efficient with bagging$^1$. This technique has applications in Cox, logistic, and linear regression.\n",
      "\n",
      "The goal of this project is to implement this algorithm in Python. Specifically, functions will be written for the Fast FSR technique for three contexts: in its simplest form for pure variable selection, forcing inclusion of a subset of variables, and with bagging. Ideally this will all be streamlined into as few functions as possible. The code will be tested on a dataset(s) (this will either be a simulated dataset and/or one available from NCSU$^2$) in order to demonstrate the technique and its efficiency. The algorithm will be compared to a built-in function$^2$ in R on the same dataset(s) to demonstrate the correctness of the Python function."
     ]
    },
    {
     "cell_type": "markdown",
     "metadata": {},
     "source": [
      "Reference:\n",
      "1. Boos D, Stefanski L, and Wu Y. \"Fast FSR Variable Selection with Applications to Clinical Trials.\" Biometrics. 2009; 65(3): 692-700.\n",
      "2. \"Fast FSR: Controlling the False Selection Rate without Simulation.\" NCSU. http://www4.stat.ncsu.edu/~boos/var.select/fast.fsr.html."
     ]
    },
    {
     "cell_type": "code",
     "collapsed": false,
     "input": [],
     "language": "python",
     "metadata": {},
     "outputs": []
    }
   ],
   "metadata": {}
  }
 ]
}