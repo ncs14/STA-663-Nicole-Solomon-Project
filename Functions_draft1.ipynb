{
 "metadata": {
  "name": "",
  "signature": "sha256:c83f239cac356338b8e5355e006894113973396551e52c0fcd51bda8f3c89dd3"
 },
 "nbformat": 3,
 "nbformat_minor": 0,
 "worksheets": [
  {
   "cells": [
    {
     "cell_type": "code",
     "collapsed": false,
     "input": [
      "                            \"\"\" Pseudocode for Fast FSR algorithm \"\"\"\n",
      "\n",
      "    \n",
      "\"\"\" p-value computation function \"\"\"\n",
      "def pval_comp(fwd_proc,ncov):\n",
      "    \n",
      "    ### Input params:\n",
      "    #   fwd_proc = leaps::regsubsets object generated in Python <-- must be declared in global R env\n",
      "    #   ncov     = number of covariates\n",
      "    \n",
      "    ### Output:\n",
      "    # array of p-values of each covariate at its given entry step\n",
      "    \n",
      "    # make fwd an R object in the global environment\n",
      "    ro.globalenv['out_r'] = fwd_proc\n",
      "    \n",
      "    # Use F-test to compute p-value : \n",
      "    #  F_stat = [ (RSS_r - RSS_f) / (p_f - p_r) ] / [ RSS_f / (n - p_f) ] ~ F(p_f - p_r, n - p_f)\n",
      "    #  pval = Fdistn_invcdf(F_stat)\n",
      "    \n",
      "    # create vector from 1 to number of covariates\n",
      "    ro.globalenv['ncov'] = ncov\n",
      "    ro.globalenv['ncovs'] = ro.r('1:ncov')\n",
      "    \n",
      "    # compute the F stats as defined above where p_f - p_r = 1 for each iteration\n",
      "    ro.globalenv['fstats'] = ro.r('(out_r$rss[ncovs]-out_r$rss[ncovs+1]) / (out_r$rss[ncovs+1] / (out_r$nn-(ncovs+1))')\n",
      "    \n",
      "    # return the p-values by comparing these stats to the F distn: F(1, n - p_f)\n",
      "    return np.array(ro.r('pf(fstats,1,out_r$nn-(ncovs+1),lower.tail=F)'))\n",
      "\n",
      "\n",
      "\n",
      "\"\"\" Covariate model entry order \"\"\"\n",
      "def cov_order(fwd_proc,xcolnames):\n",
      "    \n",
      "    # Input params:\n",
      "    #   fwd_proc  = leaps::regsubsets object generated in Python <-- must be declared in global R env\n",
      "    #   xcolnames = names of covariates\n",
      "    \n",
      "    ### Output:\n",
      "    # covariate names sorted according to order of entry into the model\n",
      "    \n",
      "    ### Declare fwd as an object in the global R environment\n",
      "    ro.globalenv['out_cov'] = fwd_proc\n",
      "    \n",
      "    ### Pull the cov entry order\n",
      "    vorder = ro.r('out_cov$vorder')\n",
      "    \n",
      "    ### Shift these values down by two (one to exclude intercept, one to make python indices)\n",
      "    vorderinds = np.array(vorder)-2\n",
      "    \n",
      "    ### Sort the columns of X in order to obtain the var names in the entry order\n",
      "    return xcolnames[vorderinds[::]]\n",
      "    \n",
      "\n",
      "\n",
      "\"\"\" Forward selection function \"\"\"\n",
      "def forward(x,y):\n",
      "    \n",
      "    ### Input params:\n",
      "    #   x  = python dataframe of original p covariates, n x p\n",
      "    #   y  = python outcome dataframe, n x 1\n",
      "    \n",
      "    ### Output:\n",
      "    # a regsubsets R object -- the raw full output of the forward selection proc\n",
      "    \n",
      "    ### Load python packages to call R functions\n",
      "    import rpy2.robjects as ro\n",
      "    import pandas.rpy.common as com\n",
      "    from rpy2.robjects.packages import importr\n",
      "    \n",
      "    ### Load base R package & regsubsets fcn from leaps R library\n",
      "    regsub = ro.r('leaps::regsubsets')\n",
      "    base = importr('base')\n",
      "    \n",
      "    ### Convert x and y to R matrices <-- MAKE SURE x,y input == DATAFRAMES (or else change them to df's)!!!\n",
      "    X = com.convert_to_r_matrix(x)\n",
      "    Y = com.convert_to_r_matrix(y)\n",
      "    \n",
      "    ### Perform forward selection with regsubsets function\n",
      "    # Note #2: make nvmax an input argument\n",
      "    return regsub(x=X,y=Y,method=\"forward\",nvmax=base.ncol(X))\n",
      "    \n",
      "    \n",
      "    \n",
      "\"\"\" FSR Results Table \"\"\"\n",
      "def fsrtable(size, vname, p_orig, p_sort, alphaf, gammaf):\n",
      "    \n",
      "    ### Input params:\n",
      "    #   size   = model size at each step of forward sel proc                   [S]\n",
      "    #   vname  = variable name that entered at each step (num vars = p)        [Var]\n",
      "    #   p_orig = p-values at each step                                         [p]\n",
      "    #   p_sort = ascending p-values                                            [p_s]\n",
      "    #   alphaf = alpha-to-enter (p-value cutoff) for model entry at each step  [alpha_F]\n",
      "    #   gammaf = FSR at each step                                              [gamma_F]\n",
      "    \n",
      "    ### Output:\n",
      "    # table of [S   Var   p   p_s   alpha_F   gamma_F], dim = num_steps(== p) x 6\n",
      "    \n",
      "    ### Convert all arrays to dataframes\n",
      "    sized = pd.DataFrame(size)\n",
      "    vnamed = pd.DataFrame(vname)\n",
      "    p_od = pd.DataFrame(p_orig)\n",
      "    p_sd = pd.DataFrame(p_sort)\n",
      "    ad = pd.DataFrame(alphaf)\n",
      "    gd = pd.DataFrame(gammaf)\n",
      "    \n",
      "    ### Combine the arrays\n",
      "    tab = pd.concat([sized,vnamed,p_od,p_sd,ad,gd],axis=1)\n",
      "    tab.columns = ['S','Var','p','p_s','alpha_F','gamma_F']\n",
      "    \n",
      "    return tab\n",
      "    \n",
      "    \n",
      "    \n",
      "\"\"\" FastFSR function \"\"\"\n",
      "def ffsr(x,y,g0):\n",
      "    \n",
      "    ### Input params:\n",
      "    #   x  = python dataframe of original p covariates, n x p\n",
      "    #   y  = python outcome dataframe, n x 1\n",
      "    #   g0 = pre-specified FSR of interest\n",
      "    \n",
      "    ### Output: \n",
      "    #      (note: gamma = FSR, gamma_0 = pre-specified/desired FSR)\n",
      "    # Table of [S   Var   p   p_s   alpha_F   gamma_F], dim = num_steps(== p) x 6\n",
      "    #   S:       model size at given step\n",
      "    #   Var:     name of var that entered at given step\n",
      "    #   p:       p-value of var that entered at given step\n",
      "    #   p_s:     sorted p-value (vector or original p-values sorted in increasing order)\n",
      "    #   alpha_F: cutoff value for model entry given gamma_0 and current p_s value\n",
      "    #   gamma_F: FSR given current alpha_F and model size (== step num)\n",
      "\n",
      "    import numpy as np\n",
      "    import pandas as pd\n",
      "    \n",
      "    ### Clean and check data\n",
      "    # make sure x,y = pandas dataframes or else convert them\n",
      "    # remove missing values\n",
      "    # check that p < n to ensure regression solutions\n",
      "    \n",
      "    ### Perform forward selection\n",
      "    fwd_sel = forward(x,y)\n",
      "    \n",
      "    ### Save order of covariate entry into model\n",
      "    cov_entry_order = cov_order(fwd_sel,x.columns.values)\n",
      "    \n",
      "    ### Compute p-value of each covariate entering the model\n",
      "    p_orig = pval_comp(fwd_sel,x.shape[1])\n",
      "    \n",
      "    ### Sort p-values in ascending order\n",
      "    p_sort = np.sort(p_orig)\n",
      "    \n",
      "    ### Alpha_F computation\n",
      "    a_F = alpha_F(gamma0, p_orig, x.shape[1])\n",
      "    \n",
      "    ### Gamma_F computation\n",
      "    g_F = gamma_F(a_F, p_sort, x.shape[1])\n",
      "    \n",
      "    ### Model size\n",
      "    S = np.arange(x.shape[1])+1\n",
      "    \n",
      "    ### Combine S, Cov_names, p-vals, sorted p-vals, alpha_F, gamma_F into table\n",
      "    fsr_results = fsrtable(S, cov_entry_order, p_orig, p_sort, a_F, g_F)\n",
      "    \n",
      "    return fsr_results\n",
      "\n",
      "# Notes: \n",
      "# 1. will need to adjust above functions to handle fwd_sel steps with tied p-values for >1 cov\n",
      "# 2. need to adjust function to control how many vars shown in final output\n",
      "# 3. appropriate transformations are expected to have been applied prior to utilization of FSR algorithm"
     ],
     "language": "python",
     "metadata": {},
     "outputs": []
    },
    {
     "cell_type": "code",
     "collapsed": false,
     "input": [],
     "language": "python",
     "metadata": {},
     "outputs": []
    },
    {
     "cell_type": "code",
     "collapsed": false,
     "input": [
      "%load_ext rpy2.ipython # code to load/connect to R software"
     ],
     "language": "python",
     "metadata": {},
     "outputs": [],
     "prompt_number": 1
    },
    {
     "cell_type": "code",
     "collapsed": false,
     "input": [
      "import rpy2.robjects as ro\n",
      "import pandas.rpy.common as com\n",
      "from rpy2.robjects.packages import importr\n",
      "\n",
      "# load R package\n",
      "leaps = importr('leaps')\n",
      "stats = importr('stats')\n",
      "base = importr('base')\n",
      "\n",
      "regsub = ro.r('leaps::regsubsets')"
     ],
     "language": "python",
     "metadata": {},
     "outputs": [],
     "prompt_number": 36
    },
    {
     "cell_type": "code",
     "collapsed": false,
     "input": [
      "import numpy as np\n",
      "import pandas as pd\n",
      "\n",
      "X = np.random.multivariate_normal(np.zeros(15),np.eye(15),(100))\n",
      "beta = np.array([0,0,5,6,0,0,4,0,0,0,5,0,0,0,0]).reshape(15,1)\n",
      "Y = X.dot(beta)"
     ],
     "language": "python",
     "metadata": {},
     "outputs": [],
     "prompt_number": 150
    },
    {
     "cell_type": "code",
     "collapsed": false,
     "input": [
      "Y2 = pd.DataFrame(Y)\n",
      "X2 = pd.DataFrame(X)\n",
      "X2.columns = [\"V1\",\"V2\",\"V3\",\"V4\",\"V5\",\"V6\",\"V7\",\"V8\",\"V9\",\"V10\",\"V11\",\"V12\",\"V13\",\"V14\",\"V15\"]"
     ],
     "language": "python",
     "metadata": {},
     "outputs": [],
     "prompt_number": 151
    },
    {
     "cell_type": "code",
     "collapsed": false,
     "input": [
      "y2 = com.convert_to_r_matrix(Y2)\n",
      "x2 = com.convert_to_r_matrix(X2)"
     ],
     "language": "python",
     "metadata": {},
     "outputs": [],
     "prompt_number": 152
    },
    {
     "cell_type": "code",
     "collapsed": false,
     "input": [
      "out = regsub(x=x2,y=y2,method=\"forward\",nvmax=base.ncol(x2))"
     ],
     "language": "python",
     "metadata": {},
     "outputs": [],
     "prompt_number": 166
    },
    {
     "cell_type": "code",
     "collapsed": false,
     "input": [
      "ro.globalenv['out2'] = out\n",
      "print(ro.r('out2$vorder'))\n",
      "print(ro.r('out2$vorder[-1]'))"
     ],
     "language": "python",
     "metadata": {},
     "outputs": [
      {
       "output_type": "stream",
       "stream": "stdout",
       "text": [
        " [1]  1  5 12  4  8  2  3  6  7 13 16 14 15 10 11  9\n",
        "\n",
        " [1]  5 12  4  8  2  3  6  7 13 16 14 15 10 11  9\n",
        "\n"
       ]
      }
     ],
     "prompt_number": 167
    },
    {
     "cell_type": "code",
     "collapsed": false,
     "input": [
      "varorder = ro.r('out2$vorder[-1]')\n",
      "vorder2 = np.array(varorder)-2\n",
      "print list(vorder2+1)\n",
      "col_nam = X2.columns.values\n",
      "vnames = col_nam[vorder2[::]]\n",
      "print vnames\n",
      "print type(vnames)"
     ],
     "language": "python",
     "metadata": {},
     "outputs": [
      {
       "output_type": "stream",
       "stream": "stdout",
       "text": [
        "[4, 11, 3, 7, 1, 2, 5, 6, 12, 15, 13, 14, 9, 10, 8]\n",
        "['V4' 'V11' 'V3' 'V7' 'V1' 'V2' 'V5' 'V6' 'V12' 'V15' 'V13' 'V14' 'V9'\n",
        " 'V10' 'V8']\n",
        "<type 'numpy.ndarray'>\n"
       ]
      }
     ],
     "prompt_number": 187
    },
    {
     "cell_type": "code",
     "collapsed": false,
     "input": [
      "ro.globalenv['ncov'] = base.ncol(x2)\n",
      "ro.globalenv['ncovs'] = ro.r('1:ncov')\n",
      "ro.globalenv['fstats'] = ro.r('(out2$rss[ncovs]-out2$rss[ncovs+1])*(out2$nn-(ncovs+1)) / out2$rss[ncovs+1]')\n",
      "ps = np.array(ro.r('pf(fstats,1,out2$nn-(ncovs+1),lower.tail=F)'))\n",
      "print ps\n",
      "print np.around(ps,4)\n",
      "print np.sort(ps)"
     ],
     "language": "python",
     "metadata": {},
     "outputs": [
      {
       "output_type": "stream",
       "stream": "stdout",
       "text": [
        "[  1.84126419e-12   2.31293803e-15   2.83674694e-22   0.00000000e+00\n",
        "   3.35233254e-05   3.09054567e-03   3.70872884e-02   9.99491297e-02\n",
        "   1.65527908e-01   4.10232061e-01   4.38702482e-01   5.45531925e-01\n",
        "   5.47923797e-01   7.15383303e-01   9.34971502e-01]\n",
        "[ 0.      0.      0.      0.      0.      0.0031  0.0371  0.0999  0.1655\n",
        "  0.4102  0.4387  0.5455  0.5479  0.7154  0.935 ]\n",
        "[  0.00000000e+00   2.83674694e-22   2.31293803e-15   1.84126419e-12\n",
        "   3.35233254e-05   3.09054567e-03   3.70872884e-02   9.99491297e-02\n",
        "   1.65527908e-01   4.10232061e-01   4.38702482e-01   5.45531925e-01\n",
        "   5.47923797e-01   7.15383303e-01   9.34971502e-01]\n"
       ]
      }
     ],
     "prompt_number": 189
    },
    {
     "cell_type": "code",
     "collapsed": false,
     "input": [
      "sizes = np.arange(X.shape[1])+1"
     ],
     "language": "python",
     "metadata": {},
     "outputs": [],
     "prompt_number": 193
    },
    {
     "cell_type": "code",
     "collapsed": false,
     "input": [
      "cnam = pd.DataFrame(col_nam)\n",
      "sz = pd.DataFrame(sizes)\n",
      "psd = pd.DataFrame(ps)\n",
      "ttt = pd.concat([cnam,sz,psd],axis=1)\n",
      "ttt.columns = ['Vname','Size','p']\n",
      "print type(ttt)\n",
      "print ttt"
     ],
     "language": "python",
     "metadata": {},
     "outputs": [
      {
       "output_type": "stream",
       "stream": "stdout",
       "text": [
        "<class 'pandas.core.frame.DataFrame'>\n",
        "   Vname  Size             p\n",
        "0     V1     1  1.841264e-12\n",
        "1     V2     2  2.312938e-15\n",
        "2     V3     3  2.836747e-22\n",
        "3     V4     4  0.000000e+00\n",
        "4     V5     5  3.352333e-05\n",
        "5     V6     6  3.090546e-03\n",
        "6     V7     7  3.708729e-02\n",
        "7     V8     8  9.994913e-02\n",
        "8     V9     9  1.655279e-01\n",
        "9    V10    10  4.102321e-01\n",
        "10   V11    11  4.387025e-01\n",
        "11   V12    12  5.455319e-01\n",
        "12   V13    13  5.479238e-01\n",
        "13   V14    14  7.153833e-01\n",
        "14   V15    15  9.349715e-01\n"
       ]
      }
     ],
     "prompt_number": 203
    },
    {
     "cell_type": "code",
     "collapsed": false,
     "input": [],
     "language": "python",
     "metadata": {},
     "outputs": []
    }
   ],
   "metadata": {}
  }
 ]
}