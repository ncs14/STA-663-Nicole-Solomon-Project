{
 "cells": [
  {
   "cell_type": "markdown",
   "metadata": {},
   "source": [
    "### Unit Tests of FFSR Module Functions ###"
   ]
  },
  {
   "cell_type": "code",
   "execution_count": 1,
   "metadata": {
    "collapsed": false
   },
   "outputs": [
    {
     "name": "stdout",
     "output_type": "stream",
     "text": [
      "Overwriting test_df_type.py\n"
     ]
    }
   ],
   "source": [
    "%%file test_df_type.py\n",
    "\n",
    "import numpy as np\n",
    "import pandas as pd\n",
    "from numpy.testing import assert_raises\n",
    "from ffsr import df_type\n",
    "\n",
    "def test_df_warn():\n",
    "    x = list(np.arange(5))\n",
    "    assert_raises(ValueError,df_type,x)\n",
    "    \n",
    "def test_df_df():\n",
    "    x1 = np.arange(15).reshape(3,5)\n",
    "    x2 = pd.DataFrame(x1)\n",
    "    assert df_type(x1)*1+df_type(x2)*1 == 2"
   ]
  },
  {
   "cell_type": "code",
   "execution_count": 24,
   "metadata": {
    "collapsed": false
   },
   "outputs": [],
   "source": [
    "%%file test_covnames.py\n",
    "\n",
    "import ffsr as f\n",
    "from numpy.testing import assert_raises\n",
    "\n",
    "import rpy2.robjects as ro\n",
    "import pandas.rpy.common as com\n",
    "from rpy2.robjects.packages import importr\n",
    "\n",
    "import numpy as np\n",
    "import pandas as pd\n",
    "\n",
    "leaps = importr('leaps')\n",
    "stats = importr('stats')\n",
    "base = importr('base')\n",
    "\n",
    "regsub = ro.r('leaps::regsubsets')\n",
    "\n",
    "np.random.seed(1234)\n",
    "\n",
    "X = np.random.multivariate_normal(np.zeros(15),np.eye(15),(100))\n",
    "beta = np.array([0,0,5,6,0,0,4,0,0,0,5,0,0,0,0]).reshape(15,1) # signif betas: 3,4,7,11\n",
    "Y = X.dot(beta)\n",
    "Y2 = pd.DataFrame(Y)\n",
    "X2 = pd.DataFrame(X)\n",
    "X2.columns = [\"V1\",\"V2\",\"V3\",\"V4\",\"V5\",\"V6\",\"V7\",\"V8\",\"V9\",\"V10\",\"V11\",\"V12\",\"V13\",\"V14\",\"V15\"]\n",
    "\n",
    "fwd_r = f.forward(X2,Y2)\n",
    "\n",
    "def test_nonames():    \n",
    "    assert_raises(TypeError,f.cov_order,None)"
   ]
  },
  {
   "cell_type": "code",
   "execution_count": 14,
   "metadata": {
    "collapsed": true
   },
   "outputs": [],
   "source": [
    "#%load_ext rpy2.ipython # <- doesn't help test_covnames.py run properly with py.test"
   ]
  },
  {
   "cell_type": "code",
   "execution_count": 29,
   "metadata": {
    "collapsed": false
   },
   "outputs": [
    {
     "name": "stdout",
     "output_type": "stream",
     "text": [
      "Overwriting test_pvals.py\n"
     ]
    }
   ],
   "source": [
    "%%file test_pvals.py\n",
    "\n",
    "from ffsr import *\n",
    "from numpy.testing import assert_raises\n",
    "\n",
    "import rpy2.robjects as ro\n",
    "import pandas.rpy.common as com\n",
    "\n",
    "import numpy as np\n",
    "import pandas as pd\n",
    "\n",
    "np.random.seed(1234)\n",
    "\n",
    "X = np.random.multivariate_normal(np.zeros(15),np.eye(15),(100))\n",
    "beta = np.array([0,0,5,6,0,0,4,0,0,0,5,0,0,0,0]).reshape(15,1) # signif betas: 3,4,7,11\n",
    "Y = X.dot(beta)\n",
    "Y2 = pd.DataFrame(Y)\n",
    "X2 = pd.DataFrame(X)\n",
    "X2.columns = [\"V1\",\"V2\",\"V3\",\"V4\",\"V5\",\"V6\",\"V7\",\"V8\",\"V9\",\"V10\",\"V11\",\"V12\",\"V13\",\"V14\",\"V15\"]\n",
    "\n",
    "fwd_r = forward(X2,Y2)\n",
    "codnames = cov_order(X2.columns.values)\n",
    "\n",
    "def test_probability():    \n",
    "    assert 0. <= np.all(pval_comp(X2.shape[1])) <= 1"
   ]
  },
  {
   "cell_type": "code",
   "execution_count": 30,
   "metadata": {
    "collapsed": false
   },
   "outputs": [
    {
     "name": "stdout",
     "output_type": "stream",
     "text": [
      "\u001b[1m============================= test session starts ==============================\u001b[0m\n",
      "platform linux2 -- Python 2.7.9 -- py-1.4.25 -- pytest-2.6.3\n",
      "collected 2 items / 2 errors \n",
      "\u001b[0m\n",
      "test_df_type.py ..\n",
      "\n",
      "==================================== ERRORS ====================================\n",
      "______________________ ERROR collecting test_covnames.py _______________________\n",
      "test_covnames.py:5: in <module>\n",
      "\u001b[1m    import rpy2.robjects as ro\u001b[0m\n",
      "../../anaconda/lib/python2.7/site-packages/rpy2/robjects/__init__.py:15: in <module>\n",
      "\u001b[1m    import rpy2.rinterface as rinterface\u001b[0m\n",
      "../../anaconda/lib/python2.7/site-packages/rpy2/rinterface/__init__.py:101: in <module>\n",
      "\u001b[1m    from rpy2.rinterface._rinterface import *\u001b[0m\n",
      "\u001b[1m\u001b[31mE   ImportError: /home/bitnami/anaconda/bin/../lib/libreadline.so.6: undefined symbol: PC\u001b[0m\n",
      "________________________ ERROR collecting test_pvals.py ________________________\n",
      "test_pvals.py:5: in <module>\n",
      "\u001b[1m    import rpy2.robjects as ro\u001b[0m\n",
      "../../anaconda/lib/python2.7/site-packages/rpy2/robjects/__init__.py:15: in <module>\n",
      "\u001b[1m    import rpy2.rinterface as rinterface\u001b[0m\n",
      "../../anaconda/lib/python2.7/site-packages/rpy2/rinterface/__init__.py:101: in <module>\n",
      "\u001b[1m    from rpy2.rinterface._rinterface import *\u001b[0m\n",
      "\u001b[1m\u001b[31mE   ImportError: /home/bitnami/anaconda/bin/../lib/libreadline.so.6: undefined symbol: PC\u001b[0m\n",
      "\u001b[1m\u001b[31m====================== 2 passed, 2 error in 0.52 seconds =======================\u001b[0m\n"
     ]
    }
   ],
   "source": [
    "! py.test"
   ]
  },
  {
   "cell_type": "code",
   "execution_count": 22,
   "metadata": {
    "collapsed": false
   },
   "outputs": [
    {
     "ename": "TypeError",
     "evalue": "object of type 'NoneType' has no len()",
     "output_type": "error",
     "traceback": [
      "\u001b[1;31m---------------------------------------------------------------------------\u001b[0m",
      "\u001b[1;31mTypeError\u001b[0m                                 Traceback (most recent call last)",
      "\u001b[1;32m<ipython-input-22-9788e3971a81>\u001b[0m in \u001b[0;36m<module>\u001b[1;34m()\u001b[0m\n\u001b[0;32m     21\u001b[0m \u001b[0mcov_order\u001b[0m\u001b[1;33m(\u001b[0m\u001b[0mX2\u001b[0m\u001b[1;33m.\u001b[0m\u001b[0mcolumns\u001b[0m\u001b[1;33m.\u001b[0m\u001b[0mvalues\u001b[0m\u001b[1;33m)\u001b[0m\u001b[1;33m\u001b[0m\u001b[0m\n\u001b[0;32m     22\u001b[0m \u001b[1;33m\u001b[0m\u001b[0m\n\u001b[1;32m---> 23\u001b[1;33m \u001b[0mcov_order\u001b[0m\u001b[1;33m(\u001b[0m\u001b[0mNone\u001b[0m\u001b[1;33m)\u001b[0m\u001b[1;33m\u001b[0m\u001b[0m\n\u001b[0m",
      "\u001b[1;32m/home/bitnami/STA-663-Nicole-Solomon-Project/Draft_functions/ffsr.pyc\u001b[0m in \u001b[0;36mcov_order\u001b[1;34m(xcolnames, max_size, col_incl)\u001b[0m\n\u001b[0;32m     90\u001b[0m \u001b[1;33m\u001b[0m\u001b[0m\n\u001b[0;32m     91\u001b[0m     \u001b[1;32mif\u001b[0m \u001b[0mmax_size\u001b[0m\u001b[1;33m==\u001b[0m\u001b[0mNone\u001b[0m\u001b[1;33m:\u001b[0m\u001b[1;33m\u001b[0m\u001b[0m\n\u001b[1;32m---> 92\u001b[1;33m         \u001b[0mmax_size\u001b[0m \u001b[1;33m=\u001b[0m \u001b[0mlen\u001b[0m\u001b[1;33m(\u001b[0m\u001b[0mxcolnames\u001b[0m\u001b[1;33m)\u001b[0m\u001b[1;33m\u001b[0m\u001b[0m\n\u001b[0m\u001b[0;32m     93\u001b[0m \u001b[1;33m\u001b[0m\u001b[0m\n\u001b[0;32m     94\u001b[0m     \u001b[1;31m### Pull the cov entry order\u001b[0m\u001b[1;33m\u001b[0m\u001b[1;33m\u001b[0m\u001b[0m\n",
      "\u001b[1;31mTypeError\u001b[0m: object of type 'NoneType' has no len()"
     ]
    }
   ],
   "source": [
    "# Here we see the expected error of test_covnames is a \"TypeError\"\n",
    "\n",
    "from ffsr import *\n",
    "\n",
    "import rpy2.robjects as ro\n",
    "import pandas.rpy.common as com\n",
    "from rpy2.robjects.packages import importr\n",
    "\n",
    "import numpy as np\n",
    "import pandas as pd\n",
    "\n",
    "np.random.seed(1234)\n",
    "\n",
    "X = np.random.multivariate_normal(np.zeros(15),np.eye(15),(100))\n",
    "beta = np.array([0,0,5,6,0,0,4,0,0,0,5,0,0,0,0]).reshape(15,1) # signif betas: 3,4,7,11\n",
    "Y = X.dot(beta)\n",
    "Y2 = pd.DataFrame(Y)\n",
    "X2 = pd.DataFrame(X)\n",
    "X2.columns = [\"V1\",\"V2\",\"V3\",\"V4\",\"V5\",\"V6\",\"V7\",\"V8\",\"V9\",\"V10\",\"V11\",\"V12\",\"V13\",\"V14\",\"V15\"]\n",
    "\n",
    "fwd_r = forward(X2,Y2)\n",
    "\n",
    "cov_order(X2.columns.values)\n",
    "\n",
    "cov_order(None)"
   ]
  },
  {
   "cell_type": "code",
   "execution_count": 28,
   "metadata": {
    "collapsed": false
   },
   "outputs": [
    {
     "data": {
      "text/plain": [
       "True"
      ]
     },
     "execution_count": 28,
     "metadata": {},
     "output_type": "execute_result"
    }
   ],
   "source": [
    "# Here we see test_pvals should return \"True\"\n",
    "\n",
    "from ffsr import *\n",
    "\n",
    "import rpy2.robjects as ro\n",
    "import pandas.rpy.common as com\n",
    "from rpy2.robjects.packages import importr\n",
    "\n",
    "import numpy as np\n",
    "import pandas as pd\n",
    "\n",
    "np.random.seed(1234)\n",
    "\n",
    "X = np.random.multivariate_normal(np.zeros(15),np.eye(15),(100))\n",
    "beta = np.array([0,0,5,6,0,0,4,0,0,0,5,0,0,0,0]).reshape(15,1) # signif betas: 3,4,7,11\n",
    "Y = X.dot(beta)\n",
    "Y2 = pd.DataFrame(Y)\n",
    "X2 = pd.DataFrame(X)\n",
    "X2.columns = [\"V1\",\"V2\",\"V3\",\"V4\",\"V5\",\"V6\",\"V7\",\"V8\",\"V9\",\"V10\",\"V11\",\"V12\",\"V13\",\"V14\",\"V15\"]\n",
    "\n",
    "fwd_r = forward(X2,Y2)\n",
    "\n",
    "codnames = cov_order(X2.columns.values)\n",
    "\n",
    "0. <= np.all(pval_comp(X2.shape[1])) <= 1"
   ]
  },
  {
   "cell_type": "code",
   "execution_count": null,
   "metadata": {
    "collapsed": true
   },
   "outputs": [],
   "source": []
  },
  {
   "cell_type": "code",
   "execution_count": null,
   "metadata": {
    "collapsed": true
   },
   "outputs": [],
   "source": []
  }
 ],
 "metadata": {
  "kernelspec": {
   "display_name": "Python 2",
   "language": "python",
   "name": "python2"
  },
  "language_info": {
   "codemirror_mode": {
    "name": "ipython",
    "version": 2
   },
   "file_extension": ".py",
   "mimetype": "text/x-python",
   "name": "python",
   "nbconvert_exporter": "python",
   "pygments_lexer": "ipython2",
   "version": "2.7.9"
  }
 },
 "nbformat": 4,
 "nbformat_minor": 0
}
