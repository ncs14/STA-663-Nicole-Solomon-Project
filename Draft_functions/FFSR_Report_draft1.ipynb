{
 "cells": [
  {
   "cell_type": "markdown",
   "metadata": {},
   "source": [
    "# STA 663 Final Project #\n",
    "## Implementation of FFSR in Python ##\n",
    "### Nicole Solomon ###"
   ]
  },
  {
   "cell_type": "markdown",
   "metadata": {},
   "source": [
    "## 1. Introduction\n",
    "\n",
    "Fast false selection rate (FFSR) is a model selection method developed by Boos, Stefanski, and Wu (Boos, 2009). \n",
    "This method is a variable selection, model selection, and model-sizing tool under the context of forward selection. These three aspects are determined by controlling for the 'false selection rate' (FSR) or the rate at which unimportant variables are added to the model.\n",
    "The original FSR method developed by the same authors relies on simulating 'phony' variables (unrelated to the outcome) \n",
    "and computing the rate at which these enter the model in order to determine the appropriate '$\\alpha$-to-enter' level; i.e. \n",
    "the upper threshold on p-value significance of a variable to be entered into the model. This $\\alpha$ level is selected so as \n",
    "to control the average rate of inclusion of meaningless variables in a forward selection approach. The Fast FSR (FFSR) \n",
    "method improves upon this approach by approximating the rate of inclusion of uninformative variables with $\\alpha$ rather than \n",
    "on a term dependent on bootstrapping the simulated phony variables. This has been shown to have results very similar to \n",
    "that of FSR and is particularly efficient with bagging for the purpose of model averaging and prediction (Boos et al, 2009). This technique has applications in Cox, logistic, and linear regression.\n",
    "\n",
    "The goal of this project was to implement this algorithm under linear regression in Python. Specifically, functions were be written for the Fast FSR technique for three contexts: in its simplest form for pure variable selection, allowing for forced inclusion of a subset of variables, \n",
    "and with bagging. The code was tested on a \n",
    "dataset available from NCSU in order to demonstrate the technique \n",
    "and its efficiency. The algorithm was also compared to an equivalent R version of the algorithm (Boos, ncsu.edu) on the same dataset to \n",
    "demonstrate the correctness of the Python function."
   ]
  },
  {
   "cell_type": "markdown",
   "metadata": {},
   "source": [
    "## 2. Implementation & Pseudocode\n",
    "\n",
    "Traditional forward selection can be slow in sizeable datasets.  In order to produce an efficient algorithm, the \n",
    "`regsubsets` function from the `leaps` package in `R` was utilized to conduct the forward selection \n",
    "aspect of the FFSR algorithm.  This function utilizes a branch-and-bound technique to quickly identify optimal subsets in \n",
    "the linear prediction of y by x, rather than fitting all possible models at each iteration (Lumley, 2015).\n",
    "The remainder of the algorithm was implemented in a modular programming fashion in Python.  These modules perform the \n",
    "following tasks:"
   ]
  },
  {
   "cell_type": "markdown",
   "metadata": {},
   "source": [
    "### 2.1 Pseudocode\n",
    "    1. Perform forward selection via the `regsubsets` function called in Python via the RPY2 library\n",
    "\t2. Store covariate order of entry into the model\n",
    "\t3. Compute p-values for each sequential covariate entering the model\n",
    "    4. Monotonize p-values by taking sequential max\n",
    "\t5. Compute gamma values for each step in model size\n",
    "\t6. Compute alpha values for each monotonized p-value\n",
    "\t7. Compute alpha for a pre-specified gamma (optional)\n",
    "\t8. Estimate parameters for the final fitted model\n",
    "\n",
    "Additional functions were written to neatly compile the results, as well as check for appropriate data input type.\n",
    "All of these functions are called within the primary 'ffsr' function.  A streamlined version of this function was written \n",
    "without the data check or table compilation for the sake of bagging.  An additional 'bag_fsr' function was written for \n",
    "implementation of FFSR with bagging; this function iteratively runs the ffsr algorithm on a duplicate of the original data \n",
    "built from randomly selecting the original rows with replacement.  In this manner the resulting parameter estimates can be \n",
    "averaged, akin to model averaging.  This produces predictions more accurate than those obtained with just one application \n",
    "of the FFSR algorithm (Boos, 2009)."
   ]
  },
  {
   "cell_type": "markdown",
   "metadata": {},
   "source": [
    "## 3. Testing, Profiling, Optimization\n",
    "\n",
    "Unit tests were drafted to assure that functions failed when appropriate, and raise \n",
    "specific warnings.  The functions passed all unit tests as seens below.  The code was also profiled to allow for optimization to improve efficiency and speed.  The primary \n",
    "bottleneck in the primary ffsr function is within the forward selection modular function.  This procedure requires more \n",
    "than 75% of the time necessary to run the functions.  Utilizing an `R` function rather than a Python or C function \n",
    "appears to be the reason for the slow speed.  This issue is addressed in more detail in the next section."
   ]
  },
  {
   "cell_type": "code",
   "execution_count": 45,
   "metadata": {
    "collapsed": false
   },
   "outputs": [
    {
     "name": "stdout",
     "output_type": "stream",
     "text": [
      "\u001b[1m============================= test session starts ==============================\u001b[0m\n",
      "platform linux2 -- Python 2.7.9 -- py-1.4.25 -- pytest-2.6.3\n",
      "collected 33 items \n",
      "\u001b[0m\n",
      "test_alpha.py ......\n",
      "test_alphag.py ..........\n",
      "test_bagfsr.py ...\n",
      "test_beta.py .....\n",
      "test_covnames.py .\n",
      "test_df_type.py ..\n",
      "test_ffsr.py ..\n",
      "test_gamma.py ...\n",
      "test_pvals.py .\n",
      "\n",
      "\u001b[32m\u001b[1m========================== 33 passed in 2.51 seconds ===========================\u001b[0m\n"
     ]
    }
   ],
   "source": [
    "import os\n",
    "os.chdir('/home/bitnami/STA-663-Nicole-Solomon-Project/Tests')\n",
    "!py.test"
   ]
  },
  {
   "cell_type": "markdown",
   "metadata": {},
   "source": [
    "## 4. Application and Comparison\n",
    "\n",
    "The Python algorithm was applied to a NCAA basketball dataset obtained from NCSU (Boos, ncsu.edu).  The R FFSR algorithm was \n",
    "also applied to this data in order to compare the efficiency of the Python algorithm."
   ]
  },
  {
   "cell_type": "markdown",
   "metadata": {},
   "source": [
    "### 4.1 Standard FFSR function"
   ]
  },
  {
   "cell_type": "code",
   "execution_count": 35,
   "metadata": {
    "collapsed": false
   },
   "outputs": [
    {
     "name": "stdout",
     "output_type": "stream",
     "text": [
      "NCSU R Results:\n",
      "\n",
      "   var   pval  pvmax    Rsq      g\n",
      "1    2 0.0000 0.0000 0.7069 0.0000\n",
      "2    3 0.0001 0.0001 0.7539 0.0004\n",
      "3    5 0.0116 0.0116 0.7708 0.0270\n",
      "4    4 0.0053 0.0116 0.7901 0.0270\n",
      "5    7 0.0025 0.0116 0.8110 0.0270\n",
      "6   17 0.0433 0.0433 0.8197 0.0804\n",
      "7   15 0.0527 0.0527 0.8274 0.0791\n",
      "8    6 0.1056 0.1056 0.8327 0.0864\n",
      "9    9 0.0826 0.1056 0.8386 0.0864\n",
      "10   8 0.0536 0.1056 0.8457 0.0864\n",
      "11  12 0.2350 0.2350 0.8484 0.1566\n",
      "12  10 0.2864 0.2864 0.8505 0.1542\n",
      "13  13 0.3163 0.3163 0.8524 0.1054\n",
      "14  18 0.2697 0.3163 0.8546 0.1054\n",
      "15  11 0.4953 0.4953 0.8555 0.1238\n",
      "16   1 0.6326 0.6326 0.8559 0.1116\n",
      "17  14 0.7056 0.7056 0.8562 0.0784\n",
      "18  19 0.8605 0.8605 0.8563 0.0453\n",
      "19  16 0.9032 0.9032 0.8563 0.0000\n",
      "   user  system elapsed \n",
      "  0.008   0.000   0.009 \n",
      "\n",
      "Python Results:\n",
      "\n",
      "     S  Var       p     p_m alpha_F gamma_F\n",
      "0    1   x2  0.0000  0.0000  0.0056  0.0000\n",
      "1    2   x3  0.0001  0.0001  0.0088  0.0004\n",
      "2    3   x5  0.0116  0.0116  0.0125  0.0270\n",
      "3    4   x4  0.0053  0.0116  0.0167  0.0270\n",
      "4    5   x7  0.0025  0.0116  0.0214  0.0270\n",
      "5    6  x17  0.0433  0.0433  0.0269  0.0804\n",
      "6    7  x15  0.0527  0.0527  0.0333  0.0791\n",
      "7    8   x6  0.1056  0.1056  0.0409  0.0864\n",
      "8    9   x9  0.0826  0.1056  0.0500  0.0864\n",
      "9   10   x8  0.0536  0.1056  0.0611  0.0864\n",
      "10  11  x12  0.2350  0.2350  0.0750  0.1566\n",
      "11  12  x10  0.2864  0.2864  0.0929  0.1542\n",
      "12  13  x13  0.3163  0.3163  0.1167  0.1054\n",
      "13  14  x18  0.2697  0.3163  0.1500  0.1054\n",
      "14  15  x11  0.4953  0.4953  0.2000  0.1238\n",
      "15  16   x1  0.6326  0.6326  0.2833  0.1116\n",
      "16  17  x14  0.7056  0.7056  0.4500  0.0784\n",
      "17  18  x19  0.8605  0.8605  0.9500  0.0453\n",
      "18  19  x16  0.9032  0.9032  1.0000  0.9032\n",
      "\n",
      "IPython CPU timings (estimated):\n",
      "  User   :       0.04 s.\n",
      "  System :       0.00 s.\n",
      "Wall time:       0.04 s.\n"
     ]
    }
   ],
   "source": [
    "%run ffsr_r_run\n",
    "%run -t -m ffsr_p_run"
   ]
  },
  {
   "cell_type": "markdown",
   "metadata": {},
   "source": [
    "### 4.2 FFSR function with forced in variables"
   ]
  },
  {
   "cell_type": "code",
   "execution_count": 37,
   "metadata": {
    "collapsed": false
   },
   "outputs": [
    {
     "name": "stdout",
     "output_type": "stream",
     "text": [
      "NCSU R Results:\n",
      "\n",
      "   var   pval  pvmax    Rsq\n",
      "1   12 0.0000 0.0000 0.6042\n",
      "2    3 0.0000 0.0000 0.6783\n",
      "3    5 0.0000 0.0000 0.6874\n",
      "4    2 0.0000 0.0000 0.7710\n",
      "5    4 0.0043 0.0043 0.7914\n",
      "6    7 0.0028 0.0043 0.8118\n",
      "7   17 0.0539 0.0539 0.8198\n",
      "8   15 0.0458 0.0539 0.8281\n",
      "9    6 0.0976 0.0976 0.8336\n",
      "10   9 0.0962 0.0976 0.8391\n",
      "11   8 0.0281 0.0976 0.8484\n",
      "12  10 0.2864 0.2864 0.8505\n",
      "13  13 0.3163 0.3163 0.8524\n",
      "14  18 0.2697 0.3163 0.8546\n",
      "15  11 0.4953 0.4953 0.8555\n",
      "16   1 0.6326 0.6326 0.8559\n",
      "17  14 0.7056 0.7056 0.8562\n",
      "18  19 0.8605 0.8605 0.8563\n",
      "19  16 0.9032 0.9032 0.8563\n",
      "   user  system elapsed \n",
      "  0.007   0.000   0.006 \n",
      "\n",
      "Python Results:\n",
      "\n",
      "     S  Var       p     p_m alpha_F gamma_F\n",
      "0    1  x12  0.0000  0.0000  0.0056  0.0000\n",
      "1    2   x3  0.0000  0.0000  0.0088  0.0001\n",
      "2    3   x5  0.1100  0.1100  0.0125  0.0733\n",
      "3    4   x2  0.0000  0.1100  0.0167  0.0733\n",
      "4    5   x4  0.0043  0.1100  0.0214  0.0733\n",
      "5    6   x7  0.0028  0.1100  0.0269  0.0733\n",
      "6    7  x17  0.0539  0.1100  0.0333  0.0733\n",
      "7    8  x15  0.0458  0.1100  0.0409  0.0733\n",
      "8    9   x6  0.0976  0.1100  0.0500  0.0733\n",
      "9   10   x9  0.0962  0.1100  0.0611  0.0733\n",
      "10  11   x8  0.0281  0.1100  0.0750  0.0733\n",
      "11  12  x10  0.2864  0.2864  0.0929  0.1542\n",
      "12  13  x13  0.3163  0.3163  0.1167  0.1054\n",
      "13  14  x18  0.2697  0.3163  0.1500  0.1054\n",
      "14  15  x11  0.4953  0.4953  0.2000  0.1238\n",
      "15  16   x1  0.6326  0.6326  0.2833  0.1116\n",
      "16  17  x14  0.7056  0.7056  0.4500  0.0784\n",
      "17  18  x19  0.8605  0.8605  0.9500  0.0453\n",
      "18  19  x16  0.9032  0.9032  1.0000  0.9032\n",
      "\n",
      "IPython CPU timings (estimated):\n",
      "  User   :       0.04 s.\n",
      "  System :       0.00 s.\n",
      "Wall time:       0.04 s.\n"
     ]
    }
   ],
   "source": [
    "%run ffsr_force_r_run\n",
    "%run -t -m ffsr_force_p_run"
   ]
  },
  {
   "cell_type": "markdown",
   "metadata": {},
   "source": [
    "### 4.3 FFSR with bagging"
   ]
  },
  {
   "cell_type": "code",
   "execution_count": 38,
   "metadata": {
    "collapsed": false
   },
   "outputs": [
    {
     "name": "stdout",
     "output_type": "stream",
     "text": [
      "NCSU R Results:\n",
      "\n",
      "   user  system elapsed \n",
      "  0.735   0.005   0.747 \n",
      "\n",
      "[1] \"Mean of estimated alpha-to-enter: 0.0445\"\n",
      "\n",
      "[1] \"Mean size of selected model: 7.695\"\n",
      "\n",
      "Python Results:\n",
      "\n",
      "\n",
      "Mean of estimated alpha-to-enter: 0.0503\n",
      "\n",
      "Mean size of selected model: 7.095\n",
      "\n",
      "IPython CPU timings (estimated):\n",
      "  User   :       6.12 s.\n",
      "  System :       0.27 s.\n",
      "Wall time:       5.50 s.\n"
     ]
    }
   ],
   "source": [
    "%run ffsr_bag_r_run\n",
    "%run -t -m ffsr_bag_p_run"
   ]
  },
  {
   "cell_type": "markdown",
   "metadata": {},
   "source": [
    "As seen in the results above, the Python algorithm yields results identical to those returned by the R algorithm.  The bagging results differ somewhat due to the random resampling in Python and R that cannot be matched via setting identical seeds.  These results overall demonstrate the validity of the Python FFSR function.  However, the Python algorithm is significantly slower than the R function.  This is due to the \n",
    "overhead time spent in calling R, running the R function `regsubsets`, and then returning the results for processing.  \n",
    "This procedure would be significantly faster and competitive with the equivalent R algorithm if the Fortran code upon which \n",
    "`regsubsets` is based were to be wrapped in C and thereby made directly callable in Python.  This is a daunting task \n",
    "however as the original Fortran code is of the type Fortran 77 and was written decades ago (Lumley, github.com).  At the very \n",
    "least, an alternative, but performance-wise competitive, forward selection procedure is necessary to improve the Python \n",
    "algorithm beyond its current speed."
   ]
  },
  {
   "cell_type": "markdown",
   "metadata": {
    "collapsed": false
   },
   "source": [
    "## References\n",
    "\n",
    "1. Boos D, Stefanski L, and Wu Y. \"Fast FSR Variable Selection with Applications to Clinical Trials.\" _Biometrics_. 2009; 65(3): 692-700.\n",
    "2. Boos D and Stefanski L. \"Fast FSR: Controlling the False Selection Rate without Simulation.\" NCSU. http://www4.stat.ncsu.edu/~boos/var.select/fast.fsr.html.\n",
    "3. Thomas Lumley. \"Package 'leaps'\". R Foundation for Statistical Computing, 2015. Version 2.9.\n",
    "4. Thomas Lumley and Alan Miller. \"cran/leaps.\" https://github.com/cran/leaps/tree/master/src.\n"
   ]
  },
  {
   "cell_type": "code",
   "execution_count": null,
   "metadata": {
    "collapsed": true
   },
   "outputs": [],
   "source": []
  }
 ],
 "metadata": {
  "kernelspec": {
   "display_name": "Python 2",
   "language": "python",
   "name": "python2"
  },
  "language_info": {
   "codemirror_mode": {
    "name": "ipython",
    "version": 2
   },
   "file_extension": ".py",
   "mimetype": "text/x-python",
   "name": "python",
   "nbconvert_exporter": "python",
   "pygments_lexer": "ipython2",
   "version": "2.7.9"
  }
 },
 "nbformat": 4,
 "nbformat_minor": 0
}
