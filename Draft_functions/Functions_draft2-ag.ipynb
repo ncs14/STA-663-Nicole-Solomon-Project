{
 "cells": [
  {
   "cell_type": "code",
   "execution_count": 1,
   "metadata": {
    "collapsed": false
   },
   "outputs": [],
   "source": [
    "                            \"\"\" Pseudocode for Fast FSR algorithm \"\"\"\n",
    "\n",
    "\"\"\" Date: 3/27/15 \n",
    "    Modified: Defined the alpha (2) and gamma functions \"\"\"\n",
    "\n",
    "    \n",
    "\"\"\" p-value computation function \"\"\"\n",
    "def pval_comp(fwd_proc,ncov):\n",
    "    \n",
    "    import scipy.stats as st\n",
    "    \n",
    "    ### Input params:\n",
    "    #   fwd_proc = leaps::regsubsets object generated in Python <-- must be declared in global R env\n",
    "    #   ncov     = integer number of covariates\n",
    "    \n",
    "    ### Output:\n",
    "    # array of p-values of each covariate at its given entry step\n",
    "    \n",
    "    # make fwd an R object in the global environment\n",
    "    ro.globalenv['out_r'] = fwd_proc\n",
    "    \n",
    "    # Pull RSS values & num_obs from fwd_proc object\n",
    "    rss = np.array(ro.r('out_r$rss'))\n",
    "    N = np.array(ro.r('out_r$nn'))\n",
    "    \n",
    "    # compute the F stats as defined above where p_f - p_r = 1 for each iteration\n",
    "    fstats = (rss[0:ncov] - rss[1:(ncov+1)]) / (rss[1:(ncov+1)] / (N - (ncov+1)))\n",
    "    \n",
    "    # return the p-values by comparing these stats to the F distn: F(1, n - p_f)\n",
    "    return 1 - st.f.cdf(fstats, 1, N-(ncov+1))\n",
    "\n",
    "\n",
    "\n",
    "\"\"\" Covariate model entry order \"\"\"\n",
    "def cov_order(fwd_proc,xcolnames):\n",
    "    \n",
    "    # Input params:\n",
    "    #   fwd_proc  = leaps::regsubsets object generated in Python <-- must be declared in global R env\n",
    "    #   xcolnames = array of names of covariates\n",
    "    \n",
    "    ### Output:\n",
    "    # array of covariate names sorted according to order of entry into the model\n",
    "    \n",
    "    ### Declare fwd as an object in the global R environment\n",
    "    ro.globalenv['out_cov'] = fwd_proc\n",
    "    \n",
    "    ### Pull the cov entry order\n",
    "    vorder = ro.r('out_cov$vorder[-1]')\n",
    "    \n",
    "    ### Shift these values down by two (one to exclude intercept, one to make python indices)\n",
    "    vorderinds = np.array(vorder)-2\n",
    "    \n",
    "    ### Sort the columns of X in order to obtain the var names in the entry order\n",
    "    return xcolnames[vorderinds[::]]\n",
    "\n",
    "    \n",
    "\n",
    "\"\"\" Forward selection function \"\"\"\n",
    "def forward(x,y):\n",
    "    \n",
    "    ### Input params:\n",
    "    #   x  = python dataframe of original p covariates, n x p\n",
    "    #   y  = python outcome dataframe, n x 1\n",
    "    \n",
    "    ### Output:\n",
    "    # regsubsets R object -- the raw full output of the forward selection proc\n",
    "    \n",
    "    ### Load python packages to call R functions\n",
    "    import rpy2.robjects as ro\n",
    "    import pandas.rpy.common as com\n",
    "    from rpy2.robjects.packages import importr\n",
    "    \n",
    "    ### Load base R package & regsubsets fcn from leaps R library\n",
    "    regsub = ro.r('leaps::regsubsets')\n",
    "    base = importr('base')\n",
    "    \n",
    "    ### Convert x and y to R matrices <-- MAKE SURE x,y input == DATAFRAMES (or else change them to df's)!!!\n",
    "    X = com.convert_to_r_matrix(x)\n",
    "    Y = com.convert_to_r_matrix(y)\n",
    "    \n",
    "    ### Perform forward selection with regsubsets function\n",
    "    # Note #2: make nvmax an input argument\n",
    "    return regsub(x=X,y=Y,method=\"forward\",nvmax=base.ncol(X))\n",
    "    \n",
    "    \n",
    "    \n",
    "\"\"\" Alpha computation for model selection \"\"\"\n",
    "def alpha_F_m(g0, ncov):\n",
    "    \n",
    "    ### Input params:\n",
    "    #   g0   = float pre-specified FSR (gamma0)\n",
    "    #   ncov = integer number of covariates\n",
    "    \n",
    "    ### Output:\n",
    "    # array of alpha_F values\n",
    "    \n",
    "    # Create indices == model size at given step, call this S\n",
    "    S = np.arange(ncov)+1\n",
    "    \n",
    "    # alpha_F_i = gamma_0 * (1 + S_i) / (ncov - S_i)\n",
    "    alpha_F = g0 * (1 + S) / (ncov - S)\n",
    "    \n",
    "    # if table run on all vars, the last alpha = inf\n",
    "    #  instead set equal to 1 == include all vars\n",
    "    alpha_F[np.isinf(alpha_F)] = 1\n",
    "    \n",
    "    return alpha_F\n",
    "    \n",
    "    \n",
    "    \n",
    "\"\"\" Gamma computation \"\"\"\n",
    "def gamma_F(pvs, ncov):\n",
    "    \n",
    "    import numpy as np\n",
    "    \n",
    "    ### Input params:\n",
    "    #   pvs  = vector of p-values (sorted or unsorted) from forward sel procedure\n",
    "    #   ncov = integer number of covariates\n",
    "    \n",
    "    ### Output:\n",
    "    # array of gamma_F values\n",
    "    \n",
    "    # sort pvalues to be monotonically increasing \n",
    "    pv_s = np.sort(pvs)\n",
    "    \n",
    "    # Create indices == model size at given step, call this S\n",
    "    S = np.arange(ncov)+1\n",
    "    \n",
    "    # gamma_F_i = p_s_i * (ncov - S_i) / (1 + S_i)\n",
    "    g_F = pv_s * (ncov - S) / (1 + S)\n",
    "    \n",
    "    # if table run on all vars, the last gamma = 0,\n",
    "    #  instead set equal to the last pv_sort == final rate of unimp var inclusion\n",
    "    if(g_F[-1]==0): \n",
    "        g_F[-1]=pv_s[-1]\n",
    "    \n",
    "    return g_F\n",
    "        \n",
    "    \n",
    "    \n",
    "\"\"\" Alpha computation for specific gamma \"\"\"\n",
    "def alpha_F_g(g, gf, ncov):\n",
    "    \n",
    "    ### Input params:\n",
    "    #   g    = float or vector (length k) of specified FSR at which to compute alpha\n",
    "    #   gf   = vector gamma_F's computed from gamma0, pv_sorted\n",
    "    #          used to compute largest size model (S) for which gamma_F < g\n",
    "    #   ncov = integer of total number covariates in data\n",
    "    \n",
    "    ### Output:\n",
    "    # integer alpha_F value\n",
    "    \n",
    "    ### Compute model size for (each) g\n",
    "    S = np.array([max(np.which(x<=y)) for x in gf, y in g])+1\n",
    "    \n",
    "    return g * (1 + S) / (ncov - S)    \n",
    "\n",
    "    \n",
    "    \n",
    "\"\"\" FSR Results Table \"\"\"\n",
    "def fsrtable(size, vname, p_orig, p_sort, alphaf, gammaf):\n",
    "    \n",
    "    ### Input params:\n",
    "    #   size   = model size at each step of forward sel proc                   [S]\n",
    "    #   vname  = variable name that entered at each step (num vars = p)        [Var]\n",
    "    #   p_orig = p-values at each step                                         [p]\n",
    "    #   p_sort = ascending p-values                                            [p_s]\n",
    "    #   alphaf = alpha-to-enter (p-value cutoff) for model entry at each step  [alpha_F]\n",
    "    #   gammaf = FSR at each step                                              [gamma_F]\n",
    "    \n",
    "    ### Output:\n",
    "    # table of [S   Var   p   p_s   alpha_F   gamma_F], dim = num_steps(== p) x 6\n",
    "    \n",
    "    ### Convert all arrays to dataframes\n",
    "    sized = pd.DataFrame(size)\n",
    "    vnamed = pd.DataFrame(vname)\n",
    "    p_od = pd.DataFrame(p_orig)\n",
    "    p_sd = pd.DataFrame(p_sort)\n",
    "    ad = pd.DataFrame(alphaf)\n",
    "    gd = pd.DataFrame(gammaf)\n",
    "    \n",
    "    ### Combine the arrays\n",
    "    tab = pd.concat([sized,vnamed,p_od,p_sd,ad,gd],axis=1)\n",
    "    tab.columns = ['S','Var','p','p_s','alpha_F','gamma_F']\n",
    "    \n",
    "    return tab\n",
    "    \n",
    "    \n",
    "    \n",
    "\"\"\" FastFSR function \"\"\"\n",
    "def ffsr(x,y,g0):#,gs=Null):\n",
    "    \n",
    "    ### Input params:\n",
    "    #   x  = python dataframe of original p covariates, n x p\n",
    "    #   y  = python outcome dataframe, n x 1\n",
    "    #   g0 = float pre-specified FSR of interest\n",
    "    #   gs = float or vector of gamma's at which to specifically compute alpha_F\n",
    "    \n",
    "    ### Output: \n",
    "    #      (note: gamma = FSR, gamma_0 = pre-specified/desired FSR)\n",
    "    # Table of [S   Var   p   p_s   alpha_F   gamma_F], dim = num_steps(== p) x 6\n",
    "    #   S:       model size at given step\n",
    "    #   Var:     name of var that entered at given step\n",
    "    #   p:       p-value of var that entered at given step\n",
    "    #   p_s:     sorted p-value (vector or original p-values sorted in increasing order)\n",
    "    #   alpha_F: cutoff value for model entry given gamma_0 and current p_s value\n",
    "    #   gamma_F: FSR given current alpha_F and model size (== step num)\n",
    "    #       and\n",
    "    # Vector of alpha_F's for specified gamma's (g)\n",
    "\n",
    "    import numpy as np\n",
    "    import pandas as pd\n",
    "    \n",
    "    ### Clean and check data\n",
    "    # make sure x,y = pandas dataframes or else convert them\n",
    "    # remove missing values\n",
    "    # check that p < n to ensure regression solutions\n",
    "    \n",
    "    ### Perform forward selection\n",
    "    fwd_sel = forward(x, y)\n",
    "    \n",
    "    ### Save order of covariate entry into model\n",
    "    cov_entry_order = cov_order(fwd_sel, x.columns.values)\n",
    "    \n",
    "    ### Compute p-value of each covariate entering the model\n",
    "    p_orig = pval_comp(fwd_sel, x.shape[1])\n",
    "    \n",
    "    ### Sort p-values in ascending order\n",
    "    p_sort = np.sort(p_orig)\n",
    "    \n",
    "    ### Alpha_F computation for all steps in fwd sel proc\n",
    "    a_F = alpha_F_m(g0, x.shape[1])\n",
    "    \n",
    "    ### Gamma_F computation\n",
    "    g_F = gamma_F(p_sort, x.shape[1])\n",
    "    \n",
    "    ### Model size\n",
    "    S = np.arange(x.shape[1])+1\n",
    "    \n",
    "    ### Combine S, Cov_names, p-vals, sorted p-vals, alpha_F, gamma_F into table\n",
    "    fsr_results = fsrtable(S, cov_entry_order, p_orig, p_sort, a_Fm, g_F)\n",
    "    \n",
    "    ### Compute alpha_F for specific gamma0\n",
    "    alphas = alpha_F_g(gs, g_f, x.shape[1])\n",
    "    \n",
    "    return fsr_results, alphas\n",
    "\n",
    "# Notes: \n",
    "# 1. will need to adjust above functions to handle fwd_sel steps with tied p-values for >1 cov\n",
    "# 2. need to adjust function to control how many vars shown in final output\n",
    "# 3. appropriate transformations are expected to have been applied prior to utilization of FSR algorithm"
   ]
  },
  {
   "cell_type": "code",
   "execution_count": 1,
   "metadata": {
    "collapsed": false
   },
   "outputs": [],
   "source": [
    "###########################################################\n",
    "### Code to test / build functions:"
   ]
  },
  {
   "cell_type": "code",
   "execution_count": 1,
   "metadata": {
    "collapsed": false
   },
   "outputs": [],
   "source": [
    "%load_ext rpy2.ipython # code to load/connect to R software"
   ]
  },
  {
   "cell_type": "code",
   "execution_count": 4,
   "metadata": {
    "collapsed": false
   },
   "outputs": [],
   "source": [
    "import rpy2.robjects as ro\n",
    "import pandas.rpy.common as com\n",
    "from rpy2.robjects.packages import importr\n",
    "\n",
    "# load R package\n",
    "leaps = importr('leaps')\n",
    "stats = importr('stats')\n",
    "base = importr('base')\n",
    "\n",
    "regsub = ro.r('leaps::regsubsets')"
   ]
  },
  {
   "cell_type": "code",
   "execution_count": 2,
   "metadata": {
    "collapsed": false
   },
   "outputs": [],
   "source": [
    "import numpy as np\n",
    "import pandas as pd\n",
    "\n",
    "np.random.seed(1234)\n",
    "\n",
    "X = np.random.multivariate_normal(np.zeros(15),np.eye(15),(100))\n",
    "beta = np.array([0,0,5,6,0,0,4,0,0,0,5,0,0,0,0]).reshape(15,1)\n",
    "Y = X.dot(beta)"
   ]
  },
  {
   "cell_type": "code",
   "execution_count": 3,
   "metadata": {
    "collapsed": false
   },
   "outputs": [],
   "source": [
    "Y2 = pd.DataFrame(Y)\n",
    "X2 = pd.DataFrame(X)\n",
    "X2.columns = [\"V1\",\"V2\",\"V3\",\"V4\",\"V5\",\"V6\",\"V7\",\"V8\",\"V9\",\"V10\",\"V11\",\"V12\",\"V13\",\"V14\",\"V15\"]"
   ]
  },
  {
   "cell_type": "code",
   "execution_count": 5,
   "metadata": {
    "collapsed": false
   },
   "outputs": [],
   "source": [
    "y2 = com.convert_to_r_matrix(Y2)\n",
    "x2 = com.convert_to_r_matrix(X2)"
   ]
  },
  {
   "cell_type": "code",
   "execution_count": 6,
   "metadata": {
    "collapsed": false
   },
   "outputs": [
    {
     "name": "stdout",
     "output_type": "stream",
     "text": [
      "Subset selection object\n",
      "15 Variables  (and intercept)\n",
      "    Forced in Forced out\n",
      "V1      FALSE      FALSE\n",
      "V2      FALSE      FALSE\n",
      "V3      FALSE      FALSE\n",
      "V4      FALSE      FALSE\n",
      "V5      FALSE      FALSE\n",
      "V6      FALSE      FALSE\n",
      "V7      FALSE      FALSE\n",
      "V8      FALSE      FALSE\n",
      "V9      FALSE      FALSE\n",
      "V10     FALSE      FALSE\n",
      "V11     FALSE      FALSE\n",
      "V12     FALSE      FALSE\n",
      "V13     FALSE      FALSE\n",
      "V14     FALSE      FALSE\n",
      "V15     FALSE      FALSE\n",
      "1 subsets of each size up to 15\n",
      "Selection Algorithm: forward\n",
      "          V1  V2  V3  V4  V5  V6  V7  V8  V9  V10 V11 V12 V13 V14 V15\n",
      "1  ( 1 )  \" \" \" \" \" \" \"*\" \" \" \" \" \" \" \" \" \" \" \" \" \" \" \" \" \" \" \" \" \" \"\n",
      "2  ( 1 )  \" \" \" \" \" \" \"*\" \" \" \" \" \"*\" \" \" \" \" \" \" \" \" \" \" \" \" \" \" \" \"\n",
      "3  ( 1 )  \" \" \" \" \"*\" \"*\" \" \" \" \" \"*\" \" \" \" \" \" \" \" \" \" \" \" \" \" \" \" \"\n",
      "4  ( 1 )  \" \" \" \" \"*\" \"*\" \" \" \" \" \"*\" \" \" \" \" \" \" \"*\" \" \" \" \" \" \" \" \"\n",
      "5  ( 1 )  \" \" \"*\" \"*\" \"*\" \" \" \" \" \"*\" \" \" \" \" \" \" \"*\" \" \" \" \" \" \" \" \"\n",
      "6  ( 1 )  \" \" \"*\" \"*\" \"*\" \" \" \" \" \"*\" \" \" \" \" \"*\" \"*\" \" \" \" \" \" \" \" \"\n",
      "7  ( 1 )  \"*\" \"*\" \"*\" \"*\" \" \" \" \" \"*\" \" \" \" \" \"*\" \"*\" \" \" \" \" \" \" \" \"\n",
      "8  ( 1 )  \"*\" \"*\" \"*\" \"*\" \"*\" \" \" \"*\" \" \" \" \" \"*\" \"*\" \" \" \" \" \" \" \" \"\n",
      "9  ( 1 )  \"*\" \"*\" \"*\" \"*\" \"*\" \" \" \"*\" \" \" \" \" \"*\" \"*\" \" \" \" \" \" \" \"*\"\n",
      "10  ( 1 ) \"*\" \"*\" \"*\" \"*\" \"*\" \" \" \"*\" \" \" \" \" \"*\" \"*\" \"*\" \" \" \" \" \"*\"\n",
      "11  ( 1 ) \"*\" \"*\" \"*\" \"*\" \"*\" \" \" \"*\" \" \" \" \" \"*\" \"*\" \"*\" \" \" \"*\" \"*\"\n",
      "12  ( 1 ) \"*\" \"*\" \"*\" \"*\" \"*\" \" \" \"*\" \"*\" \" \" \"*\" \"*\" \"*\" \" \" \"*\" \"*\"\n",
      "13  ( 1 ) \"*\" \"*\" \"*\" \"*\" \"*\" \" \" \"*\" \"*\" \"*\" \"*\" \"*\" \"*\" \" \" \"*\" \"*\"\n",
      "14  ( 1 ) \"*\" \"*\" \"*\" \"*\" \"*\" \"*\" \"*\" \"*\" \"*\" \"*\" \"*\" \"*\" \" \" \"*\" \"*\"\n",
      "15  ( 1 ) \"*\" \"*\" \"*\" \"*\" \"*\" \"*\" \"*\" \"*\" \"*\" \"*\" \"*\" \"*\" \"*\" \"*\" \"*\"\n",
      "\n"
     ]
    }
   ],
   "source": [
    "out = regsub(x=x2,y=y2,method=\"forward\",nvmax=base.ncol(x2))\n",
    "print(base.summary(out))"
   ]
  },
  {
   "cell_type": "code",
   "execution_count": 7,
   "metadata": {
    "collapsed": false
   },
   "outputs": [
    {
     "name": "stdout",
     "output_type": "stream",
     "text": [
      " [1]  1  5  8  4 12  3 11  2  6 16 13 15  9 10  7 14\n",
      "\n",
      " [1]  5  8  4 12  3 11  2  6 16 13 15  9 10  7 14\n",
      "\n"
     ]
    }
   ],
   "source": [
    "ro.globalenv['out2'] = out\n",
    "print(ro.r('out2$vorder'))\n",
    "print(ro.r('out2$vorder[-1]'))"
   ]
  },
  {
   "cell_type": "code",
   "execution_count": 8,
   "metadata": {
    "collapsed": false
   },
   "outputs": [
    {
     "name": "stdout",
     "output_type": "stream",
     "text": [
      "[4, 7, 3, 11, 2, 10, 1, 5, 15, 12, 14, 8, 9, 6, 13]\n",
      "['V4' 'V7' 'V3' 'V11' 'V2' 'V10' 'V1' 'V5' 'V15' 'V12' 'V14' 'V8' 'V9' 'V6'\n",
      " 'V13']\n",
      "<type 'numpy.ndarray'>\n"
     ]
    }
   ],
   "source": [
    "varorder = ro.r('out2$vorder[-1]')\n",
    "vorder2 = np.array(varorder)-2\n",
    "print list(vorder2+1)\n",
    "col_nam = X2.columns.values\n",
    "vnames = col_nam[vorder2[::]]\n",
    "print vnames\n",
    "print type(vnames)"
   ]
  },
  {
   "cell_type": "code",
   "execution_count": 9,
   "metadata": {
    "collapsed": false
   },
   "outputs": [
    {
     "name": "stdout",
     "output_type": "stream",
     "text": [
      "[  1.38184810e-01   2.08184008e-01   8.00253031e-01   1.30616893e+00\n",
      "   1.56296418e+00   2.25275801e+00   2.59152172e+00   2.92586365e+00\n",
      "   6.06031952e+00   6.67913008e+00   1.28731035e+01   5.10036417e+01\n",
      "   6.12612668e+01   1.20047339e+02   8.19949956e+31]\n",
      "\n",
      "[ 0.     0.     0.     0.     0.001  0.011  0.016  0.091  0.111  0.137\n",
      "  0.215  0.256  0.374  0.649  0.711]\n"
     ]
    }
   ],
   "source": [
    "nc = X2.shape[1]\n",
    "ncs = np.arange(nc)\n",
    "nn = np.array(ro.r('out2$nn'))\n",
    "rss = np.array(ro.r('out2$rss'))\n",
    "fstats = (rss[:nc] - rss[1:(nc+1)]) / ( rss[1:(nc+1)] / (nn - (nc+1)))\n",
    "print np.sort(fstats)\n",
    "import scipy.stats as st\n",
    "ps = 1 - st.f.cdf(fstats, 1, nn-(nc+1))\n",
    "print\n",
    "print np.around(np.sort(ps),3)"
   ]
  },
  {
   "cell_type": "code",
   "execution_count": 10,
   "metadata": {
    "collapsed": false
   },
   "outputs": [],
   "source": [
    "sizes = np.arange(X.shape[1])+1"
   ]
  },
  {
   "cell_type": "code",
   "execution_count": 18,
   "metadata": {
    "collapsed": false
   },
   "outputs": [
    {
     "ename": "ValueError",
     "evalue": "only 2 non-keyword arguments accepted",
     "output_type": "error",
     "traceback": [
      "\u001b[1;31m---------------------------------------------------------------------------\u001b[0m",
      "\u001b[1;31mValueError\u001b[0m                                Traceback (most recent call last)",
      "\u001b[1;32m<ipython-input-18-280b2a3a9460>\u001b[0m in \u001b[0;36m<module>\u001b[1;34m()\u001b[0m\n\u001b[0;32m      3\u001b[0m \u001b[1;31m#tttest = np.array([vnames,sizes,ps]).T.reshape(15,3)\u001b[0m\u001b[1;33m\u001b[0m\u001b[1;33m\u001b[0m\u001b[0m\n\u001b[0;32m      4\u001b[0m \u001b[0mpd\u001b[0m\u001b[1;33m.\u001b[0m\u001b[0mDataFrame\u001b[0m\u001b[1;33m(\u001b[0m\u001b[1;33m[\u001b[0m\u001b[0mvnames\u001b[0m\u001b[1;33m,\u001b[0m\u001b[0msizes\u001b[0m\u001b[1;33m,\u001b[0m\u001b[0mps\u001b[0m\u001b[1;33m]\u001b[0m\u001b[1;33m)\u001b[0m\u001b[1;33m.\u001b[0m\u001b[0mT\u001b[0m\u001b[1;31m#.T.reshape(15,3)\u001b[0m\u001b[1;33m\u001b[0m\u001b[0m\n\u001b[1;32m----> 5\u001b[1;33m \u001b[0mpd\u001b[0m\u001b[1;33m.\u001b[0m\u001b[0mDataFrame\u001b[0m\u001b[1;33m(\u001b[0m\u001b[0mnp\u001b[0m\u001b[1;33m.\u001b[0m\u001b[0marray\u001b[0m\u001b[1;33m(\u001b[0m\u001b[0mvnames\u001b[0m\u001b[1;33m,\u001b[0m\u001b[0msizes\u001b[0m\u001b[1;33m,\u001b[0m\u001b[0mps\u001b[0m\u001b[1;33m)\u001b[0m\u001b[1;33m)\u001b[0m\u001b[1;33m.\u001b[0m\u001b[0mT\u001b[0m\u001b[1;33m\u001b[0m\u001b[0m\n\u001b[0m\u001b[0;32m      6\u001b[0m \u001b[1;31m#pd.DataFrame(tttest)\u001b[0m\u001b[1;33m\u001b[0m\u001b[1;33m\u001b[0m\u001b[0m\n",
      "\u001b[1;31mValueError\u001b[0m: only 2 non-keyword arguments accepted"
     ]
    }
   ],
   "source": [
    "# Date: 4/20/15\n",
    "# Goal: more efficient table creation\n",
    "#tttest = np.array([vnames,sizes,ps]).T.reshape(15,3)\n",
    "pd.DataFrame([vnames,sizes,ps]).T#.T.reshape(15,3)\n",
    "pd.DataFrame(np.array([vnames,sizes,ps])).T\n",
    "#pd.DataFrame(tttest)"
   ]
  },
  {
   "cell_type": "code",
   "execution_count": 44,
   "metadata": {
    "collapsed": false
   },
   "outputs": [
    {
     "name": "stdout",
     "output_type": "stream",
     "text": [
      "<class 'pandas.core.frame.DataFrame'>\n",
      "   Vname  Size             p\n",
      "0     V4     1  3.070005e-10\n",
      "1     V7     2  1.345091e-11\n",
      "2     V3     3  1.110223e-16\n",
      "3    V11     4  0.000000e+00\n",
      "4     V2     5  5.592588e-04\n",
      "5    V10     6  1.148310e-02\n",
      "6     V1     7  1.587059e-02\n",
      "7     V5     8  1.111889e-01\n",
      "8    V15     9  9.086165e-02\n",
      "9    V12    10  1.371262e-01\n",
      "10   V14    11  2.147034e-01\n",
      "11    V8    12  2.563364e-01\n",
      "12    V9    13  3.735738e-01\n",
      "13    V6    14  6.493720e-01\n",
      "14   V13    15  7.110283e-01\n"
     ]
    }
   ],
   "source": [
    "cnam = pd.DataFrame(vnames)\n",
    "sz = pd.DataFrame(sizes)\n",
    "psd = pd.DataFrame(ps)\n",
    "ttt = pd.concat([cnam,sz,psd],axis=1)\n",
    "ttt.columns = ['Vname','Size','p']\n",
    "print type(ttt)\n",
    "print ttt"
   ]
  },
  {
   "cell_type": "code",
   "execution_count": 48,
   "metadata": {
    "collapsed": false
   },
   "outputs": [],
   "source": [
    "###########################################################\n",
    "### Test functions:"
   ]
  },
  {
   "cell_type": "code",
   "execution_count": 62,
   "metadata": {
    "collapsed": false
   },
   "outputs": [],
   "source": [
    "fwd2 = forward(X2,Y2)"
   ]
  },
  {
   "cell_type": "code",
   "execution_count": 63,
   "metadata": {
    "collapsed": false
   },
   "outputs": [],
   "source": [
    "codnames = cov_order(fwd2,X2.columns.values)"
   ]
  },
  {
   "cell_type": "code",
   "execution_count": 64,
   "metadata": {
    "collapsed": false
   },
   "outputs": [],
   "source": [
    "po = pval_comp(fwd2,X2.shape[1])"
   ]
  },
  {
   "cell_type": "code",
   "execution_count": 65,
   "metadata": {
    "collapsed": false
   },
   "outputs": [],
   "source": [
    "gg00 = 0.05\n",
    "af = alpha_F_m(gg00, X2.shape[1])"
   ]
  },
  {
   "cell_type": "code",
   "execution_count": 66,
   "metadata": {
    "collapsed": false
   },
   "outputs": [],
   "source": [
    "gf = gamma_F(po, X2.shape[1])"
   ]
  },
  {
   "cell_type": "code",
   "execution_count": 67,
   "metadata": {
    "collapsed": false
   },
   "outputs": [],
   "source": [
    "sss = np.arange(X2.shape[1])+1"
   ]
  },
  {
   "cell_type": "code",
   "execution_count": 68,
   "metadata": {
    "collapsed": false
   },
   "outputs": [],
   "source": [
    "fsr_results = fsrtable(sss, codnames, po, np.sort(po), af, gf)"
   ]
  },
  {
   "cell_type": "code",
   "execution_count": 69,
   "metadata": {
    "collapsed": false
   },
   "outputs": [
    {
     "data": {
      "text/html": [
       "<div style=\"max-height:1000px;max-width:1500px;overflow:auto;\">\n",
       "<table border=\"1\" class=\"dataframe\">\n",
       "  <thead>\n",
       "    <tr style=\"text-align: right;\">\n",
       "      <th></th>\n",
       "      <th>S</th>\n",
       "      <th>Var</th>\n",
       "      <th>p</th>\n",
       "      <th>p_s</th>\n",
       "      <th>alpha_F</th>\n",
       "      <th>gamma_F</th>\n",
       "    </tr>\n",
       "  </thead>\n",
       "  <tbody>\n",
       "    <tr>\n",
       "      <th>0 </th>\n",
       "      <td>  1</td>\n",
       "      <td>  V4</td>\n",
       "      <td> 3.070005e-10</td>\n",
       "      <td> 0.000000e+00</td>\n",
       "      <td> 0.007143</td>\n",
       "      <td> 0.000000e+00</td>\n",
       "    </tr>\n",
       "    <tr>\n",
       "      <th>1 </th>\n",
       "      <td>  2</td>\n",
       "      <td>  V7</td>\n",
       "      <td> 1.345091e-11</td>\n",
       "      <td> 1.110223e-16</td>\n",
       "      <td> 0.011538</td>\n",
       "      <td> 4.810966e-16</td>\n",
       "    </tr>\n",
       "    <tr>\n",
       "      <th>2 </th>\n",
       "      <td>  3</td>\n",
       "      <td>  V3</td>\n",
       "      <td> 1.110223e-16</td>\n",
       "      <td> 1.345091e-11</td>\n",
       "      <td> 0.016667</td>\n",
       "      <td> 4.035272e-11</td>\n",
       "    </tr>\n",
       "    <tr>\n",
       "      <th>3 </th>\n",
       "      <td>  4</td>\n",
       "      <td> V11</td>\n",
       "      <td> 0.000000e+00</td>\n",
       "      <td> 3.070005e-10</td>\n",
       "      <td> 0.022727</td>\n",
       "      <td> 6.754012e-10</td>\n",
       "    </tr>\n",
       "    <tr>\n",
       "      <th>4 </th>\n",
       "      <td>  5</td>\n",
       "      <td>  V2</td>\n",
       "      <td> 5.592588e-04</td>\n",
       "      <td> 5.592588e-04</td>\n",
       "      <td> 0.030000</td>\n",
       "      <td> 9.320980e-04</td>\n",
       "    </tr>\n",
       "    <tr>\n",
       "      <th>5 </th>\n",
       "      <td>  6</td>\n",
       "      <td> V10</td>\n",
       "      <td> 1.148310e-02</td>\n",
       "      <td> 1.148310e-02</td>\n",
       "      <td> 0.038889</td>\n",
       "      <td> 1.476399e-02</td>\n",
       "    </tr>\n",
       "    <tr>\n",
       "      <th>6 </th>\n",
       "      <td>  7</td>\n",
       "      <td>  V1</td>\n",
       "      <td> 1.587059e-02</td>\n",
       "      <td> 1.587059e-02</td>\n",
       "      <td> 0.050000</td>\n",
       "      <td> 1.587059e-02</td>\n",
       "    </tr>\n",
       "    <tr>\n",
       "      <th>7 </th>\n",
       "      <td>  8</td>\n",
       "      <td>  V5</td>\n",
       "      <td> 1.111889e-01</td>\n",
       "      <td> 9.086165e-02</td>\n",
       "      <td> 0.064286</td>\n",
       "      <td> 7.067017e-02</td>\n",
       "    </tr>\n",
       "    <tr>\n",
       "      <th>8 </th>\n",
       "      <td>  9</td>\n",
       "      <td> V15</td>\n",
       "      <td> 9.086165e-02</td>\n",
       "      <td> 1.111889e-01</td>\n",
       "      <td> 0.083333</td>\n",
       "      <td> 6.671337e-02</td>\n",
       "    </tr>\n",
       "    <tr>\n",
       "      <th>9 </th>\n",
       "      <td> 10</td>\n",
       "      <td> V12</td>\n",
       "      <td> 1.371262e-01</td>\n",
       "      <td> 1.371262e-01</td>\n",
       "      <td> 0.110000</td>\n",
       "      <td> 6.233007e-02</td>\n",
       "    </tr>\n",
       "    <tr>\n",
       "      <th>10</th>\n",
       "      <td> 11</td>\n",
       "      <td> V14</td>\n",
       "      <td> 2.147034e-01</td>\n",
       "      <td> 2.147034e-01</td>\n",
       "      <td> 0.150000</td>\n",
       "      <td> 7.156780e-02</td>\n",
       "    </tr>\n",
       "    <tr>\n",
       "      <th>11</th>\n",
       "      <td> 12</td>\n",
       "      <td>  V8</td>\n",
       "      <td> 2.563364e-01</td>\n",
       "      <td> 2.563364e-01</td>\n",
       "      <td> 0.216667</td>\n",
       "      <td> 5.915456e-02</td>\n",
       "    </tr>\n",
       "    <tr>\n",
       "      <th>12</th>\n",
       "      <td> 13</td>\n",
       "      <td>  V9</td>\n",
       "      <td> 3.735738e-01</td>\n",
       "      <td> 3.735738e-01</td>\n",
       "      <td> 0.350000</td>\n",
       "      <td> 5.336769e-02</td>\n",
       "    </tr>\n",
       "    <tr>\n",
       "      <th>13</th>\n",
       "      <td> 14</td>\n",
       "      <td>  V6</td>\n",
       "      <td> 6.493720e-01</td>\n",
       "      <td> 6.493720e-01</td>\n",
       "      <td> 0.750000</td>\n",
       "      <td> 4.329147e-02</td>\n",
       "    </tr>\n",
       "    <tr>\n",
       "      <th>14</th>\n",
       "      <td> 15</td>\n",
       "      <td> V13</td>\n",
       "      <td> 7.110283e-01</td>\n",
       "      <td> 7.110283e-01</td>\n",
       "      <td> 1.000000</td>\n",
       "      <td> 7.110283e-01</td>\n",
       "    </tr>\n",
       "  </tbody>\n",
       "</table>\n",
       "</div>"
      ],
      "text/plain": [
       "     S  Var             p           p_s   alpha_F       gamma_F\n",
       "0    1   V4  3.070005e-10  0.000000e+00  0.007143  0.000000e+00\n",
       "1    2   V7  1.345091e-11  1.110223e-16  0.011538  4.810966e-16\n",
       "2    3   V3  1.110223e-16  1.345091e-11  0.016667  4.035272e-11\n",
       "3    4  V11  0.000000e+00  3.070005e-10  0.022727  6.754012e-10\n",
       "4    5   V2  5.592588e-04  5.592588e-04  0.030000  9.320980e-04\n",
       "5    6  V10  1.148310e-02  1.148310e-02  0.038889  1.476399e-02\n",
       "6    7   V1  1.587059e-02  1.587059e-02  0.050000  1.587059e-02\n",
       "7    8   V5  1.111889e-01  9.086165e-02  0.064286  7.067017e-02\n",
       "8    9  V15  9.086165e-02  1.111889e-01  0.083333  6.671337e-02\n",
       "9   10  V12  1.371262e-01  1.371262e-01  0.110000  6.233007e-02\n",
       "10  11  V14  2.147034e-01  2.147034e-01  0.150000  7.156780e-02\n",
       "11  12   V8  2.563364e-01  2.563364e-01  0.216667  5.915456e-02\n",
       "12  13   V9  3.735738e-01  3.735738e-01  0.350000  5.336769e-02\n",
       "13  14   V6  6.493720e-01  6.493720e-01  0.750000  4.329147e-02\n",
       "14  15  V13  7.110283e-01  7.110283e-01  1.000000  7.110283e-01"
      ]
     },
     "execution_count": 69,
     "metadata": {},
     "output_type": "execute_result"
    }
   ],
   "source": [
    "fsr_results"
   ]
  },
  {
   "cell_type": "code",
   "execution_count": null,
   "metadata": {
    "collapsed": false
   },
   "outputs": [],
   "source": []
  }
 ],
 "metadata": {
  "kernelspec": {
   "display_name": "Python 2",
   "language": "python",
   "name": "python2"
  },
  "language_info": {
   "codemirror_mode": {
    "name": "ipython",
    "version": 2
   },
   "file_extension": ".py",
   "mimetype": "text/x-python",
   "name": "python",
   "nbconvert_exporter": "python",
   "pygments_lexer": "ipython2",
   "version": "2.7.9"
  }
 },
 "nbformat": 4,
 "nbformat_minor": 0
}
