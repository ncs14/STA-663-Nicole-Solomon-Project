{
 "cells": [
  {
   "cell_type": "code",
   "execution_count": 2,
   "metadata": {
    "collapsed": false
   },
   "outputs": [],
   "source": [
    "                            \"\"\" Pseudocode for Fast FSR algorithm \"\"\"\n",
    "\n",
    "\"\"\" Date: 4/1/15 \n",
    "    Modified: Output beta-hat estimates for final desired model \"\"\"\n",
    "\n",
    "    \n",
    "\"\"\" p-value computation function \"\"\"\n",
    "def pval_comp(max_size=None,prec_f=4):\n",
    "    \n",
    "    import scipy.stats as st\n",
    "    \n",
    "    ### Input params:\n",
    "    #   max_size = integer max no. of vars in final model (largest model size desired)\n",
    "    #   prec_f   = integer of precision (num digits) desired in FSR output table\n",
    "    \n",
    "    ### Output:\n",
    "    # array of p-values of each covariate at its given entry step\n",
    "    \n",
    "    ### NOTE: fwd should be a global-env R object (requires running 'forward' fcn prior to this fcn) ###\n",
    "    \n",
    "    # Pull RSS values & num_obs from fwd_proc object\n",
    "    rss = np.array(ro.r('fwd$rss'))\n",
    "    N = np.array(ro.r('fwd$nn'))\n",
    "    \n",
    "    if max_size==None:\n",
    "        max_size = len(rss)-1\n",
    "    \n",
    "    # compute the F stats as defined above where p_f - p_r = 1 for each iteration\n",
    "    fstats = (rss[0:max_size] - rss[1:(max_size+1)]) / (rss[1:(max_size+1)] / (N - (max_size+1)))\n",
    "    \n",
    "    # return the p-values by comparing these stats to the F distn: F(1, n - p_f)\n",
    "    return np.around(1 - st.f.cdf(fstats, 1, N-(max_size+1)),prec_f)\n",
    "\n",
    "\n",
    "\n",
    "\"\"\" Covariate model entry order \"\"\"\n",
    "def cov_order(xcolnames,max_size=None,col_incl=None):\n",
    "    \n",
    "    # Input params:\n",
    "    #   xcolnames = array of names of covariates (same order as columns in original dataset)\n",
    "    #   max_size  = integer max no. of vars in final model (largest model size desired)\n",
    "    #   col_incl  = array vector of columns to forcefully include in all models\n",
    "    \n",
    "    ### Output:\n",
    "    # array of covariate names sorted according to order of entry into the model\n",
    "    \n",
    "    ### NOTE: fwd should be a global-env R object (requires running 'forward' fcn prior to this fcn) ###\n",
    "    \n",
    "    if max_size==None:\n",
    "        max_size = len(xcolnames)\n",
    "        \n",
    "    ### Pull the cov entry order\n",
    "    vorder = ro.r('fwd$vorder[-1]') # remove intercept\n",
    "    vorder = vorder[0:max_size] # keep only the max model size number of covs\n",
    "    \n",
    "    ### Shift these values down by two (one to exclude intercept, one to make python indices)\n",
    "    vorderinds = np.array(vorder)-2\n",
    "    \n",
    "    ### Rearrange the var order st forced vars are at start of list\n",
    "    if col_incl==None:\n",
    "        col_incl = np.arange(max_size)+1\n",
    "    keep = xcolnames[[col_incl-1]] # pull var names of those vars forced into model (this is an array)\n",
    "    poss = [x for x in xcolnames if x not in keep] # pull var names of those not forced in (this is a list)\n",
    "    col_names = np.array(list(keep)+poss) # = rearranged array of varnames w/forced-in vars at start of list\n",
    "    \n",
    "    ### Sort the columns of X in order to obtain the var names in the entry order\n",
    "    return col_names[vorderinds[::]]\n",
    "\n",
    "    \n",
    "\n",
    "\"\"\" Forward selection function \"\"\"\n",
    "def forward(x,y,max_size=None,col_incl=None):\n",
    "    \n",
    "    ### Input params:\n",
    "    #   x        = python dataframe of original p covariates, n x p\n",
    "    #   y        = python outcome dataframe, n x 1\n",
    "    #   max_size = integer max no. of vars in final model (largest model size desired)\n",
    "    #   col_incl = array vector of columns to forcefully include in all models\n",
    "    \n",
    "    ### Output:\n",
    "    # regsubsets R object -- the raw full output of the forward selection proc\n",
    "    \n",
    "    ### Load python packages to call R functions\n",
    "    import rpy2.robjects as ro\n",
    "    import pandas.rpy.common as com\n",
    "    \n",
    "    ### Convert x and y to R matrices <-- MAKE SURE x,y input == DATAFRAMES (or else change them to df's)!!!\n",
    "    X = com.convert_to_r_matrix(x)\n",
    "    Y = com.convert_to_r_matrix(y)\n",
    "        \n",
    "    ### Declare all objects as R objects in global environment\n",
    "    ro.globalenv['x2'] = X\n",
    "    ro.globalenv['y2'] = Y\n",
    "    if max_size==None:\n",
    "        max_size = x.shape[1]\n",
    "    ro.globalenv['maxv'] = ro.Vector(max_size)\n",
    "    if col_incl==None:\n",
    "        ro.r('coli=NULL')\n",
    "    else:\n",
    "        ro.globalenv['coli'] = ro.FloatVector(col_incl[:])\n",
    "    \n",
    "    ### Perform forward selection with regsubsets function\n",
    "    ro.globalenv['fwd'] = ro.r('leaps::regsubsets(x=x2,y=y2,method=\"forward\",nvmax=maxv,force.in=coli)')\n",
    "    \n",
    "    \n",
    "    \n",
    "\"\"\" Alpha computation for model selection \"\"\"\n",
    "def alpha_F(g0, ncov, max_size=None, prec_f=6):\n",
    "    \n",
    "    ### Input params:\n",
    "    #   g0       = float pre-specified FSR (gamma0)\n",
    "    #   ncov     = integer total number of covariates in data\n",
    "    #   max_size = integer max no. of vars in final model (largest model size desired)\n",
    "    #   prec_f   = integer of precision (num digits) desired in FSR output table\n",
    "    \n",
    "    ### Output:\n",
    "    # array of alpha_F values\n",
    "    \n",
    "    if max_size==None:\n",
    "        max_size = ncov\n",
    "        \n",
    "    # Create indices == model size at given step, call this S\n",
    "    S = np.arange(max_size)+1\n",
    "    \n",
    "    # alpha_F_i = gamma_0 * (1 + S_i) / (ncov - S_i)\n",
    "    alpha_F = g0 * (1 + S) / (ncov - S)\n",
    "    \n",
    "    # if table run on all vars, the last alpha = inf\n",
    "    #  instead set equal to 1 == include all vars\n",
    "    alpha_F[np.isinf(alpha_F)] = 1.\n",
    "    \n",
    "    return np.around(alpha_F,prec_f)\n",
    "    \n",
    "    \n",
    "    \n",
    "\"\"\" Gamma computation \"\"\"\n",
    "def gamma_F(pvs, ncov, max_size=None, prec_f=4):\n",
    "    \n",
    "    import numpy as np\n",
    "    \n",
    "    ### Input params:\n",
    "    #   pvs      = vector of p-values (sorted or unsorted) from forward sel procedure\n",
    "    #   ncov     = integer total number of covariates in data\n",
    "    #   max_size = integer max no. of vars in final model (largest model size desired)\n",
    "    #   prec_f   = integer of precision (num digits) desired in FSR output table\n",
    "    \n",
    "    ### Output:\n",
    "    # array of gamma_F values\n",
    "    \n",
    "    # sort pvalues to be monotonically increasing \n",
    "    pv_s = np.sort(pvs)\n",
    "    \n",
    "    if max_size==None:\n",
    "        max_size = ncov\n",
    "        \n",
    "    # Create indices == model size at given step, call this S\n",
    "    S = np.arange(max_size)+1\n",
    "    \n",
    "    # gamma_F_i = p_s_i * (ncov - S_i) / (1 + S_i)\n",
    "    g_F = pv_s * (ncov - S) / (1 + S)\n",
    "    \n",
    "    # if table run on all vars, the last gamma = 0,\n",
    "    #  instead set equal to the last pv_sort == final rate of unimp var inclusion\n",
    "    if(g_F[-1]==0): \n",
    "        g_F[-1]=pv_s[-1]\n",
    "    \n",
    "    return np.around(g_F,prec_f)\n",
    "        \n",
    "    \n",
    "    \n",
    "\"\"\" Alpha computation for specific gamma \"\"\"\n",
    "def alpha_F_g(g, gf, ncov, prec_f):\n",
    "    \n",
    "    ### Input params:\n",
    "    #   g    = float or vector (length k) of specified FSR at which to compute alpha\n",
    "    #   gf   = vector gamma_F's computed from gamma0, pv_sorted\n",
    "    #          used to compute largest size model (S) for which gamma_F < g\n",
    "    #   ncov = integer of total number covariates in data\n",
    "    #   prec_f   = integer of precision (num digits) desired in FSR output table\n",
    "    \n",
    "    ### Output:\n",
    "    # integer alpha_F value\n",
    "    \n",
    "    ### Compute model size for gf closest to (but still <) g\n",
    "    #S = np.array([max(np.which(x<=y)) for x in gf y in g])+1\n",
    "    if isinstance(g,np.ndarray): # if g is a vector\n",
    "        s_s = [np.where(gf>y) for y in g]\n",
    "        S = np.array([min(x[0]) for x in s_s])\n",
    "        return np.around(g * (1 + S) / (ncov - S),prec_f)\n",
    "    else: # if g is a number\n",
    "        S = min(np.where(gf>g)[0])\n",
    "        return round(g * (1 + S) / (ncov - S),prec_f)\n",
    "\n",
    "\n",
    "    \n",
    "\"\"\" Beta-hat computation for specific gamma \"\"\"\n",
    "def beta_est(x, y, g, gf, vname, prec_b=6):\n",
    "    \n",
    "    ### Input params:\n",
    "    #   x      = python dataframe of original p covariates, n x p\n",
    "    #   y      = python outcome dataframe, n x 1\n",
    "    #   g      = float of specified FSR at which to compute alpha\n",
    "    #   gf     = vector gamma_F's computed from gamma0, pv_sorted\n",
    "    #            used to compute largest size model (S) for which gamma_F < g\n",
    "    #   vname  = ordered vector of names of vars entered into model under forward selection\n",
    "    #   prec_b = precision on beta-hat estimates\n",
    "    \n",
    "    ### Output:\n",
    "    # array of estimated parameters\n",
    "    \n",
    "    ### Compute model size corresponding to g\n",
    "    S = min(np.where(gf>g)[0])\n",
    "    \n",
    "    ### Pull the cov names of those vars included in the above size model\n",
    "    modvars = vname[:S]\n",
    "    \n",
    "    ### Create linear regression object\n",
    "    from sklearn import linear_model\n",
    "    linmod = linear_model.LinearRegression()\n",
    "\n",
    "    ### Fit the linear model using the selected model vars\n",
    "    linmod.fit(X2.loc[:,list(modvars)], Y2)\n",
    "    \n",
    "    return np.around(linmod.coef_, prec_b)\n",
    "\n",
    "    \n",
    "    \n",
    "\"\"\" FSR Results Table \"\"\"\n",
    "def fsrtable(size, vname, p_orig, p_sort, alphaf, gammaf):\n",
    "    \n",
    "    ### Input params:\n",
    "    #   size   = model size at each step of forward sel proc                   [S]\n",
    "    #   vname  = variable name that entered at each step (num vars = p)        [Var]\n",
    "    #   p_orig = p-values at each step                                         [p]\n",
    "    #   p_sort = ascending p-values                                            [p_s]\n",
    "    #   alphaf = alpha-to-enter (p-value cutoff) for model entry at each step  [alpha_F]\n",
    "    #   gammaf = FSR at each step                                              [gamma_F]\n",
    "    \n",
    "    ### Output:\n",
    "    # table of [S   Var   p   p_s   alpha_F   gamma_F], dim = num_steps(== p) x 6\n",
    "    \n",
    "    ### Convert all arrays to dataframes\n",
    "    sized = pd.DataFrame(size)\n",
    "    vnamed = pd.DataFrame(vname)\n",
    "    p_od = pd.DataFrame(p_orig)\n",
    "    p_sd = pd.DataFrame(p_sort)\n",
    "    ad = pd.DataFrame(alphaf)\n",
    "    gd = pd.DataFrame(gammaf)\n",
    "    \n",
    "    ### Combine the arrays\n",
    "    tab = pd.concat([sized,vnamed,p_od,p_sd,ad,gd],axis=1)\n",
    "    tab.columns = ['S','Var','p','p_s','alpha_F','gamma_F']\n",
    "    \n",
    "    return tab\n",
    "    \n",
    "    \n",
    "    \n",
    "\"\"\" FastFSR function \"\"\"\n",
    "def ffsr(x,y,g0=0.05,betaout=False,gs=None,max_size=None,var_incl=None,prec_f=4,prec_b=6):\n",
    "    \n",
    "    ### Input params:\n",
    "    #   x        = python dataframe of original p covariates, n x p\n",
    "    #   y        = python outcome dataframe, n x 1\n",
    "    #   g0       = float pre-specified FSR of interest (\"gamma0\")\n",
    "    #   gs       = float or vector of gamma's at which to specifically compute alpha_F\n",
    "    #   max_size = integer of largest model size == max num vars to incl in final model (default = num covs in dataset)\n",
    "    #   var_incl = array of cols corresponding to those vars to force into model\n",
    "    #   prec_f   = integer of precision (num digits) desired in FSR output table\n",
    "    #   prec_b   = integer of precision (num digits) desired in beta-hat parameter estimates of final model\n",
    "    \n",
    "    ### Output: \n",
    "    #      (note: gamma = FSR, gamma_0 = pre-specified/desired FSR)\n",
    "    # Table of [S   Var   p   p_s   alpha_F   gamma_F], dim = num_steps(== p) x 6\n",
    "    #   S:       model size at given step\n",
    "    #   Var:     name of var that entered at given step\n",
    "    #   p:       p-value of var that entered at given step\n",
    "    #   p_s:     sorted p-value (vector or original p-values sorted in increasing order)\n",
    "    #   alpha_F: cutoff value for model entry given gamma_0 and current p_s value\n",
    "    #   gamma_F: FSR given current alpha_F and model size (== step num)\n",
    "    #       and\n",
    "    # Vector of alpha_F's for specified gamma's (g)\n",
    "\n",
    "    import numpy as np\n",
    "    import pandas as pd\n",
    "    \n",
    "    ### Clean and check data\n",
    "    # make sure x,y = pandas dataframes or else convert them\n",
    "    try: \n",
    "        x.columns.values #isinstance(x,pd.DataFrame)\n",
    "    except:\n",
    "        if isinstance(x,np.ndarray):\n",
    "            x = pd.DataFrame(x)\n",
    "            vnum = list(np.arange(x.shape[1])+1)\n",
    "            vchr = list(np.repeat(\"V\",x.shape[1]))\n",
    "            x.columns = [a + str(b) for a,b in zip(vchr,vnum)]\n",
    "        else:\n",
    "            raise Exception(\"x must be pandas DataFrame\")\n",
    "    try: \n",
    "        y.columns.values #isinstance(y,pd.DataFrame)\n",
    "    except:\n",
    "        if isinstance(y,np.ndarray):\n",
    "            y = pd.DataFrame(y)\n",
    "        else:\n",
    "            raise Exception(\"y must be pandas DataFrame\")\n",
    "    \n",
    "    # remove missing values\n",
    "    yna = np.isnan(np.array(y))\n",
    "    xna = np.isnan(x).any(axis=1).reshape(x.shape[0],1)\n",
    "    anyna = np.array([int(max(a,b)) for a,b in zip(xna,yna)])\n",
    "    missrow = np.where(anyna==1)[0]\n",
    "    y = y.drop(y.index[missrow])\n",
    "    x = x.drop(x.index[missrow])\n",
    "    \n",
    "    # check that p < n to ensure regression solutions\n",
    "    if x.shape[1] >= x.shape[0]:\n",
    "        raise Exception(\"N must be > p for valid regression solutions\")\n",
    "    \n",
    "    ### If max model size not specified, select all possible cov.s\n",
    "    if max_size==None:\n",
    "        max_size = x.shape[1]\n",
    "        \n",
    "    ### Perform forward selection\n",
    "    fwd_sel = forward(x, y, max_size, var_incl)\n",
    "    \n",
    "    ### Save order of covariate entry into model\n",
    "    cov_entry_order = cov_order(x.columns.values, max_size, var_incl)\n",
    "    \n",
    "    ### Compute p-value of each covariate entering the model\n",
    "    p_orig = pval_comp(max_size, prec_f)\n",
    "    \n",
    "    ### Sort p-values in ascending order\n",
    "    p_sort = np.sort(p_orig)\n",
    "    \n",
    "    ### Alpha_F computation for all steps in fwd sel proc\n",
    "    a_F = alpha_F(g0, x.shape[1], max_size, prec_f)\n",
    "    \n",
    "    ### Gamma_F computation\n",
    "    g_F = gamma_F(p_sort, x.shape[1], max_size, prec_f)\n",
    "    \n",
    "    ### Model size\n",
    "    S = np.arange(max_size)+1\n",
    "    \n",
    "    ### Combine S, Cov_names, p-vals, sorted p-vals, alpha_F, gamma_F into table\n",
    "    fsr_results = fsrtable(S, cov_entry_order, p_orig, p_sort, a_F, g_F)\n",
    "    \n",
    "    ### Return selected output: FSR table (+ betahat) (+ alpha_specific)\n",
    "    if gs!=None: \n",
    "        ### Compute alpha_F for specific gammas (gs)\n",
    "        if betaout==True:\n",
    "            ### Compute beta_hat of model corresponding to specific gamma0\n",
    "            return fsr_results, beta_est(x, y, g0, g_F, cov_entry_order, prec_b), alpha_F_g(gs, g_f, x.shape[1])\n",
    "        else:\n",
    "            return fsr_results, alpha_F_g(gs, g_f, x.shape[1])\n",
    "    else:\n",
    "        if betaout==True:\n",
    "            ### Compute beta_hat of model corresponding to specific gamma0\n",
    "            return fsr_results, beta_est(x, y, g0, g_F, cov_entry_order, prec_b)\n",
    "        else:\n",
    "            return fsr_results\n",
    "\n",
    "# Notes: \n",
    "# 1. appropriate transformations are expected to have been applied prior to utilization of FSR algorithm\n",
    "\n",
    "# To-do:\n",
    "# 1. will need to adjust above functions to handle fwd_sel steps with tied p-values for >1 cov\n",
    "# 2. adjust for optimal bagging"
   ]
  },
  {
   "cell_type": "code",
   "execution_count": 1,
   "metadata": {
    "collapsed": false
   },
   "outputs": [],
   "source": [
    "###########################################################\n",
    "### Code to test / build functions:"
   ]
  },
  {
   "cell_type": "code",
   "execution_count": 1,
   "metadata": {
    "collapsed": false
   },
   "outputs": [],
   "source": [
    "#%load_ext rpy2.ipython # code to load/connect to R software"
   ]
  },
  {
   "cell_type": "code",
   "execution_count": 8,
   "metadata": {
    "collapsed": false
   },
   "outputs": [],
   "source": [
    "import rpy2.robjects as ro\n",
    "import pandas.rpy.common as com\n",
    "from rpy2.robjects.packages import importr\n",
    "\n",
    "# load R package\n",
    "leaps = importr('leaps')\n",
    "stats = importr('stats')\n",
    "base = importr('base')\n",
    "\n",
    "regsub = ro.r('leaps::regsubsets')"
   ]
  },
  {
   "cell_type": "code",
   "execution_count": 3,
   "metadata": {
    "collapsed": false
   },
   "outputs": [],
   "source": [
    "import numpy as np\n",
    "import pandas as pd\n",
    "\n",
    "np.random.seed(1234)\n",
    "\n",
    "X = np.random.multivariate_normal(np.zeros(15),np.eye(15),(100))\n",
    "beta = np.array([0,0,5,6,0,0,4,0,0,0,5,0,0,0,0]).reshape(15,1) # signif betas: 3,4,7,11\n",
    "Y = X.dot(beta)"
   ]
  },
  {
   "cell_type": "code",
   "execution_count": 4,
   "metadata": {
    "collapsed": false
   },
   "outputs": [],
   "source": [
    "Y2 = pd.DataFrame(Y)\n",
    "X2 = pd.DataFrame(X)\n",
    "X2.columns = [\"V1\",\"V2\",\"V3\",\"V4\",\"V5\",\"V6\",\"V7\",\"V8\",\"V9\",\"V10\",\"V11\",\"V12\",\"V13\",\"V14\",\"V15\"]"
   ]
  },
  {
   "cell_type": "code",
   "execution_count": 6,
   "metadata": {
    "collapsed": false
   },
   "outputs": [
    {
     "name": "stdout",
     "output_type": "stream",
     "text": [
      "2\n"
     ]
    }
   ],
   "source": [
    "# check type of Y2, Y\n",
    "if isinstance(Y,np.ndarray):\n",
    "    print 2\n",
    "else:\n",
    "    print 3\n",
    "\n",
    "if isinstance(Y2,pd.DataFrame):\n",
    "    print 2\n",
    "else:\n",
    "    print 3\n",
    "    \n",
    "if isinstance(Y2,np.ndarray):\n",
    "    print 2\n",
    "else:\n",
    "    print 3"
   ]
  },
  {
   "cell_type": "code",
   "execution_count": 35,
   "metadata": {
    "collapsed": false
   },
   "outputs": [
    {
     "name": "stdout",
     "output_type": "stream",
     "text": [
      "6    -0.359556\n",
      "7    -1.033754\n",
      "8          NaN\n",
      "9    -0.701835\n",
      "10   -0.638298\n",
      "Name: V1, dtype: float64\n",
      "\n",
      "6    -0.359556\n",
      "7    -1.033754\n",
      "9    -0.701835\n",
      "10   -0.638298\n",
      "Name: V1, dtype: float64\n",
      "\n",
      "-0.701834673191 -0.701834673191 -0.6382981958\n"
     ]
    }
   ],
   "source": [
    "# remove missing obs\n",
    "tx = np.random.multivariate_normal(np.zeros(15),np.eye(15),(100))\n",
    "tb = np.array([0,0,5,6,0,0,4,0,0,0,5,0,0,0,0]).reshape(15,1) # signif betas: 3,4,7,11\n",
    "ty= tx.dot(tb)\n",
    "ty[[0,5,14]] = 'NaN'\n",
    "tx[8,0], tx[40,5], tx[33,14] = 'NaN', 'NaN', 'NaN'\n",
    "tty = pd.DataFrame(ty)\n",
    "ttx = pd.DataFrame(tx)\n",
    "ttx.columns = [\"V1\",\"V2\",\"V3\",\"V4\",\"V5\",\"V6\",\"V7\",\"V8\",\"V9\",\"V10\",\"V11\",\"V12\",\"V13\",\"V14\",\"V15\"]\n",
    "#yna = np.isnan(np.array(tty))\n",
    "yna = np.isnan(tty).any(axis=1)\n",
    "xna = np.isnan(ttx).any(axis=1).reshape(100,1)\n",
    "anyna = np.array([int(max(x,y)) for x,y in zip(xna,yna)])\n",
    "\n",
    "mrow = np.where(anyna==1)[0]\n",
    "tyt = tty.drop(tty.index[mrow])\n",
    "tyt.shape\n",
    "txt = ttx.drop(ttx.index[mrow])\n",
    "txt.shape\n",
    "print ttx.iloc[6:11,0]\n",
    "print\n",
    "print txt.iloc[4:8,0]\n",
    "print\n",
    "print ttx.iloc[9,0], txt.iloc[6,0], txt.iloc[7,0] # original 9(8) --> new 6 [moves up by one for each of 0,5,8]"
   ]
  },
  {
   "cell_type": "code",
   "execution_count": 26,
   "metadata": {
    "collapsed": false
   },
   "outputs": [
    {
     "name": "stdout",
     "output_type": "stream",
     "text": [
      "['V1', 'V2', 'V3', 'V4']\n",
      "1one2two3three4four5five\n",
      "<type 'str'>\n"
     ]
    }
   ],
   "source": [
    "blah = [1,2,3,4]\n",
    "blaah = list(np.repeat(\"V\",4))\n",
    "blaaah = [a + str(b) for a,b in zip(blaah,blah)]\n",
    "print blaaah\n",
    "\n",
    "list1 = [1,2,3,4,5]\n",
    "list2 = [\"one\", \"two\", \"three\", \"four\", \"five\"]\n",
    "\n",
    "print ''.join([str(a) + b for a,b in zip(list1,list2)])\n",
    "print type(list2[0])"
   ]
  },
  {
   "cell_type": "code",
   "execution_count": 46,
   "metadata": {
    "collapsed": false
   },
   "outputs": [
    {
     "ename": "Exception",
     "evalue": "N must be > p for valid regression solutions",
     "output_type": "error",
     "traceback": [
      "\u001b[1;31m---------------------------------------------------------------------------\u001b[0m\n\u001b[1;31mException\u001b[0m                                 Traceback (most recent call last)",
      "\u001b[1;32m<ipython-input-46-4cff4fa9b5d2>\u001b[0m in \u001b[0;36m<module>\u001b[1;34m()\u001b[0m\n\u001b[1;32m----> 1\u001b[1;33m \u001b[0mffsr\u001b[0m\u001b[1;33m(\u001b[0m\u001b[0mttx\u001b[0m\u001b[1;33m.\u001b[0m\u001b[0miloc\u001b[0m\u001b[1;33m[\u001b[0m\u001b[1;36m0\u001b[0m\u001b[1;33m:\u001b[0m\u001b[1;36m14\u001b[0m\u001b[1;33m,\u001b[0m\u001b[1;33m:\u001b[0m\u001b[1;33m]\u001b[0m\u001b[1;33m,\u001b[0m\u001b[0mtty\u001b[0m\u001b[1;33m.\u001b[0m\u001b[0miloc\u001b[0m\u001b[1;33m[\u001b[0m\u001b[1;36m0\u001b[0m\u001b[1;33m:\u001b[0m\u001b[1;36m14\u001b[0m\u001b[1;33m,\u001b[0m\u001b[1;33m:\u001b[0m\u001b[1;33m]\u001b[0m\u001b[1;33m)\u001b[0m\u001b[1;33m\u001b[0m\u001b[0m\n\u001b[0m\u001b[0;32m      2\u001b[0m \u001b[1;31m#np.where(np.isnan(ttx))\u001b[0m\u001b[1;33m\u001b[0m\u001b[1;33m\u001b[0m\u001b[0m\n",
      "\u001b[1;32m<ipython-input-45-92e97b5d106d>\u001b[0m in \u001b[0;36mffsr\u001b[1;34m(x, y, g0, gs, max_size, var_incl)\u001b[0m\n\u001b[0;32m    271\u001b[0m     \u001b[1;31m# check that p < n to ensure regression solutions\u001b[0m\u001b[1;33m\u001b[0m\u001b[1;33m\u001b[0m\u001b[0m\n\u001b[0;32m    272\u001b[0m     \u001b[1;32mif\u001b[0m \u001b[0mx\u001b[0m\u001b[1;33m.\u001b[0m\u001b[0mshape\u001b[0m\u001b[1;33m[\u001b[0m\u001b[1;36m1\u001b[0m\u001b[1;33m]\u001b[0m \u001b[1;33m>=\u001b[0m \u001b[0mx\u001b[0m\u001b[1;33m.\u001b[0m\u001b[0mshape\u001b[0m\u001b[1;33m[\u001b[0m\u001b[1;36m0\u001b[0m\u001b[1;33m]\u001b[0m\u001b[1;33m:\u001b[0m\u001b[1;33m\u001b[0m\u001b[0m\n\u001b[1;32m--> 273\u001b[1;33m         \u001b[1;32mraise\u001b[0m \u001b[0mException\u001b[0m\u001b[1;33m(\u001b[0m\u001b[1;34m\"N must be > p for valid regression solutions\"\u001b[0m\u001b[1;33m)\u001b[0m\u001b[1;33m\u001b[0m\u001b[0m\n\u001b[0m\u001b[0;32m    274\u001b[0m \u001b[1;33m\u001b[0m\u001b[0m\n\u001b[0;32m    275\u001b[0m     \u001b[1;31m### If max model size not specified, select all possible cov.s\u001b[0m\u001b[1;33m\u001b[0m\u001b[1;33m\u001b[0m\u001b[0m\n",
      "\u001b[1;31mException\u001b[0m: N must be > p for valid regression solutions"
     ]
    }
   ],
   "source": [
    "ffsr(ttx.iloc[0:14,:],tty.iloc[0:14,:])\n",
    "#np.where(np.isnan(ttx))"
   ]
  },
  {
   "cell_type": "code",
   "execution_count": 55,
   "metadata": {
    "collapsed": false
   },
   "outputs": [],
   "source": [
    "y2 = com.convert_to_r_matrix(Y2)\n",
    "x2 = com.convert_to_r_matrix(X2)\n",
    "fi = np.array([2,3,13])\n",
    "mv = 8\n",
    "ro.globalenv['mv'] = ro.Vector(mv)\n",
    "ro.globalenv['x2'] = x2\n",
    "ro.globalenv['y2'] = y2\n",
    "ro.globalenv['fi'] = ro.FloatVector(fi[:])"
   ]
  },
  {
   "cell_type": "code",
   "execution_count": 89,
   "metadata": {
    "collapsed": false
   },
   "outputs": [],
   "source": [
    "ro.globalenv['out2'] = ro.r('leaps::regsubsets(x=x2,y=y2,method=\"forward\",nvmax=ncol(x2),force.in=fi)')\n",
    "\n",
    "ro.globalenv['out2'] = ro.r('leaps::regsubsets(x=x2,y=y2,method=\"forward\",nvmax=mv,force.in=fi)')\n",
    "out = ro.r('leaps::regsubsets(x=x2,y=y2,method=\"forward\",nvmax=mv,force.in=fi)')"
   ]
  },
  {
   "cell_type": "code",
   "execution_count": 83,
   "metadata": {
    "collapsed": false
   },
   "outputs": [
    {
     "name": "stdout",
     "output_type": "stream",
     "text": [
      "Subset selection object\n",
      "15 Variables  (and intercept)\n",
      "    Forced in Forced out\n",
      "V2      FALSE      FALSE\n",
      "V3       TRUE      FALSE\n",
      "V13      TRUE      FALSE\n",
      "V1      FALSE      FALSE\n",
      "V4      FALSE      FALSE\n",
      "V5      FALSE      FALSE\n",
      "V6      FALSE      FALSE\n",
      "V7      FALSE      FALSE\n",
      "V8      FALSE      FALSE\n",
      "V9      FALSE      FALSE\n",
      "V10     FALSE      FALSE\n",
      "V11     FALSE      FALSE\n",
      "V12      TRUE      FALSE\n",
      "V14     FALSE      FALSE\n",
      "V15     FALSE      FALSE\n",
      "1 subsets of each size up to 8\n",
      "Selection Algorithm: forward\n",
      "         V2  V3  V13 V1  V4  V5  V6  V7  V8  V9  V10 V11 V12 V14 V15\n",
      "4  ( 1 ) \"*\" \"*\" \"*\" \" \" \"*\" \" \" \" \" \" \" \" \" \" \" \" \" \" \" \" \" \" \" \" \"\n",
      "5  ( 1 ) \"*\" \"*\" \"*\" \" \" \"*\" \" \" \" \" \" \" \" \" \" \" \" \" \"*\" \" \" \" \" \" \"\n",
      "6  ( 1 ) \"*\" \"*\" \"*\" \" \" \"*\" \" \" \" \" \"*\" \" \" \" \" \" \" \"*\" \" \" \" \" \" \"\n",
      "7  ( 1 ) \"*\" \"*\" \"*\" \" \" \"*\" \" \" \" \" \"*\" \"*\" \" \" \" \" \"*\" \" \" \" \" \" \"\n",
      "8  ( 1 ) \"*\" \"*\" \"*\" \" \" \"*\" \" \" \" \" \"*\" \"*\" \" \" \" \" \"*\" \" \" \"*\" \" \"\n",
      "\n",
      " [1]  1  2  3  4  6 13  9 10 15 12 11 16  8  5  7 14\n",
      "\n",
      " [1]  2  3  4  6 13  9 10 15 12 11 16  8  5  7 14\n",
      "\n"
     ]
    }
   ],
   "source": [
    "#ro.globalenv['out2'] = out\n",
    "print (ro.r('summary(out2)'))\n",
    "print(ro.r('out2$vorder'))    ### NOTE: even though restricted to nvmax = 8 vars, vorder is still full dataset col length!!\n",
    "print(ro.r('out2$vorder[-1]'))"
   ]
  },
  {
   "cell_type": "code",
   "execution_count": 69,
   "metadata": {
    "collapsed": false
   },
   "outputs": [
    {
     "name": "stdout",
     "output_type": "stream",
     "text": [
      " [1]  2  3  4  6 13  9 10 15 12 11 16  8  5  7 14\n",
      "\n",
      "[1]  2  3  4  6 13  9 10 15\n",
      "\n",
      "\n",
      "[1]  2  3  4  6 13  9 10 15\n",
      "\n",
      "\n",
      "[1, 2, 3, 5, 12, 8, 9, 14]\n",
      "\n",
      "['V2' 'V3' 'V13' 'V4' 'V11' 'V7' 'V8' 'V14']\n",
      "<type 'numpy.ndarray'>\n"
     ]
    }
   ],
   "source": [
    "varorder = ro.r('out2$vorder[-1]') # NOTE: this order assumes the forced vars at the start of the list!!!\n",
    "print varorder\n",
    "print varorder[0:mv]\n",
    "varorder = varorder[0:mv] # keep only the max-size desired\n",
    "print\n",
    "print varorder\n",
    "print \n",
    "vorder2 = np.array(varorder)-2 # remove intercept and make python indices\n",
    "print list(vorder2+1)\n",
    "print\n",
    "# rearrange the var order st forced vars are at start of list\n",
    "col_nam = X2.columns.values\n",
    "keep = col_nam[[fi-1]]\n",
    "poss = [x for x in col_nam if x not in keep]\n",
    "col_nam2 = np.array(list(keep)+poss)\n",
    "# print the vars in order of inclusion in model\n",
    "vnames = col_nam2[vorder2[::]]\n",
    "print vnames\n",
    "print type(vnames)"
   ]
  },
  {
   "cell_type": "code",
   "execution_count": 46,
   "metadata": {
    "collapsed": false
   },
   "outputs": [
    {
     "name": "stdout",
     "output_type": "stream",
     "text": [
      "[  6.23703732e-01   1.60657427e+00   2.04019097e+00   2.67362903e+00\n",
      "   3.71414778e+01   8.57468967e+01   1.61829793e+02   7.71589798e+31]\n",
      "\n",
      "[ 0.     0.     0.     0.     0.105  0.157  0.208  0.432]\n"
     ]
    }
   ],
   "source": [
    "ncs = np.arange(mv)\n",
    "nn = np.array(ro.r('out2$nn'))\n",
    "rss = np.array(ro.r('out2$rss'))\n",
    "fstats = (rss[:mv] - rss[1:(mv+1)]) / ( rss[1:(mv+1)] / (nn - (mv+1)))\n",
    "print np.sort(fstats)\n",
    "import scipy.stats as st\n",
    "ps = 1 - st.f.cdf(fstats, 1, nn-(mv+1))\n",
    "print\n",
    "print np.around(np.sort(ps),3)"
   ]
  },
  {
   "cell_type": "code",
   "execution_count": 49,
   "metadata": {
    "collapsed": false
   },
   "outputs": [
    {
     "name": "stdout",
     "output_type": "stream",
     "text": [
      "[  4.31727329e-01   2.60529781e-08   2.08207884e-01   8.99280650e-15\n",
      "   1.11022302e-16   0.00000000e+00   1.05477783e-01   1.56613699e-01]\n"
     ]
    }
   ],
   "source": [
    "sizes = np.arange(mv)+1\n",
    "print ps"
   ]
  },
  {
   "cell_type": "code",
   "execution_count": 48,
   "metadata": {
    "collapsed": false
   },
   "outputs": [
    {
     "name": "stdout",
     "output_type": "stream",
     "text": [
      "<class 'pandas.core.frame.DataFrame'>\n",
      "  Vname  Size             p\n",
      "0    V2     1  4.317273e-01\n",
      "1    V3     2  2.605298e-08\n",
      "2   V13     3  2.082079e-01\n",
      "3    V4     4  8.992806e-15\n",
      "4   V11     5  1.110223e-16\n",
      "5    V7     6  0.000000e+00\n",
      "6    V8     7  1.054778e-01\n",
      "7   V14     8  1.566137e-01\n"
     ]
    }
   ],
   "source": [
    "cnam = pd.DataFrame(vnames)\n",
    "sz = pd.DataFrame(sizes)\n",
    "psd = pd.DataFrame(ps)\n",
    "ttt = pd.concat([cnam,sz,psd],axis=1)\n",
    "ttt.columns = ['Vname','Size','p']\n",
    "print type(ttt)\n",
    "print ttt"
   ]
  },
  {
   "cell_type": "code",
   "execution_count": 48,
   "metadata": {
    "collapsed": false
   },
   "outputs": [],
   "source": [
    "###########################################################\n",
    "### Test functions:"
   ]
  },
  {
   "cell_type": "code",
   "execution_count": 9,
   "metadata": {
    "collapsed": false
   },
   "outputs": [],
   "source": [
    "fwd_r = forward(X2,Y2)"
   ]
  },
  {
   "cell_type": "code",
   "execution_count": 10,
   "metadata": {
    "collapsed": false
   },
   "outputs": [
    {
     "name": "stdout",
     "output_type": "stream",
     "text": [
      "['V4' 'V7' 'V3' 'V11' 'V2' 'V10' 'V1' 'V5' 'V15' 'V12' 'V14' 'V8' 'V9' 'V6'\n",
      " 'V13']\n",
      " [1]  1  5  8  4 12  3 11  2  6 16 13 15  9 10  7 14\n",
      "\n"
     ]
    }
   ],
   "source": [
    "codnames = cov_order(X2.columns.values)\n",
    "\n",
    "print codnames\n",
    "\n",
    "print ro.r('fwd$vorder')\n",
    "# ro.globalenv['out_cov'] = fwd_proc\n",
    "    \n",
    "# ### Pull the cov entry order\n",
    "# vorder = ro.r('out_cov$vorder[-1]') # remove intercept\n",
    "# vorder = vorder[0:max_size] # keep only the max model size number of covs\n",
    "\n",
    "# ### Shift these values down by two (one to exclude intercept, one to make python indices)\n",
    "# vorderinds = np.array(vorder)-2\n",
    "\n",
    "# ### Rearrange the var order st forced vars are at start of list\n",
    "# col_names = xcolnames\n",
    "# keep = col_nam[[col_incl-1]] # pull var names of those vars forced into model (this is an array)\n",
    "# poss = [x for x in col_nam if x not in keep] # pull var names of those not forced in (this is a list)\n",
    "# col_names2 = np.array(list(keep)+poss) # = rearranged array of varnames w/forced-in vars at start of list\n",
    "\n",
    "# ### Sort the columns of X in order to obtain the var names in the entry order\n",
    "# return col_names2[vorderinds[::]]"
   ]
  },
  {
   "cell_type": "code",
   "execution_count": 11,
   "metadata": {
    "collapsed": false
   },
   "outputs": [],
   "source": [
    "po = pval_comp(X2.shape[1])"
   ]
  },
  {
   "cell_type": "code",
   "execution_count": 12,
   "metadata": {
    "collapsed": false
   },
   "outputs": [],
   "source": [
    "gg00 = 0.05\n",
    "af = alpha_F(gg00, X2.shape[1])"
   ]
  },
  {
   "cell_type": "code",
   "execution_count": 13,
   "metadata": {
    "collapsed": false
   },
   "outputs": [],
   "source": [
    "gf = gamma_F(po, X2.shape[1])"
   ]
  },
  {
   "cell_type": "code",
   "execution_count": 14,
   "metadata": {
    "collapsed": false
   },
   "outputs": [],
   "source": [
    "sss = np.arange(X2.shape[1])+1"
   ]
  },
  {
   "cell_type": "code",
   "execution_count": 15,
   "metadata": {
    "collapsed": false
   },
   "outputs": [],
   "source": [
    "fsr_results = fsrtable(sss, codnames, po, np.sort(po), af, gf)"
   ]
  },
  {
   "cell_type": "code",
   "execution_count": 16,
   "metadata": {
    "collapsed": false
   },
   "outputs": [
    {
     "data": {
      "text/html": [
       "<div style=\"max-height:1000px;max-width:1500px;overflow:auto;\">\n",
       "<table border=\"1\" class=\"dataframe\">\n",
       "  <thead>\n",
       "    <tr style=\"text-align: right;\">\n",
       "      <th></th>\n",
       "      <th>S</th>\n",
       "      <th>Var</th>\n",
       "      <th>p</th>\n",
       "      <th>p_s</th>\n",
       "      <th>alpha_F</th>\n",
       "      <th>gamma_F</th>\n",
       "    </tr>\n",
       "  </thead>\n",
       "  <tbody>\n",
       "    <tr>\n",
       "      <th>0 </th>\n",
       "      <td>  1</td>\n",
       "      <td>  V4</td>\n",
       "      <td> 0.0000</td>\n",
       "      <td> 0.0000</td>\n",
       "      <td> 0.007143</td>\n",
       "      <td> 0.0000</td>\n",
       "    </tr>\n",
       "    <tr>\n",
       "      <th>1 </th>\n",
       "      <td>  2</td>\n",
       "      <td>  V7</td>\n",
       "      <td> 0.0000</td>\n",
       "      <td> 0.0000</td>\n",
       "      <td> 0.011538</td>\n",
       "      <td> 0.0000</td>\n",
       "    </tr>\n",
       "    <tr>\n",
       "      <th>2 </th>\n",
       "      <td>  3</td>\n",
       "      <td>  V3</td>\n",
       "      <td> 0.0000</td>\n",
       "      <td> 0.0000</td>\n",
       "      <td> 0.016667</td>\n",
       "      <td> 0.0000</td>\n",
       "    </tr>\n",
       "    <tr>\n",
       "      <th>3 </th>\n",
       "      <td>  4</td>\n",
       "      <td> V11</td>\n",
       "      <td> 0.0000</td>\n",
       "      <td> 0.0000</td>\n",
       "      <td> 0.022727</td>\n",
       "      <td> 0.0000</td>\n",
       "    </tr>\n",
       "    <tr>\n",
       "      <th>4 </th>\n",
       "      <td>  5</td>\n",
       "      <td>  V2</td>\n",
       "      <td> 0.0006</td>\n",
       "      <td> 0.0006</td>\n",
       "      <td> 0.030000</td>\n",
       "      <td> 0.0010</td>\n",
       "    </tr>\n",
       "    <tr>\n",
       "      <th>5 </th>\n",
       "      <td>  6</td>\n",
       "      <td> V10</td>\n",
       "      <td> 0.0115</td>\n",
       "      <td> 0.0115</td>\n",
       "      <td> 0.038889</td>\n",
       "      <td> 0.0148</td>\n",
       "    </tr>\n",
       "    <tr>\n",
       "      <th>6 </th>\n",
       "      <td>  7</td>\n",
       "      <td>  V1</td>\n",
       "      <td> 0.0159</td>\n",
       "      <td> 0.0159</td>\n",
       "      <td> 0.050000</td>\n",
       "      <td> 0.0159</td>\n",
       "    </tr>\n",
       "    <tr>\n",
       "      <th>7 </th>\n",
       "      <td>  8</td>\n",
       "      <td>  V5</td>\n",
       "      <td> 0.1112</td>\n",
       "      <td> 0.0909</td>\n",
       "      <td> 0.064286</td>\n",
       "      <td> 0.0707</td>\n",
       "    </tr>\n",
       "    <tr>\n",
       "      <th>8 </th>\n",
       "      <td>  9</td>\n",
       "      <td> V15</td>\n",
       "      <td> 0.0909</td>\n",
       "      <td> 0.1112</td>\n",
       "      <td> 0.083333</td>\n",
       "      <td> 0.0667</td>\n",
       "    </tr>\n",
       "    <tr>\n",
       "      <th>9 </th>\n",
       "      <td> 10</td>\n",
       "      <td> V12</td>\n",
       "      <td> 0.1371</td>\n",
       "      <td> 0.1371</td>\n",
       "      <td> 0.110000</td>\n",
       "      <td> 0.0623</td>\n",
       "    </tr>\n",
       "    <tr>\n",
       "      <th>10</th>\n",
       "      <td> 11</td>\n",
       "      <td> V14</td>\n",
       "      <td> 0.2147</td>\n",
       "      <td> 0.2147</td>\n",
       "      <td> 0.150000</td>\n",
       "      <td> 0.0716</td>\n",
       "    </tr>\n",
       "    <tr>\n",
       "      <th>11</th>\n",
       "      <td> 12</td>\n",
       "      <td>  V8</td>\n",
       "      <td> 0.2563</td>\n",
       "      <td> 0.2563</td>\n",
       "      <td> 0.216667</td>\n",
       "      <td> 0.0591</td>\n",
       "    </tr>\n",
       "    <tr>\n",
       "      <th>12</th>\n",
       "      <td> 13</td>\n",
       "      <td>  V9</td>\n",
       "      <td> 0.3736</td>\n",
       "      <td> 0.3736</td>\n",
       "      <td> 0.350000</td>\n",
       "      <td> 0.0534</td>\n",
       "    </tr>\n",
       "    <tr>\n",
       "      <th>13</th>\n",
       "      <td> 14</td>\n",
       "      <td>  V6</td>\n",
       "      <td> 0.6494</td>\n",
       "      <td> 0.6494</td>\n",
       "      <td> 0.750000</td>\n",
       "      <td> 0.0433</td>\n",
       "    </tr>\n",
       "    <tr>\n",
       "      <th>14</th>\n",
       "      <td> 15</td>\n",
       "      <td> V13</td>\n",
       "      <td> 0.7110</td>\n",
       "      <td> 0.7110</td>\n",
       "      <td> 1.000000</td>\n",
       "      <td> 0.7110</td>\n",
       "    </tr>\n",
       "  </tbody>\n",
       "</table>\n",
       "</div>"
      ],
      "text/plain": [
       "     S  Var       p     p_s   alpha_F  gamma_F\n",
       "0    1   V4  0.0000  0.0000  0.007143   0.0000\n",
       "1    2   V7  0.0000  0.0000  0.011538   0.0000\n",
       "2    3   V3  0.0000  0.0000  0.016667   0.0000\n",
       "3    4  V11  0.0000  0.0000  0.022727   0.0000\n",
       "4    5   V2  0.0006  0.0006  0.030000   0.0010\n",
       "5    6  V10  0.0115  0.0115  0.038889   0.0148\n",
       "6    7   V1  0.0159  0.0159  0.050000   0.0159\n",
       "7    8   V5  0.1112  0.0909  0.064286   0.0707\n",
       "8    9  V15  0.0909  0.1112  0.083333   0.0667\n",
       "9   10  V12  0.1371  0.1371  0.110000   0.0623\n",
       "10  11  V14  0.2147  0.2147  0.150000   0.0716\n",
       "11  12   V8  0.2563  0.2563  0.216667   0.0591\n",
       "12  13   V9  0.3736  0.3736  0.350000   0.0534\n",
       "13  14   V6  0.6494  0.6494  0.750000   0.0433\n",
       "14  15  V13  0.7110  0.7110  1.000000   0.7110"
      ]
     },
     "execution_count": 16,
     "metadata": {},
     "output_type": "execute_result"
    }
   ],
   "source": [
    "fsr_results"
   ]
  },
  {
   "cell_type": "code",
   "execution_count": 18,
   "metadata": {
    "collapsed": false
   },
   "outputs": [
    {
     "name": "stdout",
     "output_type": "stream",
     "text": [
      "     S  Var       p     p_s  alpha_F  gamma_F\n",
      "0    1   V4  0.0000  0.0000   0.0071   0.0000\n",
      "1    2   V7  0.0000  0.0000   0.0115   0.0000\n",
      "2    3   V3  0.0000  0.0000   0.0167   0.0000\n",
      "3    4  V11  0.0000  0.0000   0.0227   0.0000\n",
      "4    5   V2  0.0006  0.0006   0.0300   0.0010\n",
      "5    6  V10  0.0115  0.0115   0.0389   0.0148\n",
      "6    7   V1  0.0159  0.0159   0.0500   0.0159\n",
      "7    8   V5  0.1112  0.0909   0.0643   0.0707\n",
      "8    9  V15  0.0909  0.1112   0.0833   0.0667\n",
      "9   10  V12  0.1371  0.1371   0.1100   0.0623\n",
      "10  11  V14  0.2147  0.2147   0.1500   0.0716\n",
      "11  12   V8  0.2563  0.2563   0.2167   0.0591\n",
      "12  13   V9  0.3736  0.3736   0.3500   0.0534\n",
      "13  14   V6  0.6494  0.6494   0.7500   0.0433\n",
      "14  15  V13  0.7110  0.7110   1.0000   0.7110\n",
      "\n",
      "[[ 6.  4.  5.  5.  0.  0.  0.]]\n"
     ]
    }
   ],
   "source": [
    "ftab, bhats = ffsr(X2,Y2,0.05,betaout=True)\n",
    "print ftab\n",
    "print\n",
    "print bhats"
   ]
  },
  {
   "cell_type": "code",
   "execution_count": 6,
   "metadata": {
    "collapsed": false
   },
   "outputs": [
    {
     "name": "stdout",
     "output_type": "stream",
     "text": [
      "0.003\n",
      "[ 0.05   0.003]\n"
     ]
    }
   ],
   "source": [
    "gs = ftab.gamma_F\n",
    "isinstance(np.array([0.05,0.1]),np.ndarray)\n",
    "sub = [np.where(gs>y) for y in np.array([0.05,0.1])]\n",
    "sub\n",
    "ss = [min(x[0]) for x in sub]\n",
    "ss\n",
    "min(np.where(gs>0.05)[0])\n",
    "print alpha_F_g(0.005,gs,15)\n",
    "print alpha_F_g(np.array([0.05,0.005]),gs,15)\n",
    "#ss = np.array([max(np.which(x<=0.05)) for x in ftab.gamma_F])+1"
   ]
  },
  {
   "cell_type": "code",
   "execution_count": 7,
   "metadata": {
    "collapsed": false
   },
   "outputs": [],
   "source": [
    "ss = min(np.where(gs>0.005)[0])\n",
    "ss\n",
    "vs = ftab.Var[0:ss]"
   ]
  },
  {
   "cell_type": "code",
   "execution_count": 8,
   "metadata": {
    "collapsed": false
   },
   "outputs": [],
   "source": [
    "import time"
   ]
  },
  {
   "cell_type": "code",
   "execution_count": 9,
   "metadata": {
    "collapsed": false
   },
   "outputs": [
    {
     "data": {
      "text/plain": [
       "0.05408811569213867"
      ]
     },
     "execution_count": 9,
     "metadata": {},
     "output_type": "execute_result"
    }
   ],
   "source": [
    "start = time.time()\n",
    "\n",
    "from sklearn import linear_model\n",
    "# Create linear regression object\n",
    "regr = linear_model.LinearRegression()\n",
    "\n",
    "# Train the model using the training sets\n",
    "regr.fit(X2, Y2)\n",
    "\n",
    "# The coefficients\n",
    "modvar = regr.coef_\n",
    "\n",
    "(time.time() - start)"
   ]
  },
  {
   "cell_type": "code",
   "execution_count": 10,
   "metadata": {
    "collapsed": false
   },
   "outputs": [
    {
     "data": {
      "text/plain": [
       "0.10325002670288086"
      ]
     },
     "execution_count": 10,
     "metadata": {},
     "output_type": "execute_result"
    }
   ],
   "source": [
    "start = time.time()\n",
    "\n",
    "import statsmodels.api as sm\n",
    "mod = sm.OLS(Y2, X2)\n",
    "rs = mod.fit()\n",
    "modvar2 = rs.params\n",
    "\n",
    "(time.time() - start)"
   ]
  },
  {
   "cell_type": "code",
   "execution_count": 15,
   "metadata": {
    "collapsed": false
   },
   "outputs": [
    {
     "data": {
      "text/plain": [
       "array([[ True,  True,  True,  True,  True,  True,  True,  True,  True,\n",
       "         True,  True,  True,  True,  True,  True]], dtype=bool)"
      ]
     },
     "execution_count": 15,
     "metadata": {},
     "output_type": "execute_result"
    }
   ],
   "source": [
    "np.isclose(rs.params,regr.coef_)"
   ]
  },
  {
   "cell_type": "code",
   "execution_count": 29,
   "metadata": {
    "collapsed": false
   },
   "outputs": [
    {
     "data": {
      "text/plain": [
       "['V4', 'V7', 'V3', 'V11', 'V2']"
      ]
     },
     "execution_count": 29,
     "metadata": {},
     "output_type": "execute_result"
    }
   ],
   "source": [
    "list(vs)"
   ]
  },
  {
   "cell_type": "code",
   "execution_count": 32,
   "metadata": {
    "collapsed": false
   },
   "outputs": [
    {
     "data": {
      "text/plain": [
       "array([[  6.00000000e+00,   4.00000000e+00,   5.00000000e+00,\n",
       "          5.00000000e+00,  -1.33226763e-15]])"
      ]
     },
     "execution_count": 32,
     "metadata": {},
     "output_type": "execute_result"
    }
   ],
   "source": [
    "#X2.loc[:,'V1']\n",
    "regr.fit(X2.loc[:,list(vs)], Y2)\n",
    "\n",
    "# The coefficients\n",
    "modvar = regr.coef_\n",
    "modvar"
   ]
  },
  {
   "cell_type": "code",
   "execution_count": 161,
   "metadata": {
    "collapsed": false
   },
   "outputs": [
    {
     "data": {
      "text/html": [
       "<div style=\"max-height:1000px;max-width:1500px;overflow:auto;\">\n",
       "<table border=\"1\" class=\"dataframe\">\n",
       "  <thead>\n",
       "    <tr style=\"text-align: right;\">\n",
       "      <th></th>\n",
       "      <th>S</th>\n",
       "      <th>Var</th>\n",
       "      <th>p</th>\n",
       "      <th>p_s</th>\n",
       "      <th>alpha_F</th>\n",
       "      <th>gamma_F</th>\n",
       "    </tr>\n",
       "  </thead>\n",
       "  <tbody>\n",
       "    <tr>\n",
       "      <th>0</th>\n",
       "      <td> 1</td>\n",
       "      <td>  V4</td>\n",
       "      <td> 5.613099e-11</td>\n",
       "      <td> 0.000000e+00</td>\n",
       "      <td> 0.007143</td>\n",
       "      <td> 0.000000e+00</td>\n",
       "    </tr>\n",
       "    <tr>\n",
       "      <th>1</th>\n",
       "      <td> 2</td>\n",
       "      <td>  V7</td>\n",
       "      <td> 1.902922e-12</td>\n",
       "      <td> 1.110223e-16</td>\n",
       "      <td> 0.011538</td>\n",
       "      <td> 4.810966e-16</td>\n",
       "    </tr>\n",
       "    <tr>\n",
       "      <th>2</th>\n",
       "      <td> 3</td>\n",
       "      <td>  V3</td>\n",
       "      <td> 1.110223e-16</td>\n",
       "      <td> 1.902922e-12</td>\n",
       "      <td> 0.016667</td>\n",
       "      <td> 5.708767e-12</td>\n",
       "    </tr>\n",
       "    <tr>\n",
       "      <th>3</th>\n",
       "      <td> 4</td>\n",
       "      <td> V11</td>\n",
       "      <td> 0.000000e+00</td>\n",
       "      <td> 5.613099e-11</td>\n",
       "      <td> 0.022727</td>\n",
       "      <td> 1.234882e-10</td>\n",
       "    </tr>\n",
       "    <tr>\n",
       "      <th>4</th>\n",
       "      <td> 5</td>\n",
       "      <td>  V2</td>\n",
       "      <td> 3.277062e-04</td>\n",
       "      <td> 3.277062e-04</td>\n",
       "      <td> 0.030000</td>\n",
       "      <td> 5.461770e-04</td>\n",
       "    </tr>\n",
       "    <tr>\n",
       "      <th>5</th>\n",
       "      <td> 6</td>\n",
       "      <td> V10</td>\n",
       "      <td> 8.502068e-03</td>\n",
       "      <td> 8.502068e-03</td>\n",
       "      <td> 0.038889</td>\n",
       "      <td> 1.093123e-02</td>\n",
       "    </tr>\n",
       "    <tr>\n",
       "      <th>6</th>\n",
       "      <td> 7</td>\n",
       "      <td>  V1</td>\n",
       "      <td> 1.204123e-02</td>\n",
       "      <td> 1.204123e-02</td>\n",
       "      <td> 0.050000</td>\n",
       "      <td> 1.204123e-02</td>\n",
       "    </tr>\n",
       "    <tr>\n",
       "      <th>7</th>\n",
       "      <td> 8</td>\n",
       "      <td>  V5</td>\n",
       "      <td> 9.725851e-02</td>\n",
       "      <td> 9.725851e-02</td>\n",
       "      <td> 0.064286</td>\n",
       "      <td> 7.564551e-02</td>\n",
       "    </tr>\n",
       "  </tbody>\n",
       "</table>\n",
       "</div>"
      ],
      "text/plain": [
       "   S  Var             p           p_s   alpha_F       gamma_F\n",
       "0  1   V4  5.613099e-11  0.000000e+00  0.007143  0.000000e+00\n",
       "1  2   V7  1.902922e-12  1.110223e-16  0.011538  4.810966e-16\n",
       "2  3   V3  1.110223e-16  1.902922e-12  0.016667  5.708767e-12\n",
       "3  4  V11  0.000000e+00  5.613099e-11  0.022727  1.234882e-10\n",
       "4  5   V2  3.277062e-04  3.277062e-04  0.030000  5.461770e-04\n",
       "5  6  V10  8.502068e-03  8.502068e-03  0.038889  1.093123e-02\n",
       "6  7   V1  1.204123e-02  1.204123e-02  0.050000  1.204123e-02\n",
       "7  8   V5  9.725851e-02  9.725851e-02  0.064286  7.564551e-02"
      ]
     },
     "execution_count": 161,
     "metadata": {},
     "output_type": "execute_result"
    }
   ],
   "source": [
    "ffsr(X2,Y2,0.05,max_size=8)"
   ]
  },
  {
   "cell_type": "code",
   "execution_count": 166,
   "metadata": {
    "collapsed": false
   },
   "outputs": [
    {
     "data": {
      "text/html": [
       "<div style=\"max-height:1000px;max-width:1500px;overflow:auto;\">\n",
       "<table border=\"1\" class=\"dataframe\">\n",
       "  <thead>\n",
       "    <tr style=\"text-align: right;\">\n",
       "      <th></th>\n",
       "      <th>S</th>\n",
       "      <th>Var</th>\n",
       "      <th>p</th>\n",
       "      <th>p_s</th>\n",
       "      <th>alpha_F</th>\n",
       "      <th>gamma_F</th>\n",
       "    </tr>\n",
       "  </thead>\n",
       "  <tbody>\n",
       "    <tr>\n",
       "      <th>0 </th>\n",
       "      <td>  1</td>\n",
       "      <td>  V5</td>\n",
       "      <td> 3.534489e-01</td>\n",
       "      <td> 0.000000e+00</td>\n",
       "      <td> 0.007143</td>\n",
       "      <td> 0.000000e+00</td>\n",
       "    </tr>\n",
       "    <tr>\n",
       "      <th>1 </th>\n",
       "      <td>  2</td>\n",
       "      <td>  V4</td>\n",
       "      <td> 3.970527e-10</td>\n",
       "      <td> 1.110223e-16</td>\n",
       "      <td> 0.011538</td>\n",
       "      <td> 4.810966e-16</td>\n",
       "    </tr>\n",
       "    <tr>\n",
       "      <th>2 </th>\n",
       "      <td>  3</td>\n",
       "      <td>  V3</td>\n",
       "      <td> 1.441480e-11</td>\n",
       "      <td> 1.441480e-11</td>\n",
       "      <td> 0.016667</td>\n",
       "      <td> 4.324441e-11</td>\n",
       "    </tr>\n",
       "    <tr>\n",
       "      <th>3 </th>\n",
       "      <td>  4</td>\n",
       "      <td> V11</td>\n",
       "      <td> 1.110223e-16</td>\n",
       "      <td> 3.970527e-10</td>\n",
       "      <td> 0.022727</td>\n",
       "      <td> 8.735160e-10</td>\n",
       "    </tr>\n",
       "    <tr>\n",
       "      <th>4 </th>\n",
       "      <td>  5</td>\n",
       "      <td>  V7</td>\n",
       "      <td> 0.000000e+00</td>\n",
       "      <td> 3.916484e-02</td>\n",
       "      <td> 0.030000</td>\n",
       "      <td> 6.527473e-02</td>\n",
       "    </tr>\n",
       "    <tr>\n",
       "      <th>5 </th>\n",
       "      <td>  6</td>\n",
       "      <td>  V2</td>\n",
       "      <td> 3.916484e-02</td>\n",
       "      <td> 1.283149e-01</td>\n",
       "      <td> 0.038889</td>\n",
       "      <td> 1.649763e-01</td>\n",
       "    </tr>\n",
       "    <tr>\n",
       "      <th>6 </th>\n",
       "      <td>  7</td>\n",
       "      <td>  V6</td>\n",
       "      <td> 1.285371e-01</td>\n",
       "      <td> 1.285371e-01</td>\n",
       "      <td> 0.050000</td>\n",
       "      <td> 1.285371e-01</td>\n",
       "    </tr>\n",
       "    <tr>\n",
       "      <th>7 </th>\n",
       "      <td>  8</td>\n",
       "      <td>  V1</td>\n",
       "      <td> 1.283149e-01</td>\n",
       "      <td> 2.354998e-01</td>\n",
       "      <td> 0.064286</td>\n",
       "      <td> 1.831665e-01</td>\n",
       "    </tr>\n",
       "    <tr>\n",
       "      <th>8 </th>\n",
       "      <td>  9</td>\n",
       "      <td> V13</td>\n",
       "      <td> 2.354998e-01</td>\n",
       "      <td> 2.582605e-01</td>\n",
       "      <td> 0.083333</td>\n",
       "      <td> 1.549563e-01</td>\n",
       "    </tr>\n",
       "    <tr>\n",
       "      <th>9 </th>\n",
       "      <td> 10</td>\n",
       "      <td> V15</td>\n",
       "      <td> 2.582605e-01</td>\n",
       "      <td> 3.126082e-01</td>\n",
       "      <td> 0.110000</td>\n",
       "      <td> 1.420947e-01</td>\n",
       "    </tr>\n",
       "    <tr>\n",
       "      <th>10</th>\n",
       "      <td> 11</td>\n",
       "      <td>  V9</td>\n",
       "      <td> 3.420064e-01</td>\n",
       "      <td> 3.420064e-01</td>\n",
       "      <td> 0.150000</td>\n",
       "      <td> 1.140021e-01</td>\n",
       "    </tr>\n",
       "    <tr>\n",
       "      <th>11</th>\n",
       "      <td> 12</td>\n",
       "      <td> V12</td>\n",
       "      <td> 3.126082e-01</td>\n",
       "      <td> 3.534489e-01</td>\n",
       "      <td> 0.216667</td>\n",
       "      <td> 8.156512e-02</td>\n",
       "    </tr>\n",
       "    <tr>\n",
       "      <th>12</th>\n",
       "      <td> 13</td>\n",
       "      <td> V10</td>\n",
       "      <td> 5.287230e-01</td>\n",
       "      <td> 5.287230e-01</td>\n",
       "      <td> 0.350000</td>\n",
       "      <td> 7.553186e-02</td>\n",
       "    </tr>\n",
       "    <tr>\n",
       "      <th>13</th>\n",
       "      <td> 14</td>\n",
       "      <td> V14</td>\n",
       "      <td> 5.864499e-01</td>\n",
       "      <td> 5.864499e-01</td>\n",
       "      <td> 0.750000</td>\n",
       "      <td> 3.909666e-02</td>\n",
       "    </tr>\n",
       "    <tr>\n",
       "      <th>14</th>\n",
       "      <td> 15</td>\n",
       "      <td>  V8</td>\n",
       "      <td> 8.648595e-01</td>\n",
       "      <td> 8.648595e-01</td>\n",
       "      <td> 1.000000</td>\n",
       "      <td> 8.648595e-01</td>\n",
       "    </tr>\n",
       "  </tbody>\n",
       "</table>\n",
       "</div>"
      ],
      "text/plain": [
       "     S  Var             p           p_s   alpha_F       gamma_F\n",
       "0    1   V5  3.534489e-01  0.000000e+00  0.007143  0.000000e+00\n",
       "1    2   V4  3.970527e-10  1.110223e-16  0.011538  4.810966e-16\n",
       "2    3   V3  1.441480e-11  1.441480e-11  0.016667  4.324441e-11\n",
       "3    4  V11  1.110223e-16  3.970527e-10  0.022727  8.735160e-10\n",
       "4    5   V7  0.000000e+00  3.916484e-02  0.030000  6.527473e-02\n",
       "5    6   V2  3.916484e-02  1.283149e-01  0.038889  1.649763e-01\n",
       "6    7   V6  1.285371e-01  1.285371e-01  0.050000  1.285371e-01\n",
       "7    8   V1  1.283149e-01  2.354998e-01  0.064286  1.831665e-01\n",
       "8    9  V13  2.354998e-01  2.582605e-01  0.083333  1.549563e-01\n",
       "9   10  V15  2.582605e-01  3.126082e-01  0.110000  1.420947e-01\n",
       "10  11   V9  3.420064e-01  3.420064e-01  0.150000  1.140021e-01\n",
       "11  12  V12  3.126082e-01  3.534489e-01  0.216667  8.156512e-02\n",
       "12  13  V10  5.287230e-01  5.287230e-01  0.350000  7.553186e-02\n",
       "13  14  V14  5.864499e-01  5.864499e-01  0.750000  3.909666e-02\n",
       "14  15   V8  8.648595e-01  8.648595e-01  1.000000  8.648595e-01"
      ]
     },
     "execution_count": 166,
     "metadata": {},
     "output_type": "execute_result"
    }
   ],
   "source": [
    "ffsr(X2,Y2,0.05,var_incl=np.array([5]))"
   ]
  },
  {
   "cell_type": "code",
   "execution_count": null,
   "metadata": {
    "collapsed": false
   },
   "outputs": [],
   "source": []
  }
 ],
 "metadata": {
  "kernelspec": {
   "display_name": "Python 2",
   "language": "python",
   "name": "python2"
  },
  "language_info": {
   "codemirror_mode": {
    "name": "ipython",
    "version": 2
   },
   "file_extension": ".py",
   "mimetype": "text/x-python",
   "name": "python",
   "nbconvert_exporter": "python",
   "pygments_lexer": "ipython2",
   "version": "2.7.9"
  }
 },
 "nbformat": 4,
 "nbformat_minor": 0
}
