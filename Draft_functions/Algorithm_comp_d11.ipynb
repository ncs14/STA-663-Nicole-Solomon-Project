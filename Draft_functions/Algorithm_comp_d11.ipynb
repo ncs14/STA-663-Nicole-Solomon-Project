{
 "cells": [
  {
   "cell_type": "code",
   "execution_count": null,
   "metadata": {
    "collapsed": true
   },
   "outputs": [],
   "source": [
    "\"\"\" Compare Python algorithm to R algorithm \"\"\""
   ]
  },
  {
   "cell_type": "code",
   "execution_count": 1,
   "metadata": {
    "collapsed": true
   },
   "outputs": [],
   "source": [
    "import ffsr3_d11 as f11"
   ]
  },
  {
   "cell_type": "code",
   "execution_count": 3,
   "metadata": {
    "collapsed": false
   },
   "outputs": [
    {
     "name": "stdout",
     "output_type": "stream",
     "text": [
      "['y', 'x1', 'x2', 'x3', 'x4', 'x5', 'x6', 'x7', 'x8', 'x9', 'x10', 'x11', 'x12', 'x13', 'x14', 'x15', 'x16', 'x17', 'x18', 'x19']\n"
     ]
    }
   ],
   "source": [
    "import pandas as pd\n",
    "\n",
    "ncaadata = pd.read_csv(\"../ncaa_data2.txt\", delim_whitespace=True, skipinitialspace=True)\n",
    "cols = ncaadata.columns.tolist()\n",
    "cols = cols[-1:] + cols[:-1]\n",
    "print cols\n",
    "ncaa2 = pd.DataFrame(ncaadata[cols],dtype='float')"
   ]
  },
  {
   "cell_type": "code",
   "execution_count": 3,
   "metadata": {
    "collapsed": true
   },
   "outputs": [],
   "source": [
    "%load_ext rpy2.ipython"
   ]
  },
  {
   "cell_type": "code",
   "execution_count": 4,
   "metadata": {
    "collapsed": false
   },
   "outputs": [
    {
     "data": {
      "text/plain": [
       "Loading required package: leaps\n",
       "   var   pval  pvmax    Rsq      g\n",
       "1    9 0.0000 0.0000 0.5590 0.0000\n",
       "2    3 0.0004 0.0004 0.6170 0.0020\n",
       "3   14 0.0045 0.0045 0.6500 0.0134\n",
       "4   19 0.0044 0.0045 0.6807 0.0134\n",
       "5    6 0.0794 0.0794 0.6917 0.1852\n",
       "6   10 0.0948 0.0948 0.7015 0.1761\n",
       "7    8 0.1260 0.1260 0.7095 0.1890\n",
       "8   13 0.4703 0.4703 0.7113 0.3848\n",
       "9   12 0.4501 0.4703 0.7133 0.3848\n",
       "10   5 0.4625 0.4703 0.7152 0.3848\n",
       "11  16 0.5203 0.5203 0.7166 0.3469\n",
       "12   4 0.5283 0.5283 0.7180 0.2845\n",
       "13  15 0.5584 0.5584 0.7192 0.2393\n",
       "14  18 0.7567 0.7567 0.7196 0.2522\n",
       "15   1 0.8386 0.8386 0.7197 0.2097\n",
       "16  17 0.8692 0.8692 0.7198 0.0966\n",
       "17   7 0.8614 0.8692 0.7199 0.0966\n",
       "18  11 0.8722 0.8722 0.7200 0.0000\n",
       "19   2 0.8648 0.8722 0.7201 0.0000\n",
       "   user  system elapsed \n",
       "  0.030   0.003   0.034 \n"
      ]
     },
     "metadata": {},
     "output_type": "display_data"
    }
   ],
   "source": [
    "%%R -i ncaa2\n",
    "\n",
    "fsr.fast<-function(x,y,gam0=.05,digits=4,print=T,plot=F){\n",
    "# estimated alpha for forward selection using Fast FSR (no simulation)\n",
    "# typical call: fsr.fast(x=ncaa2[,1:19],y=ncaa2[,20])->out\n",
    "# for use inside simulation loops, set print=F and plot=F\n",
    "# version 7 circa Nov. 2009, modified to handle partially blank colnames\n",
    "require(leaps)\n",
    "ok<-complete.cases(x,y)\n",
    "x<-x[ok,]                            # get rid of na's\n",
    "y<-y[ok]                             # since regsubsets can't handle na's\n",
    "m<-ncol(x)\n",
    "n<-nrow(x)\n",
    "if(m >= n) m1 <- n-5  else m1<-m     # to get rid of NA's in pv\n",
    "vm<-1:m1\n",
    "as.matrix(x)->x                      # in case x is a data frame\n",
    "if(any(colnames(x)==\"\"))colnames(x)<-NULL       # if only partially named columns\n",
    "colnames(x)<-colnames(x,do.NULL=F,prefix=\"\")    # corrects for no colnames\n",
    "pvm<-rep(0,m1)                       # to create pvm below\n",
    "regsubsets(x,y,method=\"forward\")->out.x\n",
    "pv.orig<-1-pf((out.x$rss[vm]-out.x$rss[vm+1])*(out.x$nn-(vm+1))/out.x$rss[vm+1],1,out.x$nn-(vm+1))\n",
    "for (i in 1:m1){pvm[i]<-max(pv.orig[1:i])}  # sequential max of pvalues\n",
    "alpha<-c(0,pvm)\n",
    "ng<-length(alpha)\n",
    "S<-rep(0,ng)                         # will contain num. of true entering in orig.\n",
    "real.seq<-data.frame(var=(out.x$vorder-1)[2:(m1+1)],pval=pv.orig,\n",
    "         pvmax=pvm,Rsq=round(1-out.x$rss[2:(m1+1)]/out.x$rss[1],4))\n",
    "for (ia in 2:ng){                    # loop through alpha values for S=size\n",
    "S[ia] <- sum(pvm<=alpha[ia])         # size of models at alpha[ia], S[1]=0\n",
    "}\n",
    "ghat<-(m-S)*alpha/(1+S)              # gammahat_ER\n",
    "# add additional points to make jumps\n",
    "alpha2<-alpha[2:ng]-.0000001\n",
    "ghat2<-(m-S[1:(ng-1)])*alpha2/(1+S[1:(ng-1)])\n",
    "zp<-data.frame(a=c(alpha,alpha2),g=c(ghat,ghat2))\n",
    "zp<-zp[order(zp$a),]\n",
    "gmax<-max(zp$g)\n",
    "index.max<-which.max(zp$g)           # index of largest ghat\n",
    "alphamax<-zp$a[index.max]            # alpha with largest ghat\n",
    "# gmax<-max(ghat)\n",
    "# index.max<-which.max(ghat)           # index of largest ghat\n",
    "# alphamax<-alpha[index.max]           # alpha with largest ghat\n",
    "ind<-(ghat <= gam0 & alpha<=alphamax)*1\n",
    "Sind<-S[max(which(ind > 0))]           # model size with ghat just below gam0\n",
    "alphahat.fast<-(1+Sind)*gam0/(m-Sind)  # ER est.\n",
    "size1<-sum(pvm<=alphahat.fast)+1       # size of model including intercept\n",
    "x<-x[,colnames(x)[(out.x$vorder-1)[2:size1]]]\n",
    "if(size1>1) x.ind<-(out.x$vorder-1)[2:size1]  else x.ind<-0\n",
    "if (size1==1) {mod <- lm(y~1)} else {mod <- lm(y~x)}\n",
    "# ghat3<-(m-size1+1)*alpha/(1+S)         # uses final ku est.\n",
    "ghat4<-(m-size1+1)*alpha/(1+0:m)\n",
    "#res<-data.frame(real.seq,ghigh=ghat2,glow=ghat[2:ng])\n",
    "res<-data.frame(real.seq,g=ghat[2:ng])\n",
    "if(print)print(round(res,digits))\n",
    "#if(plot){\n",
    "#plot(zp$a,zp$g,type=\"b\",xlab=\"Alpha\",ylab=\"Estimated Gamma\",xlim=c(0,alphamax))\n",
    "#points(alphahat.fast,gam0,pch=19)\n",
    "#lines(c(-1,alphahat.fast),c(gam0,gam0))\n",
    "#lines(c(alphahat.fast,alphahat.fast),c(-1,gam0))\n",
    "#}  # ends plot\n",
    "return(list(mod=mod,size=size1-1,x.ind=x.ind,alphahat.ER=alphahat.fast))\n",
    "}\n",
    "\n",
    "ncaa2 = as.matrix(ncaa2)\n",
    "\n",
    "system.time(fsr.fast(x=ncaa2[,1:19],y=ncaa2[,20]))"
   ]
  },
  {
   "cell_type": "code",
   "execution_count": 6,
   "metadata": {
    "collapsed": false
   },
   "outputs": [
    {
     "name": "stdout",
     "output_type": "stream",
     "text": [
      "1 loops, best of 1: 28.1 ms per loop\n"
     ]
    }
   ],
   "source": [
    "%timeit -n1 -r1 f11.ffsr(ncaa2,0.05)"
   ]
  },
  {
   "cell_type": "code",
   "execution_count": null,
   "metadata": {
    "collapsed": true
   },
   "outputs": [],
   "source": []
  }
 ],
 "metadata": {
  "kernelspec": {
   "display_name": "Python 2",
   "language": "python",
   "name": "python2"
  },
  "language_info": {
   "codemirror_mode": {
    "name": "ipython",
    "version": 2
   },
   "file_extension": ".py",
   "mimetype": "text/x-python",
   "name": "python",
   "nbconvert_exporter": "python",
   "pygments_lexer": "ipython2",
   "version": "2.7.9"
  }
 },
 "nbformat": 4,
 "nbformat_minor": 0
}
