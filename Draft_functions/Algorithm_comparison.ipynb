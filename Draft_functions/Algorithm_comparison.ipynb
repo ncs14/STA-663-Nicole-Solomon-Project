{
 "cells": [
  {
   "cell_type": "markdown",
   "metadata": {
    "collapsed": false
   },
   "source": [
    "## Compare Python algorithm to R algorithm ##"
   ]
  },
  {
   "cell_type": "code",
   "execution_count": null,
   "metadata": {
    "collapsed": true
   },
   "outputs": [],
   "source": [
    "# Date: 4/28/15"
   ]
  },
  {
   "cell_type": "code",
   "execution_count": 1,
   "metadata": {
    "collapsed": false
   },
   "outputs": [
    {
     "name": "stdout",
     "output_type": "stream",
     "text": [
      "['y', 'x1', 'x2', 'x3', 'x4', 'x5', 'x6', 'x7', 'x8', 'x9', 'x10', 'x11', 'x12', 'x13', 'x14', 'x15', 'x16', 'x17', 'x18', 'x19']\n"
     ]
    }
   ],
   "source": [
    "from ffsr import *\n",
    "import pandas as pd\n",
    "import numpy as np\n",
    "\n",
    "### Read in NCAA2 data from NCSU webpage\n",
    "ncaadata = pd.read_csv(\"ncaa_data2.txt\", delim_whitespace=True, skipinitialspace=True)\n",
    "\n",
    "# move outcome variable to first column\n",
    "cols = ncaadata.columns.tolist()\n",
    "cols = cols[-1:] + cols[:-1]\n",
    "print cols\n",
    "\n",
    "ncaa2 = pd.DataFrame(ncaadata[cols],dtype='float')"
   ]
  },
  {
   "cell_type": "code",
   "execution_count": 2,
   "metadata": {
    "collapsed": true
   },
   "outputs": [],
   "source": [
    "%load_ext rpy2.ipython"
   ]
  },
  {
   "cell_type": "code",
   "execution_count": 3,
   "metadata": {
    "collapsed": false
   },
   "outputs": [
    {
     "data": {
      "text/plain": [
       "Loading required package: leaps\n",
       "   var   pval  pvmax    Rsq      g\n",
       "1    2 0.0000 0.0000 0.7069 0.0000\n",
       "2    3 0.0001 0.0001 0.7539 0.0004\n",
       "3    5 0.0116 0.0116 0.7708 0.0270\n",
       "4    4 0.0053 0.0116 0.7901 0.0270\n",
       "5    7 0.0025 0.0116 0.8110 0.0270\n",
       "6   17 0.0433 0.0433 0.8197 0.0804\n",
       "7   15 0.0527 0.0527 0.8274 0.0791\n",
       "8    6 0.1056 0.1056 0.8327 0.0864\n",
       "9    9 0.0826 0.1056 0.8386 0.0864\n",
       "10   8 0.0536 0.1056 0.8457 0.0864\n",
       "11  12 0.2350 0.2350 0.8484 0.1566\n",
       "12  10 0.2864 0.2864 0.8505 0.1542\n",
       "13  13 0.3163 0.3163 0.8524 0.1054\n",
       "14  18 0.2697 0.3163 0.8546 0.1054\n",
       "15  11 0.4953 0.4953 0.8555 0.1238\n",
       "16   1 0.6326 0.6326 0.8559 0.1116\n",
       "17  14 0.7056 0.7056 0.8562 0.0784\n",
       "18  19 0.8605 0.8605 0.8563 0.0453\n",
       "19  16 0.9032 0.9032 0.8563 0.0000\n",
       "   user  system elapsed \n",
       "  0.034   0.002   0.037 \n"
      ]
     },
     "metadata": {},
     "output_type": "display_data"
    }
   ],
   "source": [
    "%%R -i ncaa2\n",
    "\n",
    "fsr.fast<-function(x,y,gam0=.05,digits=4,print=T,plot=F){\n",
    "# estimated alpha for forward selection using Fast FSR (no simulation)\n",
    "# typical call: fsr.fast(x=ncaa2[,1:19],y=ncaa2[,20])->out\n",
    "# for use inside simulation loops, set print=F and plot=F\n",
    "# version 7 circa Nov. 2009, modified to handle partially blank colnames\n",
    "require(leaps)\n",
    "ok<-complete.cases(x,y)\n",
    "x<-x[ok,]                            # get rid of na's\n",
    "y<-y[ok]                             # since regsubsets can't handle na's\n",
    "m<-ncol(x)\n",
    "n<-nrow(x)\n",
    "if(m >= n) m1 <- n-5  else m1<-m     # to get rid of NA's in pv\n",
    "vm<-1:m1\n",
    "as.matrix(x)->x                      # in case x is a data frame\n",
    "if(any(colnames(x)==\"\"))colnames(x)<-NULL       # if only partially named columns\n",
    "colnames(x)<-colnames(x,do.NULL=F,prefix=\"\")    # corrects for no colnames\n",
    "pvm<-rep(0,m1)                       # to create pvm below\n",
    "regsubsets(x,y,method=\"forward\")->out.x\n",
    "pv.orig<-1-pf((out.x$rss[vm]-out.x$rss[vm+1])*(out.x$nn-(vm+1))/out.x$rss[vm+1],1,out.x$nn-(vm+1))\n",
    "for (i in 1:m1){pvm[i]<-max(pv.orig[1:i])}  # sequential max of pvalues\n",
    "alpha<-c(0,pvm)\n",
    "ng<-length(alpha)\n",
    "S<-rep(0,ng)                         # will contain num. of true entering in orig.\n",
    "real.seq<-data.frame(var=(out.x$vorder-1)[2:(m1+1)],pval=pv.orig,\n",
    "         pvmax=pvm,Rsq=round(1-out.x$rss[2:(m1+1)]/out.x$rss[1],4))\n",
    "for (ia in 2:ng){                    # loop through alpha values for S=size\n",
    "S[ia] <- sum(pvm<=alpha[ia])         # size of models at alpha[ia], S[1]=0\n",
    "}\n",
    "ghat<-(m-S)*alpha/(1+S)              # gammahat_ER\n",
    "# add additional points to make jumps\n",
    "alpha2<-alpha[2:ng]-.0000001\n",
    "ghat2<-(m-S[1:(ng-1)])*alpha2/(1+S[1:(ng-1)])\n",
    "zp<-data.frame(a=c(alpha,alpha2),g=c(ghat,ghat2))\n",
    "zp<-zp[order(zp$a),]\n",
    "gmax<-max(zp$g)\n",
    "index.max<-which.max(zp$g)           # index of largest ghat\n",
    "alphamax<-zp$a[index.max]            # alpha with largest ghat\n",
    "# gmax<-max(ghat)\n",
    "# index.max<-which.max(ghat)           # index of largest ghat\n",
    "# alphamax<-alpha[index.max]           # alpha with largest ghat\n",
    "ind<-(ghat <= gam0 & alpha<=alphamax)*1\n",
    "Sind<-S[max(which(ind > 0))]           # model size with ghat just below gam0\n",
    "alphahat.fast<-(1+Sind)*gam0/(m-Sind)  # ER est.\n",
    "size1<-sum(pvm<=alphahat.fast)+1       # size of model including intercept\n",
    "x<-x[,colnames(x)[(out.x$vorder-1)[2:size1]]]\n",
    "if(size1>1) x.ind<-(out.x$vorder-1)[2:size1]  else x.ind<-0\n",
    "if (size1==1) {mod <- lm(y~1)} else {mod <- lm(y~x)}\n",
    "# ghat3<-(m-size1+1)*alpha/(1+S)         # uses final ku est.\n",
    "ghat4<-(m-size1+1)*alpha/(1+0:m)\n",
    "#res<-data.frame(real.seq,ghigh=ghat2,glow=ghat[2:ng])\n",
    "res<-data.frame(real.seq,g=ghat[2:ng])\n",
    "if(print)print(round(res,digits))\n",
    "#if(plot){\n",
    "#plot(zp$a,zp$g,type=\"b\",xlab=\"Alpha\",ylab=\"Estimated Gamma\",xlim=c(0,alphamax))\n",
    "#points(alphahat.fast,gam0,pch=19)\n",
    "#lines(c(-1,alphahat.fast),c(gam0,gam0))\n",
    "#lines(c(alphahat.fast,alphahat.fast),c(-1,gam0))\n",
    "#}  # ends plot\n",
    "return(list(mod=mod,size=size1-1,x.ind=x.ind,alphahat.ER=alphahat.fast))\n",
    "}\n",
    "\n",
    "ncaa = as.matrix(ncaa2)\n",
    "\n",
    "system.time(fsr.fast(x=ncaa[,2:20],y=ncaa[,1]))"
   ]
  },
  {
   "cell_type": "code",
   "execution_count": 5,
   "metadata": {
    "collapsed": false
   },
   "outputs": [
    {
     "name": "stdout",
     "output_type": "stream",
     "text": [
      "CPU times: user 26.4 ms, sys: 4.72 ms, total: 31.2 ms\n",
      "Wall time: 29.1 ms\n"
     ]
    },
    {
     "data": {
      "text/html": [
       "<div style=\"max-height:1000px;max-width:1500px;overflow:auto;\">\n",
       "<table border=\"1\" class=\"dataframe\">\n",
       "  <thead>\n",
       "    <tr style=\"text-align: right;\">\n",
       "      <th></th>\n",
       "      <th>S</th>\n",
       "      <th>Var</th>\n",
       "      <th>p</th>\n",
       "      <th>p_m</th>\n",
       "      <th>alpha_F</th>\n",
       "      <th>gamma_F</th>\n",
       "    </tr>\n",
       "  </thead>\n",
       "  <tbody>\n",
       "    <tr>\n",
       "      <th>0 </th>\n",
       "      <td>  1</td>\n",
       "      <td>  x2</td>\n",
       "      <td> 0.0000</td>\n",
       "      <td> 0.0000</td>\n",
       "      <td> 0.0056</td>\n",
       "      <td> 0.0000</td>\n",
       "    </tr>\n",
       "    <tr>\n",
       "      <th>1 </th>\n",
       "      <td>  2</td>\n",
       "      <td>  x3</td>\n",
       "      <td> 0.0001</td>\n",
       "      <td> 0.0001</td>\n",
       "      <td> 0.0088</td>\n",
       "      <td> 0.0004</td>\n",
       "    </tr>\n",
       "    <tr>\n",
       "      <th>2 </th>\n",
       "      <td>  3</td>\n",
       "      <td>  x5</td>\n",
       "      <td> 0.0116</td>\n",
       "      <td> 0.0116</td>\n",
       "      <td> 0.0125</td>\n",
       "      <td> 0.0270</td>\n",
       "    </tr>\n",
       "    <tr>\n",
       "      <th>3 </th>\n",
       "      <td>  4</td>\n",
       "      <td>  x4</td>\n",
       "      <td> 0.0053</td>\n",
       "      <td> 0.0116</td>\n",
       "      <td> 0.0167</td>\n",
       "      <td> 0.0270</td>\n",
       "    </tr>\n",
       "    <tr>\n",
       "      <th>4 </th>\n",
       "      <td>  5</td>\n",
       "      <td>  x7</td>\n",
       "      <td> 0.0025</td>\n",
       "      <td> 0.0116</td>\n",
       "      <td> 0.0214</td>\n",
       "      <td> 0.0270</td>\n",
       "    </tr>\n",
       "    <tr>\n",
       "      <th>5 </th>\n",
       "      <td>  6</td>\n",
       "      <td> x17</td>\n",
       "      <td> 0.0433</td>\n",
       "      <td> 0.0433</td>\n",
       "      <td> 0.0269</td>\n",
       "      <td> 0.0804</td>\n",
       "    </tr>\n",
       "    <tr>\n",
       "      <th>6 </th>\n",
       "      <td>  7</td>\n",
       "      <td> x15</td>\n",
       "      <td> 0.0527</td>\n",
       "      <td> 0.0527</td>\n",
       "      <td> 0.0333</td>\n",
       "      <td> 0.0791</td>\n",
       "    </tr>\n",
       "    <tr>\n",
       "      <th>7 </th>\n",
       "      <td>  8</td>\n",
       "      <td>  x6</td>\n",
       "      <td> 0.1056</td>\n",
       "      <td> 0.1056</td>\n",
       "      <td> 0.0409</td>\n",
       "      <td> 0.0864</td>\n",
       "    </tr>\n",
       "    <tr>\n",
       "      <th>8 </th>\n",
       "      <td>  9</td>\n",
       "      <td>  x9</td>\n",
       "      <td> 0.0826</td>\n",
       "      <td> 0.1056</td>\n",
       "      <td> 0.0500</td>\n",
       "      <td> 0.0864</td>\n",
       "    </tr>\n",
       "    <tr>\n",
       "      <th>9 </th>\n",
       "      <td> 10</td>\n",
       "      <td>  x8</td>\n",
       "      <td> 0.0536</td>\n",
       "      <td> 0.1056</td>\n",
       "      <td> 0.0611</td>\n",
       "      <td> 0.0864</td>\n",
       "    </tr>\n",
       "    <tr>\n",
       "      <th>10</th>\n",
       "      <td> 11</td>\n",
       "      <td> x12</td>\n",
       "      <td> 0.2350</td>\n",
       "      <td> 0.2350</td>\n",
       "      <td> 0.0750</td>\n",
       "      <td> 0.1566</td>\n",
       "    </tr>\n",
       "    <tr>\n",
       "      <th>11</th>\n",
       "      <td> 12</td>\n",
       "      <td> x10</td>\n",
       "      <td> 0.2864</td>\n",
       "      <td> 0.2864</td>\n",
       "      <td> 0.0929</td>\n",
       "      <td> 0.1542</td>\n",
       "    </tr>\n",
       "    <tr>\n",
       "      <th>12</th>\n",
       "      <td> 13</td>\n",
       "      <td> x13</td>\n",
       "      <td> 0.3163</td>\n",
       "      <td> 0.3163</td>\n",
       "      <td> 0.1167</td>\n",
       "      <td> 0.1054</td>\n",
       "    </tr>\n",
       "    <tr>\n",
       "      <th>13</th>\n",
       "      <td> 14</td>\n",
       "      <td> x18</td>\n",
       "      <td> 0.2697</td>\n",
       "      <td> 0.3163</td>\n",
       "      <td> 0.1500</td>\n",
       "      <td> 0.1054</td>\n",
       "    </tr>\n",
       "    <tr>\n",
       "      <th>14</th>\n",
       "      <td> 15</td>\n",
       "      <td> x11</td>\n",
       "      <td> 0.4953</td>\n",
       "      <td> 0.4953</td>\n",
       "      <td> 0.2000</td>\n",
       "      <td> 0.1238</td>\n",
       "    </tr>\n",
       "    <tr>\n",
       "      <th>15</th>\n",
       "      <td> 16</td>\n",
       "      <td>  x1</td>\n",
       "      <td> 0.6326</td>\n",
       "      <td> 0.6326</td>\n",
       "      <td> 0.2833</td>\n",
       "      <td> 0.1116</td>\n",
       "    </tr>\n",
       "    <tr>\n",
       "      <th>16</th>\n",
       "      <td> 17</td>\n",
       "      <td> x14</td>\n",
       "      <td> 0.7056</td>\n",
       "      <td> 0.7056</td>\n",
       "      <td> 0.4500</td>\n",
       "      <td> 0.0784</td>\n",
       "    </tr>\n",
       "    <tr>\n",
       "      <th>17</th>\n",
       "      <td> 18</td>\n",
       "      <td> x19</td>\n",
       "      <td> 0.8605</td>\n",
       "      <td> 0.8605</td>\n",
       "      <td> 0.9500</td>\n",
       "      <td> 0.0453</td>\n",
       "    </tr>\n",
       "    <tr>\n",
       "      <th>18</th>\n",
       "      <td> 19</td>\n",
       "      <td> x16</td>\n",
       "      <td> 0.9032</td>\n",
       "      <td> 0.9032</td>\n",
       "      <td> 1.0000</td>\n",
       "      <td> 0.9032</td>\n",
       "    </tr>\n",
       "  </tbody>\n",
       "</table>\n",
       "</div>"
      ],
      "text/plain": [
       "     S  Var       p     p_m alpha_F gamma_F\n",
       "0    1   x2  0.0000  0.0000  0.0056  0.0000\n",
       "1    2   x3  0.0001  0.0001  0.0088  0.0004\n",
       "2    3   x5  0.0116  0.0116  0.0125  0.0270\n",
       "3    4   x4  0.0053  0.0116  0.0167  0.0270\n",
       "4    5   x7  0.0025  0.0116  0.0214  0.0270\n",
       "5    6  x17  0.0433  0.0433  0.0269  0.0804\n",
       "6    7  x15  0.0527  0.0527  0.0333  0.0791\n",
       "7    8   x6  0.1056  0.1056  0.0409  0.0864\n",
       "8    9   x9  0.0826  0.1056  0.0500  0.0864\n",
       "9   10   x8  0.0536  0.1056  0.0611  0.0864\n",
       "10  11  x12  0.2350  0.2350  0.0750  0.1566\n",
       "11  12  x10  0.2864  0.2864  0.0929  0.1542\n",
       "12  13  x13  0.3163  0.3163  0.1167  0.1054\n",
       "13  14  x18  0.2697  0.3163  0.1500  0.1054\n",
       "14  15  x11  0.4953  0.4953  0.2000  0.1238\n",
       "15  16   x1  0.6326  0.6326  0.2833  0.1116\n",
       "16  17  x14  0.7056  0.7056  0.4500  0.0784\n",
       "17  18  x19  0.8605  0.8605  0.9500  0.0453\n",
       "18  19  x16  0.9032  0.9032  1.0000  0.9032"
      ]
     },
     "execution_count": 5,
     "metadata": {},
     "output_type": "execute_result"
    }
   ],
   "source": [
    "%%time\n",
    "ffsr(ncaa2,0.05).fsres"
   ]
  },
  {
   "cell_type": "markdown",
   "metadata": {
    "collapsed": true
   },
   "source": [
    "## Compare bagging FFSR algorithms ##"
   ]
  },
  {
   "cell_type": "code",
   "execution_count": 19,
   "metadata": {
    "collapsed": false
   },
   "outputs": [
    {
     "data": {
      "text/plain": [
       "   user  system elapsed \n",
       "  0.907   0.010   0.924 \n"
      ]
     },
     "metadata": {},
     "output_type": "display_data"
    }
   ],
   "source": [
    "%%R -i ncaa2\n",
    "\n",
    "bag.fsr<-function(x,y,B=100,gam0=.05){\n",
    "# gives average coefficients from fsr.fast6.sim\n",
    "ok<-complete.cases(x,y)\n",
    "x<-x[ok,]                            # get rid of na's\n",
    "y<-y[ok]                             # since regsubsets can't handle na's\n",
    "m<-ncol(x)\n",
    "n<-nrow(x)\n",
    "hold<-matrix(rep(0,m*B),nrow=B)      # holds coefficients\n",
    "interc<-rep(0,B)                     # holds intercepts\n",
    "alphahat<-rep(0,B)                   # holds alphahats\n",
    "size<-rep(0,B)                       # holds sizes\n",
    "for(i in 1:B){\n",
    "index<-sample(1:n,n,replace=T)\n",
    "out<-fsr.fast6.sim(x=x[index,],y=y[index],gam0=gam0)\n",
    "if (out$size>0) hold[i,out$x.ind]<-out$mod$coeff[2:(out$size+1)]\n",
    "interc[i]<-out$mod$coeff[1]\n",
    "alphahat[i]<-out$alphahat.ER\n",
    "size[i]<-out$size\n",
    "}                                    # ends i loop\n",
    "coeff.av<-apply(hold,2, mean)\n",
    "coeff.sd<-rep(0,m)\n",
    "coeff.sd<-sqrt(apply(hold,2, var))\n",
    "interc.av<-mean(interc)\n",
    "interc.sd<-sd(interc)\n",
    "amean<-mean(alphahat)\n",
    "sizem<-mean(size)\n",
    "prop<-rep(0,m)\n",
    "for(j in 1:m){prop[j]<-sum(abs(hold[,j])>0)/B}\n",
    "as.matrix(x)->x                      # in case x is a data frame\n",
    "pred<-x%*%coeff.av+interc.av\n",
    "return(list(coeff.av=coeff.av,coeff.sd=coeff.sd,interc.av=interc.av,pred=pred,\n",
    "            interc.sd=interc.sd,prop=prop,amean=amean,sizem=sizem))\n",
    "}\n",
    "\n",
    "fsr.fast6.sim<-function(x,y,gam0=.05){\n",
    "# estimated alpha for forward selection\n",
    "# short output version\n",
    "require(leaps)\n",
    "ok<-complete.cases(x,y)\n",
    "x<-x[ok,]                            # get rid of na's\n",
    "y<-y[ok]                             # since regsubsets can't handle na's\n",
    "m<-ncol(x)\n",
    "n<-nrow(x)\n",
    "if(m >= n) m1 <- n-5  else m1<-m     # to get rid of NA's in pv\n",
    "vm<-1:m1\n",
    "as.matrix(x)->x                      # in case x is a data frame\n",
    "pvm<-rep(0,m1)                       # to create pvm below\n",
    "regsubsets(x,y,method=\"forward\")->out.x\n",
    "pv.orig<-1-pf((out.x$rss[vm]-out.x$rss[vm+1])*(out.x$nn-(vm+1))/out.x$rss[vm+1],1,out.x$nn-(vm+1))\n",
    "for (i in 1:m1){pvm[i]<-max(pv.orig[1:i])}  # sequential max of pvalues\n",
    "alpha<-c(0,pvm)\n",
    "ng<-length(alpha)\n",
    "S<-rep(0,ng)                         # will contain num. of true entering in orig.\n",
    "real.seq<-data.frame(var=(out.x$vorder-1)[2:(m1+1)],pval=pv.orig,\n",
    "         pvmax=pvm,Rsq=round(1-out.x$rss[2:(m1+1)]/out.x$rss[1],4))\n",
    "for (ia in 2:ng){                    # loop through alpha values for S=size\n",
    "S[ia] <- sum(pvm<=alpha[ia])         # size of models at alpha[ia], S[1]=0\n",
    "}\n",
    "ghat<-(m-S)*alpha/(1+S)              # gammahat_ER\n",
    "# add additional points to make jumps\n",
    "alpha2<-alpha[2:ng]-.0000001\n",
    "ghat2<-(m-S[1:(ng-1)])*alpha2/(1+S[1:(ng-1)])\n",
    "zp<-data.frame(a=c(alpha,alpha2),g=c(ghat,ghat2))\n",
    "zp<-zp[order(zp$a),]\n",
    "gmax<-max(zp$g)\n",
    "index.max<-which.max(zp$g)           # index of largest ghat\n",
    "alphamax<-zp$a[index.max]            # alpha with largest ghat\n",
    "ind<-(ghat <= gam0 & alpha<=alphamax)*1\n",
    "Sind<-S[max(which(ind > 0))]          # model size with ghat just below gam0\n",
    "alphahat.fast<-(1+Sind)*gam0/(m-Sind)  # ER est.\n",
    "size1<-sum(pvm<=alphahat.fast)+1       # size of model including intercept\n",
    "colnames(x)<-colnames(x,do.NULL=F,prefix=\"\")      # corrects for no colnames\n",
    "x<-x[,colnames(x)[(out.x$vorder-1)[2:size1]]]\n",
    "if(size1>1) x.ind<-(out.x$vorder-1)[2:size1]  else x.ind<-0\n",
    "if (size1==1) {mod <- lm(y~1)} else {mod <- lm(y~x)}\n",
    "return(list(mod=mod,size=size1-1,x.ind=x.ind,alphahat.ER=alphahat.fast))\n",
    "}\n",
    "\n",
    "system.time(bag.fsr(x=ncaa2[,2:20],y=ncaa2[,1],B=200)->out.ncaa)"
   ]
  },
  {
   "cell_type": "code",
   "execution_count": 4,
   "metadata": {
    "collapsed": false
   },
   "outputs": [
    {
     "name": "stdout",
     "output_type": "stream",
     "text": [
      "CPU times: user 6.46 s, sys: 202 ms, total: 6.66 s\n",
      "Wall time: 5.87 s\n"
     ]
    }
   ],
   "source": [
    "%%time\n",
    "f = bagfsr(ncaa2,0.05)"
   ]
  },
  {
   "cell_type": "code",
   "execution_count": 20,
   "metadata": {
    "collapsed": false
   },
   "outputs": [
    {
     "data": {
      "text/plain": [
       "[1] \"Coefficent estimates\"\n",
       " [1]  0.023  3.057  0.195  0.785  0.207  0.102 -2.257 -0.351  1.254  0.000\n",
       "[11]  0.075 -0.126  0.026  0.022  0.000  0.028 -0.041 -0.028  0.022\n",
       "\n",
       "[1] \"Bootstrap standard deviations of coeff. estimates\"\n",
       " [1] 0.058 0.963 0.148 0.279 0.159 0.133 1.564 0.471 1.524 0.000 0.171 0.285\n",
       "[13] 0.068 0.160 0.000 0.138 0.082 0.070 0.068\n",
       "\n",
       "[1] \"Proportion of times variable appears in selected model\"\n",
       " [1] 0.200 1.000 0.685 0.950 0.675 0.400 0.730 0.400 0.440 0.250 0.260 0.170\n",
       "[13] 0.170 0.100 0.300 0.175 0.250 0.195 0.165\n",
       "\n",
       "[1] \"Mean of estimated alpha-to-enter\"\n",
       "[1] 0.0445\n",
       "\n",
       "[1] \"Mean size of selected model\"\n",
       "[1] 7.515\n"
      ]
     },
     "metadata": {},
     "output_type": "display_data"
    }
   ],
   "source": [
    "%%R\n",
    "print(\"Coefficent estimates\")\n",
    "print(round(out.ncaa$coeff.av,3))\n",
    "cat(\"\\n\")\n",
    "print(\"Bootstrap standard deviations of coeff. estimates\")\n",
    "print(round(out.ncaa$coeff.sd,3))\n",
    "cat(\"\\n\")\n",
    "print(\"Proportion of times variable appears in selected model\")\n",
    "print(round(out.ncaa$prop,3))\n",
    "cat(\"\\n\")\n",
    "print(\"Mean of estimated alpha-to-enter\")\n",
    "print(round(out.ncaa$amean,4))\n",
    "cat(\"\\n\")\n",
    "print(\"Mean size of selected model\")\n",
    "print(round(out.ncaa$sizem,4))"
   ]
  },
  {
   "cell_type": "code",
   "execution_count": 18,
   "metadata": {
    "collapsed": false
   },
   "outputs": [
    {
     "name": "stdout",
     "output_type": "stream",
     "text": [
      "      betahat    betase  prop_incl\n",
      "x1   0.027735  0.007111      0.160\n",
      "x2   1.765775  0.349283      1.000\n",
      "x3   0.295532  0.045073      0.695\n",
      "x4   0.573319  0.182151      0.940\n",
      "x5   0.210366  0.056223      0.705\n",
      "x6   0.110519  0.034700      0.375\n",
      "x7  -1.356295  0.665157      0.775\n",
      "x8  -0.145946  0.072469      0.300\n",
      "x9   0.624109  0.343975      0.370\n",
      "x10 -0.000104  0.000035      0.195\n",
      "x11  0.044783  0.028402      0.230\n",
      "x12 -0.121148  0.028495      0.115\n",
      "x13  0.009884  0.007564      0.125\n",
      "x14 -0.035171  0.036668      0.140\n",
      "x15 -0.000000  0.000000      0.000\n",
      "x16 -0.015030  0.016207      0.155\n",
      "x17 -0.058610  0.010006      0.230\n",
      "x18 -0.045009  0.010923      0.180\n",
      "x19  0.015478  0.007667      0.125\n",
      "Mean alpha\n",
      "0.0502519486233\n",
      "Mean size\n",
      "7.095\n"
     ]
    }
   ],
   "source": [
    "print f.covs\n",
    "print \"Mean alpha\\n\", f.alpha\n",
    "print \"Mean size\\n\", f.size"
   ]
  },
  {
   "cell_type": "code",
   "execution_count": null,
   "metadata": {
    "collapsed": true
   },
   "outputs": [],
   "source": []
  }
 ],
 "metadata": {
  "kernelspec": {
   "display_name": "Python 2",
   "language": "python",
   "name": "python2"
  },
  "language_info": {
   "codemirror_mode": {
    "name": "ipython",
    "version": 2
   },
   "file_extension": ".py",
   "mimetype": "text/x-python",
   "name": "python",
   "nbconvert_exporter": "python",
   "pygments_lexer": "ipython2",
   "version": "2.7.9"
  }
 },
 "nbformat": 4,
 "nbformat_minor": 0
}
