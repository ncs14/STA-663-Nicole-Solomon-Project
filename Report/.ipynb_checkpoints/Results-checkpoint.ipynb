{
 "cells": [
  {
   "cell_type": "markdown",
   "metadata": {},
   "source": [
    "## Create files to run timing profiles on Python and R functions"
   ]
  },
  {
   "cell_type": "markdown",
   "metadata": {},
   "source": [
    "#### Standard FFSR"
   ]
  },
  {
   "cell_type": "code",
   "execution_count": 2,
   "metadata": {
    "collapsed": false
   },
   "outputs": [
    {
     "name": "stdout",
     "output_type": "stream",
     "text": [
      "Overwriting ffsr_r_run.py\n"
     ]
    }
   ],
   "source": [
    "%%file ffsr_r_run.py\n",
    "\n",
    "import rpy2.robjects as ro\n",
    "import pandas.rpy.common as com\n",
    "\n",
    "ro.r(\"\"\"fsr.fast<-function(x,y,gam0=.05,digits=4,print=T,plot=F){\n",
    "# estimated alpha for forward selection using Fast FSR (no simulation)\n",
    "# typical call: fsr.fast(x=ncaa2[,1:19],y=ncaa2[,20])->out\n",
    "# for use inside simulation loops, set print=F and plot=F\n",
    "# version 7 circa Nov. 2009, modified to handle partially blank colnames\n",
    "require(leaps)\n",
    "ok<-complete.cases(x,y)\n",
    "x<-x[ok,]                            # get rid of na's\n",
    "y<-y[ok]                             # since regsubsets can't handle na's\n",
    "m<-ncol(x)\n",
    "n<-nrow(x)\n",
    "if(m >= n) m1 <- n-5  else m1<-m     # to get rid of NA's in pv\n",
    "vm<-1:m1\n",
    "as.matrix(x)->x                      # in case x is a data frame\n",
    "if(any(colnames(x)==\"\"))colnames(x)<-NULL       # if only partially named columns\n",
    "colnames(x)<-colnames(x,do.NULL=F,prefix=\"\")    # corrects for no colnames\n",
    "pvm<-rep(0,m1)                       # to create pvm below\n",
    "regsubsets(x,y,method=\"forward\")->out.x\n",
    "pv.orig<-1-pf((out.x$rss[vm]-out.x$rss[vm+1])*(out.x$nn-(vm+1))/out.x$rss[vm+1],1,out.x$nn-(vm+1))\n",
    "for (i in 1:m1){pvm[i]<-max(pv.orig[1:i])}  # sequential max of pvalues\n",
    "alpha<-c(0,pvm)\n",
    "ng<-length(alpha)\n",
    "S<-rep(0,ng)                         # will contain num. of true entering in orig.\n",
    "real.seq<-data.frame(var=(out.x$vorder-1)[2:(m1+1)],pval=pv.orig,\n",
    "         pvmax=pvm)#,Rsq=round(1-out.x$rss[2:(m1+1)]/out.x$rss[1],4))\n",
    "for (ia in 2:ng){                    # loop through alpha values for S=size\n",
    "S[ia] <- sum(pvm<=alpha[ia])         # size of models at alpha[ia], S[1]=0\n",
    "}\n",
    "ghat<-(m-S)*alpha/(1+S)              # gammahat_ER\n",
    "# add additional points to make jumps\n",
    "alpha2<-alpha[2:ng]-.0000001\n",
    "ghat2<-(m-S[1:(ng-1)])*alpha2/(1+S[1:(ng-1)])\n",
    "zp<-data.frame(a=c(alpha,alpha2),g=c(ghat,ghat2))\n",
    "zp<-zp[order(zp$a),]\n",
    "gmax<-max(zp$g)\n",
    "index.max<-which.max(zp$g)           # index of largest ghat\n",
    "alphamax<-zp$a[index.max]            # alpha with largest ghat\n",
    "# gmax<-max(ghat)\n",
    "# index.max<-which.max(ghat)           # index of largest ghat\n",
    "# alphamax<-alpha[index.max]           # alpha with largest ghat\n",
    "ind<-(ghat <= gam0 & alpha<=alphamax)*1\n",
    "Sind<-S[max(which(ind > 0))]           # model size with ghat just below gam0\n",
    "alphahat.fast<-(1+Sind)*gam0/(m-Sind)  # ER est.\n",
    "size1<-sum(pvm<=alphahat.fast)+1       # size of model including intercept\n",
    "x<-x[,colnames(x)[(out.x$vorder-1)[2:size1]]]\n",
    "if(size1>1) x.ind<-(out.x$vorder-1)[2:size1]  else x.ind<-0\n",
    "if (size1==1) {mod <- lm(y~1)} else {mod <- lm(y~x)}\n",
    "# ghat3<-(m-size1+1)*alpha/(1+S)         # uses final ku est.\n",
    "ghat4<-(m-size1+1)*alpha/(1+0:m)\n",
    "#res<-data.frame(real.seq,ghigh=ghat2,glow=ghat[2:ng])\n",
    "alphas<-gam0 * (1. + S[2:ng]) / (m - S[2:ng])\n",
    "res<-data.frame(S=S[2:ng],real.seq,alpha=alphas,g=ghat[2:ng])\n",
    "if(print)print(round(res,digits))\n",
    "#if(plot){\n",
    "#plot(zp$a,zp$g,type=\"b\",xlab=\"Alpha\",ylab=\"Estimated Gamma\",xlim=c(0,alphamax))\n",
    "#points(alphahat.fast,gam0,pch=19)\n",
    "#lines(c(-1,alphahat.fast),c(gam0,gam0))\n",
    "#lines(c(alphahat.fast,alphahat.fast),c(-1,gam0))\n",
    "#}  # ends plot\n",
    "return(list(res=round(res,digits),mod=mod,size=size1-1,x.ind=x.ind,alphahat.ER=alphahat.fast))\n",
    "}\"\"\")\n",
    "\n",
    "ro.r('ncaa <- as.matrix(read.table(\"ncaa_data2.txt\",header=T))')\n",
    "\n",
    "print \"NCSU R Results:\\n\"\n",
    "\n",
    "print ro.r('system.time(fsr.fast(x=ncaa[,1:19],y=ncaa[,20]))')"
   ]
  },
  {
   "cell_type": "code",
   "execution_count": 2,
   "metadata": {
    "collapsed": false
   },
   "outputs": [
    {
     "name": "stdout",
     "output_type": "stream",
     "text": [
      "Overwriting ffsr_p_run.py\n"
     ]
    }
   ],
   "source": [
    "%%file ffsr_p_run.py\n",
    "\n",
    "from ffsr import ffsr\n",
    "import pandas as pd\n",
    "import numpy as np\n",
    "\n",
    "### Read in NCAA2 data from NCSU webpage\n",
    "ncaadata = pd.read_csv(\"ncaa_data2.txt\", delim_whitespace=True, skipinitialspace=True)\n",
    "\n",
    "# move outcome variable to first column\n",
    "cols = ncaadata.columns.tolist()\n",
    "cols = cols[-1:] + cols[:-1]\n",
    "\n",
    "ncaa2 = pd.DataFrame(ncaadata[cols],dtype='float')\n",
    "\n",
    "print \"Python Results:\\n\"\n",
    "\n",
    "print ffsr(ncaa2,0.05).fsres"
   ]
  },
  {
   "cell_type": "markdown",
   "metadata": {},
   "source": [
    "#### Force-in FFSR"
   ]
  },
  {
   "cell_type": "code",
   "execution_count": 5,
   "metadata": {
    "collapsed": false
   },
   "outputs": [
    {
     "name": "stdout",
     "output_type": "stream",
     "text": [
      "Overwriting ffsr_force_r_run.py\n"
     ]
    }
   ],
   "source": [
    "%%file ffsr_force_r_run.py\n",
    "\n",
    "import rpy2.robjects as ro\n",
    "import pandas.rpy.common as com\n",
    "\n",
    "ro.r(\"\"\"fsr.fast.include<-function(x,y,gam0=.05,digits=4,print=T,inc){\n",
    "# estimated alpha for forward selection\n",
    "# this program allows variables to be forced in\n",
    "# for example inc=c(12,3,5) forces in variables in columns 12,3, and 5 of x\n",
    "# not set up to handle inc=NULL, use fsr.fast when not including variables\n",
    "require(leaps)\n",
    "ok<-complete.cases(x,y)\n",
    "x<-x[ok,]                            # get rid of na's\n",
    "y<-y[ok]                             # since regsubsets can't handle na's\n",
    "m<-ncol(x)\n",
    "n<-nrow(x)\n",
    "colnames(x)<- as.character(1:m)\n",
    "m.inc=length(inc)\n",
    "inc.reo=c(inc,setdiff(1:m,inc))        # new order for x's, inc at beginning\n",
    "if(m >= n) m1 <- n-5  else m1<-m     # to get rid of NA's in pv\n",
    "vm<-1:m1\n",
    "as.matrix(x)->x                      # in case x is a data frame\n",
    "pvm<-rep(0,m1)                       # to create pvm below\n",
    "regsubsets(x,y,force.in=inc,method=\"forward\")->out.x\n",
    "ch=out.x$vorder-1\n",
    "vorder.new=inc.reo[ch[2:(m1+1)]]     # order without intercept\n",
    "pv.orig<-1-pf((out.x$rss[vm]-out.x$rss[vm+1])*(out.x$nn-(vm+1))/out.x$rss[vm+1],1,out.x$nn-(vm+1))\n",
    "pv.orig[1:m.inc]=rep(0,m.inc)\n",
    "for (i in (m.inc+1):m1){pvm[i]<-max(pv.orig[1:i])}  # sequential max of pvalues\n",
    "alpha<-c(0,pvm)\n",
    "ng<-length(alpha)\n",
    "S<-rep(0,ng)                         # will contain num. of true entering in orig.\n",
    "for (ia in 2:ng){                    # loop through alpha values for S=size\n",
    "S[ia] <- sum(pvm<=alpha[ia])         # size of models at alpha[ia], S[1]=0\n",
    "}\n",
    "alphas<-gam0 * (1. + S[2:ng]) / (m - S[2:ng])\n",
    "ghat<-(m-S)*alpha/(1+S)              # gammahat_ER\n",
    "real.seq<-data.frame(S=S[2:ng],var=vorder.new,pval=pv.orig,\n",
    "         pvmax=pvm,alpha=alphas,g=ghat[2:ng])#,Rsq=round(1-out.x$rss[2:(m1+1)]/out.x$rss[1],4))\n",
    "alpha<-c(0,pvm[(m.inc+1):m1])        # note alpha reduced by number forced in\n",
    "ng<-length(alpha)\n",
    "S<-rep(0,ng)                         # will contain num. of true entering in orig.\n",
    "pvm=pvm[(m.inc+1):m1]                # redefine to get rid of 0's at beginnning\n",
    "for (ia in 2:ng){                    # loop through alpha values for S=size\n",
    "S[ia] <- sum(pvm<=alpha[ia])         # size of models at alpha[ia], S[1]=0\n",
    "}\n",
    "ghat<-(m-m.inc-S)*alpha/(1+S)              # gammahat_ER\n",
    "####\n",
    "if(print)print(round(real.seq,digits),S)\n",
    "# add additional points to make jumps\n",
    "alpha2<-alpha[2:ng]-.0000001\n",
    "ghat2<-(m-m.inc-S[1:(ng-1)])*alpha2/(1+S[1:(ng-1)])\n",
    "zp<-data.frame(a=c(alpha,alpha2),g=c(ghat,ghat2))\n",
    "zp<-zp[order(zp$a),]\n",
    "gmax<-max(zp$g)\n",
    "index.max<-which.max(zp$g)           # index of largest ghat\n",
    "alphamax<-zp$a[index.max]            # alpha with largest ghat\n",
    "ind<-(ghat <= gam0 & alpha<=alphamax)*1\n",
    "Sind<-S[max(which(ind > 0))]          # model size with ghat just below gam0\n",
    "alphahat.fast<-(1+Sind)*gam0/(m-m.inc-Sind)  # ER est.\n",
    "size<-sum(pvm<=alphahat.fast)+m.inc       # size of model without intercept\n",
    "colnames(x)<-colnames(x,do.NULL=F,prefix=\"\")      # corrects for no colnames\n",
    "x<-x[,colnames(x)[vorder.new[1:size]]]\n",
    "x.ind<-vorder.new[1:size]\n",
    "mod <- lm(y~x)\n",
    "return(list(mod=mod,size=size,x.ind=x.ind,alphahat.ER=alphahat.fast,inc=inc))\n",
    "}\"\"\")\n",
    "\n",
    "ro.r('ncaa <- as.matrix(read.table(\"ncaa_data2.txt\",header=T))')\n",
    "\n",
    "print \"NCSU R Results:\\n\"\n",
    "\n",
    "print ro.r('system.time(fsr.fast.include(x=ncaa[,1:19],y=ncaa[,20],inc=c(12,3,5)))')"
   ]
  },
  {
   "cell_type": "code",
   "execution_count": 4,
   "metadata": {
    "collapsed": false
   },
   "outputs": [
    {
     "name": "stdout",
     "output_type": "stream",
     "text": [
      "Overwriting ffsr_force_p_run.py\n"
     ]
    }
   ],
   "source": [
    "%%file ffsr_force_p_run.py\n",
    "\n",
    "from ffsr import ffsr\n",
    "import pandas as pd\n",
    "import numpy as np\n",
    "\n",
    "import warnings\n",
    "warnings.simplefilter(action = \"ignore\", category = FutureWarning)\n",
    "\n",
    "### Read in NCAA2 data from NCSU webpage\n",
    "ncaadata = pd.read_csv(\"ncaa_data2.txt\", delim_whitespace=True, skipinitialspace=True)\n",
    "\n",
    "# move outcome variable to first column\n",
    "cols = ncaadata.columns.tolist()\n",
    "cols = cols[-1:] + cols[:-1]\n",
    "\n",
    "ncaa2 = pd.DataFrame(ncaadata[cols],dtype='float')\n",
    "\n",
    "print \"Python Results:\\n\"\n",
    "\n",
    "print ffsr(ncaa2,0.05,var_incl=np.array([12,3,5])).fsres"
   ]
  },
  {
   "cell_type": "markdown",
   "metadata": {},
   "source": [
    "#### Bagging FFSR"
   ]
  },
  {
   "cell_type": "code",
   "execution_count": 6,
   "metadata": {
    "collapsed": false
   },
   "outputs": [
    {
     "name": "stdout",
     "output_type": "stream",
     "text": [
      "NCSU R Results:\n",
      "\n",
      "   user  system elapsed \n",
      "  0.821   0.019   0.848 \n",
      "\n",
      "[1] \"Mean of estimated alpha-to-enter: 0.0462\"\n",
      "\n",
      "[1] \"Mean size of selected model: 7.685\"\n",
      "\n"
     ]
    }
   ],
   "source": [
    "#%%file ffsr_bag_r_run.py\n",
    "\n",
    "import rpy2.robjects as ro\n",
    "import pandas.rpy.common as com\n",
    "\n",
    "ro.r(\"\"\"bag.fsr<-function(x,y,B=100,gam0=.05){\n",
    "# gives average coefficients from fsr.fast6.sim\n",
    "ok<-complete.cases(x,y)\n",
    "x<-x[ok,]                            # get rid of na's\n",
    "y<-y[ok]                             # since regsubsets can't handle na's\n",
    "m<-ncol(x)\n",
    "n<-nrow(x)\n",
    "hold<-matrix(rep(0,m*B),nrow=B)      # holds coefficients\n",
    "interc<-rep(0,B)                     # holds intercepts\n",
    "alphahat<-rep(0,B)                   # holds alphahats\n",
    "size<-rep(0,B)                       # holds sizes\n",
    "for(i in 1:B){\n",
    "index<-sample(1:n,n,replace=T)\n",
    "out<-fsr.fast6.sim(x=x[index,],y=y[index],gam0=gam0)\n",
    "if (out$size>0) hold[i,out$x.ind]<-out$mod$coeff[2:(out$size+1)]\n",
    "interc[i]<-out$mod$coeff[1]\n",
    "alphahat[i]<-out$alphahat.ER\n",
    "size[i]<-out$size\n",
    "}                                    # ends i loop\n",
    "coeff.av<-apply(hold,2, mean)\n",
    "coeff.sd<-rep(0,m)\n",
    "coeff.sd<-sqrt(apply(hold,2, var))\n",
    "interc.av<-mean(interc)\n",
    "interc.sd<-sd(interc)\n",
    "amean<-mean(alphahat)\n",
    "sizem<-mean(size)\n",
    "prop<-rep(0,m)\n",
    "for(j in 1:m){prop[j]<-sum(abs(hold[,j])>0)/B}\n",
    "as.matrix(x)->x                      # in case x is a data frame\n",
    "pred<-x%*%coeff.av+interc.av\n",
    "return(list(coeff.av=coeff.av,coeff.sd=coeff.sd,interc.av=interc.av,pred=pred,\n",
    "            interc.sd=interc.sd,prop=prop,amean=amean,sizem=sizem))\n",
    "}\"\"\")\n",
    "\n",
    "ro.r(\"\"\"fsr.fast6.sim<-function(x,y,gam0=.05){\n",
    "# estimated alpha for forward selection\n",
    "# short output version\n",
    "require(leaps)\n",
    "ok<-complete.cases(x,y)\n",
    "x<-x[ok,]                            # get rid of na's\n",
    "y<-y[ok]                             # since regsubsets can't handle na's\n",
    "m<-ncol(x)\n",
    "n<-nrow(x)\n",
    "if(m >= n) m1 <- n-5  else m1<-m     # to get rid of NA's in pv\n",
    "vm<-1:m1\n",
    "as.matrix(x)->x                      # in case x is a data frame\n",
    "pvm<-rep(0,m1)                       # to create pvm below\n",
    "regsubsets(x,y,method=\"forward\")->out.x\n",
    "pv.orig<-1-pf((out.x$rss[vm]-out.x$rss[vm+1])*(out.x$nn-(vm+1))/out.x$rss[vm+1],1,out.x$nn-(vm+1))\n",
    "for (i in 1:m1){pvm[i]<-max(pv.orig[1:i])}  # sequential max of pvalues\n",
    "alpha<-c(0,pvm)\n",
    "ng<-length(alpha)\n",
    "S<-rep(0,ng)                         # will contain num. of true entering in orig.\n",
    "real.seq<-data.frame(var=(out.x$vorder-1)[2:(m1+1)],pval=pv.orig,\n",
    "         pvmax=pvm,Rsq=round(1-out.x$rss[2:(m1+1)]/out.x$rss[1],4))\n",
    "for (ia in 2:ng){                    # loop through alpha values for S=size\n",
    "S[ia] <- sum(pvm<=alpha[ia])         # size of models at alpha[ia], S[1]=0\n",
    "}\n",
    "ghat<-(m-S)*alpha/(1+S)              # gammahat_ER\n",
    "# add additional points to make jumps\n",
    "alpha2<-alpha[2:ng]-.0000001\n",
    "ghat2<-(m-S[1:(ng-1)])*alpha2/(1+S[1:(ng-1)])\n",
    "zp<-data.frame(a=c(alpha,alpha2),g=c(ghat,ghat2))\n",
    "zp<-zp[order(zp$a),]\n",
    "gmax<-max(zp$g)\n",
    "index.max<-which.max(zp$g)           # index of largest ghat\n",
    "alphamax<-zp$a[index.max]            # alpha with largest ghat\n",
    "ind<-(ghat <= gam0 & alpha<=alphamax)*1\n",
    "Sind<-S[max(which(ind > 0))]          # model size with ghat just below gam0\n",
    "alphahat.fast<-(1+Sind)*gam0/(m-Sind)  # ER est.\n",
    "size1<-sum(pvm<=alphahat.fast)+1       # size of model including intercept\n",
    "colnames(x)<-colnames(x,do.NULL=F,prefix=\"\")      # corrects for no colnames\n",
    "x<-x[,colnames(x)[(out.x$vorder-1)[2:size1]]]\n",
    "if(size1>1) x.ind<-(out.x$vorder-1)[2:size1]  else x.ind<-0\n",
    "if (size1==1) {mod <- lm(y~1)} else {mod <- lm(y~x)}\n",
    "return(list(mod=mod,size=size1-1,x.ind=x.ind,alphahat.ER=alphahat.fast))\n",
    "}\"\"\")\n",
    "\n",
    "ro.r('ncaa <- as.matrix(read.table(\"ncaa_data2.txt\",header=T))')\n",
    "\n",
    "print \"NCSU R Results:\\n\"\n",
    "\n",
    "print ro.r('system.time(bag.fsr(x=ncaa[,1:19],y=ncaa[,20],B=200)->out.ncaa)')\n",
    "\n",
    "print ro.r('paste(\"Mean of estimated alpha-to-enter:\",round(out.ncaa$amean,4))')\n",
    "print ro.r('paste(\"Mean size of selected model:\",round(out.ncaa$sizem,4))')"
   ]
  },
  {
   "cell_type": "code",
   "execution_count": 1,
   "metadata": {
    "collapsed": false
   },
   "outputs": [
    {
     "name": "stdout",
     "output_type": "stream",
     "text": [
      "Python Results:\n",
      "\n",
      "Mean of estimated alpha-to-enter: 0.0503\n",
      "\n",
      "Mean size of selected model: 7.095\n"
     ]
    }
   ],
   "source": [
    "#%%file ffsr_bag_p_run.py\n",
    "\n",
    "from ffsr import bagfsr\n",
    "import pandas as pd\n",
    "import numpy as np\n",
    "\n",
    "### Read in NCAA2 data from NCSU webpage\n",
    "ncaadata = pd.read_csv(\"ncaa_data2.txt\", delim_whitespace=True, skipinitialspace=True)\n",
    "\n",
    "# move outcome variable to first column\n",
    "cols = ncaadata.columns.tolist()\n",
    "cols = cols[-1:] + cols[:-1]\n",
    "\n",
    "ncaa2 = pd.DataFrame(ncaadata[cols],dtype='float')\n",
    "\n",
    "f = bagfsr(ncaa2,0.05)\n",
    "\n",
    "print \"Python Results:\"\n",
    "print\n",
    "print \"Mean of estimated alpha-to-enter:\", round(f.alpha,4)\n",
    "print\n",
    "print \"Mean size of selected model:\", f.size"
   ]
  },
  {
   "cell_type": "markdown",
   "metadata": {},
   "source": [
    "## Change dir to run unit tests"
   ]
  },
  {
   "cell_type": "code",
   "execution_count": 12,
   "metadata": {
    "collapsed": false
   },
   "outputs": [
    {
     "data": {
      "text/plain": [
       "'/home/bitnami/STA-663-Nicole-Solomon-Project/Report'"
      ]
     },
     "execution_count": 12,
     "metadata": {},
     "output_type": "execute_result"
    }
   ],
   "source": [
    "import os\n",
    "os.getcwd()"
   ]
  },
  {
   "cell_type": "code",
   "execution_count": 3,
   "metadata": {
    "collapsed": false
   },
   "outputs": [
    {
     "name": "stdout",
     "output_type": "stream",
     "text": [
      "\u001b[1m============================= test session starts ==============================\u001b[0m\n",
      "platform linux2 -- Python 2.7.9 -- py-1.4.25 -- pytest-2.6.3\n",
      "collected 31 items \n",
      "\u001b[0m\n",
      "test_alpha.py ....\n",
      "test_alphag.py ..........\n",
      "test_bagfsr.py ...\n",
      "test_beta.py .....\n",
      "test_covnames.py .\n",
      "test_df_type.py ..\n",
      "test_ffsr.py ..\n",
      "test_gamma.py ...\n",
      "test_pvals.py .\n",
      "\n",
      "\u001b[32m\u001b[1m========================== 31 passed in 2.65 seconds ===========================\u001b[0m\n"
     ]
    }
   ],
   "source": [
    "import os\n",
    "os.chdir('/home/bitnami/STA-663-Nicole-Solomon-Project/Tests')\n",
    "!py.test"
   ]
  },
  {
   "cell_type": "code",
   "execution_count": null,
   "metadata": {
    "collapsed": true
   },
   "outputs": [],
   "source": []
  }
 ],
 "metadata": {
  "kernelspec": {
   "display_name": "Python 2",
   "language": "python",
   "name": "python2"
  },
  "language_info": {
   "codemirror_mode": {
    "name": "ipython",
    "version": 2
   },
   "file_extension": ".py",
   "mimetype": "text/x-python",
   "name": "python",
   "nbconvert_exporter": "python",
   "pygments_lexer": "ipython2",
   "version": "2.7.9"
  }
 },
 "nbformat": 4,
 "nbformat_minor": 0
}
