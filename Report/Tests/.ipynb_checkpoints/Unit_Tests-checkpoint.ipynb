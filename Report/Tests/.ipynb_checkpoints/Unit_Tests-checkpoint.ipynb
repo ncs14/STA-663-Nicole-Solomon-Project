{
 "cells": [
  {
   "cell_type": "markdown",
   "metadata": {},
   "source": [
    "### Unit Tests of FFSR Module Functions ###"
   ]
  },
  {
   "cell_type": "code",
   "execution_count": null,
   "metadata": {
    "collapsed": true
   },
   "outputs": [],
   "source": [
    "# Date: 4/28-29/15"
   ]
  },
  {
   "cell_type": "code",
   "execution_count": 7,
   "metadata": {
    "collapsed": false
   },
   "outputs": [],
   "source": [
    "# rm -rf __pycache__/"
   ]
  },
  {
   "cell_type": "code",
   "execution_count": 1,
   "metadata": {
    "collapsed": false
   },
   "outputs": [
    {
     "name": "stdout",
     "output_type": "stream",
     "text": [
      "Overwriting test_df_type.py\n"
     ]
    }
   ],
   "source": [
    "%%file test_df_type.py\n",
    "\n",
    "import numpy as np\n",
    "import pandas as pd\n",
    "from numpy.testing import assert_raises\n",
    "from ffsr import df_type\n",
    "\n",
    "def test_df_warn():\n",
    "    x = list(np.arange(5))\n",
    "    assert_raises(ValueError,df_type,x)\n",
    "    \n",
    "def test_df_df():\n",
    "    x1 = np.arange(15).reshape(3,5)\n",
    "    x2 = pd.DataFrame(x1)\n",
    "    assert df_type(x1)*1+df_type(x2)*1 == 2"
   ]
  },
  {
   "cell_type": "code",
   "execution_count": 4,
   "metadata": {
    "collapsed": false
   },
   "outputs": [
    {
     "name": "stdout",
     "output_type": "stream",
     "text": [
      "Overwriting test_covnames.py\n"
     ]
    }
   ],
   "source": [
    "%%file test_covnames.py\n",
    "\n",
    "import readline\n",
    "import ffsr as f\n",
    "from numpy.testing import assert_raises\n",
    "\n",
    "import rpy2.robjects as ro\n",
    "import pandas.rpy.common as com\n",
    "from rpy2.robjects.packages import importr\n",
    "\n",
    "import numpy as np\n",
    "import pandas as pd\n",
    "\n",
    "leaps = importr('leaps')\n",
    "stats = importr('stats')\n",
    "base = importr('base')\n",
    "\n",
    "regsub = ro.r('leaps::regsubsets')\n",
    "\n",
    "np.random.seed(1234)\n",
    "\n",
    "X = np.random.multivariate_normal(np.zeros(15),np.eye(15),(100))\n",
    "beta = np.array([0,0,5,6,0,0,4,0,0,0,5,0,0,0,0]).reshape(15,1) # signif betas: 3,4,7,11\n",
    "Y = X.dot(beta)\n",
    "Y2 = pd.DataFrame(Y)\n",
    "X2 = pd.DataFrame(X)\n",
    "X2.columns = [\"V1\",\"V2\",\"V3\",\"V4\",\"V5\",\"V6\",\"V7\",\"V8\",\"V9\",\"V10\",\"V11\",\"V12\",\"V13\",\"V14\",\"V15\"]\n",
    "\n",
    "fwd_r = f.forward(X2,Y2)\n",
    "\n",
    "def test_nonames():    \n",
    "    assert_raises(TypeError,f.cov_order,None)"
   ]
  },
  {
   "cell_type": "code",
   "execution_count": 14,
   "metadata": {
    "collapsed": true
   },
   "outputs": [],
   "source": [
    "#%load_ext rpy2.ipython # <- doesn't help test_covnames.py run properly with py.test"
   ]
  },
  {
   "cell_type": "code",
   "execution_count": 6,
   "metadata": {
    "collapsed": false
   },
   "outputs": [
    {
     "name": "stdout",
     "output_type": "stream",
     "text": [
      "Overwriting test_pvals.py\n"
     ]
    }
   ],
   "source": [
    "%%file test_pvals.py\n",
    "\n",
    "from ffsr import *\n",
    "\n",
    "import readline\n",
    "import rpy2.robjects as ro\n",
    "import pandas.rpy.common as com\n",
    "\n",
    "import numpy as np\n",
    "import pandas as pd\n",
    "\n",
    "np.random.seed(1234)\n",
    "\n",
    "X = np.random.multivariate_normal(np.zeros(15),np.eye(15),(100))\n",
    "beta = np.array([0,0,5,6,0,0,4,0,0,0,5,0,0,0,0]).reshape(15,1) # signif betas: 3,4,7,11\n",
    "Y = X.dot(beta)\n",
    "Y2 = pd.DataFrame(Y)\n",
    "X2 = pd.DataFrame(X)\n",
    "X2.columns = [\"V1\",\"V2\",\"V3\",\"V4\",\"V5\",\"V6\",\"V7\",\"V8\",\"V9\",\"V10\",\"V11\",\"V12\",\"V13\",\"V14\",\"V15\"]\n",
    "\n",
    "fwd_r = forward(X2,Y2)\n",
    "codnames = cov_order(X2.columns.values)\n",
    "\n",
    "def test_probability():    \n",
    "    assert 0. <= np.all(pval_comp(X2.shape[1])) <= 1"
   ]
  },
  {
   "cell_type": "code",
   "execution_count": 1,
   "metadata": {
    "collapsed": false
   },
   "outputs": [
    {
     "name": "stdout",
     "output_type": "stream",
     "text": [
      "Overwriting test_gamma.py\n"
     ]
    }
   ],
   "source": [
    "%%file test_gamma.py\n",
    "\n",
    "from ffsr import gamma_F\n",
    "from numpy.testing import assert_raises\n",
    "\n",
    "import numpy as np\n",
    "\n",
    "np.random.seed(1234)\n",
    "\n",
    "po = np.random.random(15)\n",
    "pm = np.array([max(po[:(i+1)]) for i in range(len(po))])\n",
    "s = np.array([len(np.where(pm<=pm[i])[0]) for i in range(len(pm))])\n",
    "\n",
    "def test_nopvals():    \n",
    "    assert_raises(TypeError,gamma_F,None,15,s)\n",
    "    \n",
    "def test_stoobig():\n",
    "    assert_raises(ValueError,gamma_F,pm[:10],10,s)\n",
    "    \n",
    "def test_ncovtoosmall():\n",
    "    assert_raises(ValueError,gamma_F,pm,10,s)"
   ]
  },
  {
   "cell_type": "code",
   "execution_count": 2,
   "metadata": {
    "collapsed": false
   },
   "outputs": [
    {
     "name": "stdout",
     "output_type": "stream",
     "text": [
      "Overwriting test_alpha.py\n"
     ]
    }
   ],
   "source": [
    "%%file test_alpha.py\n",
    "\n",
    "from ffsr import alpha_F\n",
    "from numpy.testing import assert_raises, assert_almost_equal\n",
    "import numpy as np\n",
    "\n",
    "s = np.arange(1,15)\n",
    "\n",
    "def test_nogamma0():    \n",
    "    assert_raises(ValueError,alpha_F,None,15,s)\n",
    "    \n",
    "def test_noncov():\n",
    "    assert_raises(ValueError,alpha_F,0.05,None,s)\n",
    "    \n",
    "def test_stoobig():\n",
    "    assert_raises(ValueError,alpha_F,0.05,10,s)\n",
    "    \n",
    "def test_known():\n",
    "    s = np.arange(1,5)\n",
    "    n = 5\n",
    "    a = 0.5 * (1 + s) / (n - s)\n",
    "    af = alpha_F(0.5,n,np.arange(1,n))\n",
    "    assert_almost_equal(a,af)"
   ]
  },
  {
   "cell_type": "code",
   "execution_count": 12,
   "metadata": {
    "collapsed": false
   },
   "outputs": [
    {
     "name": "stdout",
     "output_type": "stream",
     "text": [
      "Overwriting test_alphag.py\n"
     ]
    }
   ],
   "source": [
    "%%file test_alphag.py\n",
    "\n",
    "from ffsr import alpha_F_g\n",
    "from numpy.testing import assert_raises, assert_almost_equal\n",
    "\n",
    "import numpy as np\n",
    "\n",
    "np.random.seed(1234)\n",
    "\n",
    "g = np.random.random(15)\n",
    "g2 = np.array([0.01,0.02,0.03])\n",
    "\n",
    "def test_nogamma0():    \n",
    "    assert_raises(ValueError,alpha_F_g,None,g,15)\n",
    "    \n",
    "def test_nogamma1():\n",
    "    assert_raises(ValueError,alpha_F_g,0.05,None,15)\n",
    "    \n",
    "def test_nogamma2():\n",
    "    assert_raises(ValueError,alpha_F_g,g2,None,15)\n",
    "    \n",
    "def test_g0toobig1():\n",
    "    assert_raises(ValueError,alpha_F_g,1,g,15)\n",
    "    \n",
    "def test_g0toobig2():\n",
    "    assert_raises(ValueError,alpha_F_g,np.array([0.05,1]),g,15)\n",
    "    \n",
    "def test_g0toosm1():\n",
    "    assert_raises(ValueError,alpha_F_g,-0.1,g,15)\n",
    "    \n",
    "def test_g0toosm2():\n",
    "    assert_raises(ValueError,alpha_F_g,np.array([-0.05,0.1]),g,15)\n",
    "    \n",
    "def test_g0toobgsm():\n",
    "    assert_raises(ValueError,alpha_F_g,np.array([-0.05,0.1,1.]),g,15)\n",
    "    \n",
    "def test_noncov1():\n",
    "    assert_raises(TypeError,alpha_F_g,0.05,g,None)\n",
    "    \n",
    "def test_noncov1():\n",
    "    assert_raises(TypeError,alpha_F_g,g2,g,None)\n",
    "    \n",
    "def test_known():\n",
    "    g3 = np.array([0.1,0.5])\n",
    "    n = 5\n",
    "    g0 = 0.25\n",
    "    s = min(np.where(g3>g0)[0])\n",
    "    a = 0.25*2/4. # g0 * (1. + s) / (n - s)\n",
    "    afg = alpha_F_g(g0,g3,n)\n",
    "    assert_almost_equal(a,afg)"
   ]
  },
  {
   "cell_type": "code",
   "execution_count": 6,
   "metadata": {
    "collapsed": false
   },
   "outputs": [
    {
     "name": "stdout",
     "output_type": "stream",
     "text": [
      "Overwriting test_beta.py\n"
     ]
    }
   ],
   "source": [
    "%%file test_beta.py\n",
    "\n",
    "from ffsr import beta_est\n",
    "from numpy.testing import assert_raises\n",
    "\n",
    "import numpy as np\n",
    "import pandas as pd\n",
    "\n",
    "np.random.seed(1234)\n",
    "\n",
    "g = np.random.random(15)\n",
    "\n",
    "X = np.random.multivariate_normal(np.zeros(15),np.eye(15),(100))\n",
    "beta = np.array([0,0,5,6,0,0,4,0,0,0,5,0,0,0,0]).reshape(15,1) # signif betas: 3,4,7,11\n",
    "Y = X.dot(beta)\n",
    "Y2 = pd.DataFrame(Y)\n",
    "X2 = pd.DataFrame(X)\n",
    "X2.columns = [\"V1\",\"V2\",\"V3\",\"V4\",\"V5\",\"V6\",\"V7\",\"V8\",\"V9\",\"V10\",\"V11\",\"V12\",\"V13\",\"V14\",\"V15\"]\n",
    "\n",
    "def test_nox():\n",
    "    assert_raises(AttributeError,beta_est,None,Y2,0.05,g,X2.columns.values)\n",
    "\n",
    "def test_noy():\n",
    "    assert_raises(TypeError,beta_est,X2,None,0.05,g,X2.columns.values)\n",
    "    \n",
    "def test_nog0():\n",
    "    assert_raises(ValueError,beta_est,X2,Y2,None,g,X2.columns.values)\n",
    "    \n",
    "def test_nog():\n",
    "    assert_raises(ValueError,beta_est,X2,Y2,0.05,None,X2.columns.values)\n",
    "\n",
    "def test_nocovnames():\n",
    "    assert_raises(TypeError,beta_est,X2,Y2,0.05,g,None)"
   ]
  },
  {
   "cell_type": "code",
   "execution_count": 24,
   "metadata": {
    "collapsed": false
   },
   "outputs": [
    {
     "name": "stdout",
     "output_type": "stream",
     "text": [
      "Writing test_ffsr.py\n"
     ]
    }
   ],
   "source": [
    "%%file test_ffsr.py\n",
    "\n",
    "from ffsr import ffsr\n",
    "from numpy.testing import assert_raises\n",
    "\n",
    "import numpy as np\n",
    "import pandas as pd\n",
    "\n",
    "np.random.seed(1234)\n",
    "\n",
    "g = np.random.random(15)\n",
    "\n",
    "X = np.random.multivariate_normal(np.zeros(15),np.eye(15),(100))\n",
    "beta = np.array([0,0,5,6,0,0,4,0,0,0,5,0,0,0,0]).reshape(15,1) # signif betas: 3,4,7,11\n",
    "Y = X.dot(beta)\n",
    "Y2 = pd.DataFrame(Y)\n",
    "X2 = pd.DataFrame(X)\n",
    "X2.columns = [\"V1\",\"V2\",\"V3\",\"V4\",\"V5\",\"V6\",\"V7\",\"V8\",\"V9\",\"V10\",\"V11\",\"V12\",\"V13\",\"V14\",\"V15\"]\n",
    "d = pd.concat([Y2,X2],axis=1)\n",
    "\n",
    "def test_toomanyp():\n",
    "    assert_raises(ValueError,ffsr,d.iloc[:10,],0.05)\n",
    "\n",
    "def test_invalidg():\n",
    "    assert_raises(ValueError,ffsr,d,0)"
   ]
  },
  {
   "cell_type": "code",
   "execution_count": 26,
   "metadata": {
    "collapsed": false
   },
   "outputs": [
    {
     "name": "stdout",
     "output_type": "stream",
     "text": [
      "Writing test_bagfsr.py\n"
     ]
    }
   ],
   "source": [
    "%%file test_bagfsr.py\n",
    "\n",
    "from ffsr import bagfsr\n",
    "from numpy.testing import assert_raises\n",
    "\n",
    "import numpy as np\n",
    "import pandas as pd\n",
    "\n",
    "np.random.seed(1234)\n",
    "\n",
    "g = np.random.random(15)\n",
    "\n",
    "X = np.random.multivariate_normal(np.zeros(15),np.eye(15),(100))\n",
    "beta = np.array([0,0,5,6,0,0,4,0,0,0,5,0,0,0,0]).reshape(15,1) # signif betas: 3,4,7,11\n",
    "Y = X.dot(beta)\n",
    "Y2 = pd.DataFrame(Y)\n",
    "X2 = pd.DataFrame(X)\n",
    "X2.columns = [\"V1\",\"V2\",\"V3\",\"V4\",\"V5\",\"V6\",\"V7\",\"V8\",\"V9\",\"V10\",\"V11\",\"V12\",\"V13\",\"V14\",\"V15\"]\n",
    "d = pd.concat([Y2,X2],axis=1)\n",
    "\n",
    "def test_toomanyp():\n",
    "    assert_raises(ValueError,bagfsr,d.iloc[:10,],0.05)\n",
    "\n",
    "def test_invalidg():\n",
    "    assert_raises(ValueError,bagfsr,d,0)\n",
    "    \n",
    "def test_invalidB():\n",
    "    assert_raises(ValueError,bagfsr,d,0.05,0)"
   ]
  },
  {
   "cell_type": "code",
   "execution_count": 3,
   "metadata": {
    "collapsed": false
   },
   "outputs": [
    {
     "name": "stdout",
     "output_type": "stream",
     "text": [
      "\u001b[1m============================= test session starts ==============================\u001b[0m\n",
      "platform linux2 -- Python 2.7.9 -- py-1.4.25 -- pytest-2.6.3\n",
      "collected 31 items \n",
      "\u001b[0m\n",
      "test_alpha.py ....\n",
      "test_alphag.py ..........\n",
      "test_bagfsr.py ...\n",
      "test_beta.py .....\n",
      "test_covnames.py .\n",
      "test_df_type.py ..\n",
      "test_ffsr.py ..\n",
      "test_gamma.py ...\n",
      "test_pvals.py .\n",
      "\n",
      "\u001b[32m\u001b[1m========================== 31 passed in 2.62 seconds ===========================\u001b[0m\n"
     ]
    }
   ],
   "source": [
    "! py.test\n",
    "# See bottom cells for expected results of test_covnames.py, test_pvals.py"
   ]
  },
  {
   "cell_type": "code",
   "execution_count": null,
   "metadata": {
    "collapsed": true
   },
   "outputs": [],
   "source": []
  }
 ],
 "metadata": {
  "kernelspec": {
   "display_name": "Python 2",
   "language": "python",
   "name": "python2"
  },
  "language_info": {
   "codemirror_mode": {
    "name": "ipython",
    "version": 2
   },
   "file_extension": ".py",
   "mimetype": "text/x-python",
   "name": "python",
   "nbconvert_exporter": "python",
   "pygments_lexer": "ipython2",
   "version": "2.7.9"
  }
 },
 "nbformat": 4,
 "nbformat_minor": 0
}
