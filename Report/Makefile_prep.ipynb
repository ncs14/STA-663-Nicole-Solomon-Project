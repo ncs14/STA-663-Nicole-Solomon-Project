{
 "cells": [
  {
   "cell_type": "markdown",
   "metadata": {},
   "source": [
    "## Create Makefile"
   ]
  },
  {
   "cell_type": "code",
   "execution_count": 1,
   "metadata": {
    "collapsed": false
   },
   "outputs": [
    {
     "name": "stdout",
     "output_type": "stream",
     "text": [
      "Overwriting makefile\n"
     ]
    }
   ],
   "source": [
    "%%file makefile\n",
    "STA_663_Final_Project.pdf: STA_663_Final_Project.tex\n",
    "\tpdflatex STA_663_Final_Project\n",
    "\tpdflatex STA_663_Final_Project\n",
    "\tpdflatex STA_663_Final_Project\n",
    "\n",
    ".PHONY: all clean allclean test\n",
    "\n",
    "all: STA_663_Final_Project.pdf \n",
    "\n",
    "clean:\n",
    "\trm -rf *aux *log *pytxcode tests/__pycache__ tests/*pyc\n",
    "\n",
    "allclean:\n",
    "\tmake clean\n",
    "\trm -f *pdf\n",
    "\n",
    "tests:\n",
    "\tpy.test"
   ]
  }
 ],
 "metadata": {
  "kernelspec": {
   "display_name": "Python 2",
   "language": "python",
   "name": "python2"
  },
  "language_info": {
   "codemirror_mode": {
    "name": "ipython",
    "version": 2
   },
   "file_extension": ".py",
   "mimetype": "text/x-python",
   "name": "python",
   "nbconvert_exporter": "python",
   "pygments_lexer": "ipython2",
   "version": "2.7.9"
  }
 },
 "nbformat": 4,
 "nbformat_minor": 0
}
