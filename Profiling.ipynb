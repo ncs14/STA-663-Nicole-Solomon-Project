{
 "cells": [
  {
   "cell_type": "markdown",
   "metadata": {},
   "source": [
    "## Profiling of FFSR Functions"
   ]
  },
  {
   "cell_type": "code",
   "execution_count": 14,
   "metadata": {
    "collapsed": true
   },
   "outputs": [],
   "source": [
    "import ffsr as f"
   ]
  },
  {
   "cell_type": "code",
   "execution_count": 15,
   "metadata": {
    "collapsed": true
   },
   "outputs": [],
   "source": [
    "import numpy as np\n",
    "import pandas as pd\n",
    "\n",
    "np.random.seed(1234)\n",
    "\n",
    "X = np.random.multivariate_normal(np.zeros(15),np.eye(15),(100))\n",
    "beta = np.array([0,0,5,6,0,0,4,0,0,0,5,0,0,0,0]).reshape(15,1) # signif betas: 3,4,7,11\n",
    "Y = X.dot(beta)\n",
    "Y2 = pd.DataFrame(Y)\n",
    "X2 = pd.DataFrame(X)\n",
    "X2.columns = [\"V1\",\"V2\",\"V3\",\"V4\",\"V5\",\"V6\",\"V7\",\"V8\",\"V9\",\"V10\",\"V11\",\"V12\",\"V13\",\"V14\",\"V15\"]\n",
    "d = pd.concat([Y2,X2],axis=1)"
   ]
  },
  {
   "cell_type": "code",
   "execution_count": 16,
   "metadata": {
    "collapsed": false
   },
   "outputs": [
    {
     "name": "stdout",
     "output_type": "stream",
     "text": [
      "CPU times: user 20.2 ms, sys: 1.43 ms, total: 21.6 ms\n",
      "Wall time: 21.4 ms\n"
     ]
    }
   ],
   "source": [
    "%%time\n",
    "fres = f.ffsr(d,0.05)"
   ]
  },
  {
   "cell_type": "code",
   "execution_count": 17,
   "metadata": {
    "collapsed": false
   },
   "outputs": [
    {
     "name": "stdout",
     "output_type": "stream",
     "text": [
      " "
     ]
    }
   ],
   "source": [
    "pstats = %prun -r -q f.ffsr(d, 0.05)"
   ]
  },
  {
   "cell_type": "code",
   "execution_count": 18,
   "metadata": {
    "collapsed": false
   },
   "outputs": [
    {
     "name": "stdout",
     "output_type": "stream",
     "text": [
      "         21289 function calls (21226 primitive calls) in 0.060 seconds\n",
      "\n",
      "   Ordered by: internal time\n",
      "   List reduced from 356 to 10 due to restriction <10>\n",
      "\n",
      "   ncalls  tottime  percall  cumtime  percall filename:lineno(function)\n",
      "       23    0.005    0.000    0.007    0.000 functions.py:95(__call__)\n",
      "     3254    0.005    0.000    0.008    0.000 numeric.py:1910(isscalar)\n",
      "     1601    0.004    0.000    0.020    0.000 common.py:261(notnull)\n",
      "     1618    0.004    0.000    0.011    0.000 common.py:132(_isnull_new)\n",
      "     4157    0.003    0.000    0.004    0.000 {isinstance}\n",
      "        2    0.003    0.002    0.042    0.021 common.py:282(convert_to_r_dataframe)\n",
      "     1618    0.002    0.000    0.006    0.000 {pandas.lib.isscalar}\n",
      "     1618    0.002    0.000    0.013    0.000 common.py:111(isnull)\n",
      "        2    0.002    0.001    0.002    0.001 {method 'rcall' of 'rpy2.rinterface.SexpClosure' objects}\n",
      "       90    0.001    0.000    0.002    0.000 vectors.py:230(__init__)\n",
      "\n",
      "\n"
     ]
    }
   ],
   "source": [
    "pstats.sort_stats('time').print_stats(10);"
   ]
  },
  {
   "cell_type": "code",
   "execution_count": 19,
   "metadata": {
    "collapsed": false
   },
   "outputs": [
    {
     "name": "stdout",
     "output_type": "stream",
     "text": [
      " "
     ]
    }
   ],
   "source": [
    "pstats = %prun -r -q f.bagfsr(d, 0.05)"
   ]
  },
  {
   "cell_type": "code",
   "execution_count": 20,
   "metadata": {
    "collapsed": false
   },
   "outputs": [
    {
     "name": "stdout",
     "output_type": "stream",
     "text": [
      "         4844418 function calls (4824089 primitive calls) in 12.109 seconds\n",
      "\n",
      "   Ordered by: internal time\n",
      "   List reduced from 1457 to 10 due to restriction <10>\n",
      "\n",
      "   ncalls  tottime  percall  cumtime  percall filename:lineno(function)\n",
      "   656043    0.893    0.000    1.386    0.000 numeric.py:1910(isscalar)\n",
      "   930418    0.788    0.000    0.922    0.000 {isinstance}\n",
      "   320001    0.688    0.000    3.639    0.000 common.py:261(notnull)\n",
      "     4600    0.643    0.000    0.958    0.000 functions.py:95(__call__)\n",
      "   326408    0.618    0.000    2.124    0.000 common.py:132(_isnull_new)\n",
      "      400    0.500    0.001    7.503    0.019 common.py:282(convert_to_r_dataframe)\n",
      "   326408    0.474    0.000    1.168    0.000 {pandas.lib.isscalar}\n",
      "      400    0.408    0.001    0.408    0.001 {method 'rcall' of 'rpy2.rinterface.SexpClosure' objects}\n",
      "   326408    0.404    0.000    2.527    0.000 common.py:111(isnull)\n",
      "    13800    0.225    0.000    0.527    0.000 __init__.py:61(sexpvector_to_ro)\n",
      "\n",
      "\n"
     ]
    }
   ],
   "source": [
    "pstats.sort_stats('time').print_stats(10);"
   ]
  },
  {
   "cell_type": "code",
   "execution_count": null,
   "metadata": {
    "collapsed": false
   },
   "outputs": [],
   "source": []
  },
  {
   "cell_type": "code",
   "execution_count": 21,
   "metadata": {
    "collapsed": false
   },
   "outputs": [
    {
     "name": "stdout",
     "output_type": "stream",
     "text": [
      "The line_profiler extension is already loaded. To reload it, use:\n",
      "  %reload_ext line_profiler\n"
     ]
    }
   ],
   "source": [
    "%load_ext line_profiler"
   ]
  },
  {
   "cell_type": "code",
   "execution_count": 22,
   "metadata": {
    "collapsed": false
   },
   "outputs": [],
   "source": [
    "lstats = %lprun -r -f f.ffsr f.ffsr(d, 0.05)"
   ]
  },
  {
   "cell_type": "code",
   "execution_count": 15,
   "metadata": {
    "collapsed": false
   },
   "outputs": [
    {
     "name": "stdout",
     "output_type": "stream",
     "text": [
      "Timer unit: 1e-06 s\n",
      "\n",
      "Total time: 0.030589 s\n",
      "File: ffsr.py\n",
      "Function: ffsr at line 385\n",
      "\n",
      "Line #      Hits         Time  Per Hit   % Time  Line Contents\n",
      "==============================================================\n",
      "   385                                           def ffsr(dat,g0=0.05,betaout=False,gs=None,max_size=None,var_incl=None,prec_f='.4f'):\n",
      "   386                                               \n",
      "   387                                               \"\"\"\n",
      "   388                                               ### Purpose:\n",
      "   389                                               #   Perform the Fast False Selection Rate procedure with linear regression.\n",
      "   390                                               \n",
      "   391                                               ### NOTE: Outcome variable must be in FIRST column of dataset 'dat'\n",
      "   392                                               \n",
      "   393                                               ### NOTE: If bagging necessary with FFSR, use function 'bagfsr()' in this module.\n",
      "   394                                               \n",
      "   395                                               ### NOTE: Appropriate covariate transformations are expected to have been applied prior \n",
      "   396                                               ###       to utilization of this FSR algorithm.\n",
      "   397                                                \n",
      "   398                                               ### Input params:\n",
      "   399                                               #   dat      = python dataframe of original p covariates, 1 outcome (in first col.): n x p+1\n",
      "   400                                               #   g0       = float pre-specified FSR of interest (\"gamma0\")\n",
      "   401                                               #   betaout  = boolean of whether to include estimated betahats from final selected model\n",
      "   402                                               #   gs       = float or vector of gamma's at which to specifically compute alpha_F\n",
      "   403                                               #   max_size = integer of largest model size == max num vars to incl in final model (default = num covs in dataset)\n",
      "   404                                               #   var_incl = array of cols corresponding to those vars to force into model\n",
      "   405                                               #   prec_f   = string of precision (num digits) desired in FSR output table (string to be given to 'format' python fcn)\n",
      "   406                                               \n",
      "   407                                               ### Output: \n",
      "   408                                               #      (note: gamma = FSR, gamma_0 = pre-specified/desired FSR)\n",
      "   409                                               # Table of [S   Var   p   p_s   alpha_F   gamma_F], dim = num_steps(== p) x 6\n",
      "   410                                               #   S:       model size at given step\n",
      "   411                                               #   Var:     name of var that entered at given step\n",
      "   412                                               #   p:       p-value of var that entered at given step\n",
      "   413                                               #   p_m:     mono. inc. p-value (vector or original p-values arranged to be monotonically increasing)\n",
      "   414                                               #   alpha_F: cutoff value for model entry given gamma_0 and current p_s value\n",
      "   415                                               #   gamma_F: FSR given current alpha_F and model size (== step num)\n",
      "   416                                               #       and\n",
      "   417                                               #   vector of alpha_F's for specified gamma's (g)\n",
      "   418                                               #       and\n",
      "   419                                               #   vector of estimated beta param's for final model (based on g0)\n",
      "   420                                               \"\"\"\n",
      "   421                                               \n",
      "   422         1            6      6.0      0.0      import numpy as np\n",
      "   423         1            3      3.0      0.0      import pandas as pd\n",
      "   424                                               \n",
      "   425                                               ### Check that gamma0 is valid value\n",
      "   426         1            2      2.0      0.0      if g0 <= 0 or g0 >= 1:\n",
      "   427                                                   raise ValueError(\"Specified gamma0 (FSR) must be in (0,1)\")\n",
      "   428                                               \n",
      "   429                                               ### Clean and check data - make sure dat = pandas dataframes or else convert them\n",
      "   430         1            8      8.0      0.0      if df_type(dat)==True:\n",
      "   431         1            2      2.0      0.0          if isinstance(dat,pd.DataFrame):\n",
      "   432         1          715    715.0      2.3              d = dat.copy()\n",
      "   433                                                   else:\n",
      "   434                                                       if isinstance(dat,np.ndarray):\n",
      "   435                                                           d = pd.DataFrame(dat)\n",
      "   436                                                           vnum = list(np.arange(d.shape[1])+1)\n",
      "   437                                                           vchr = list(np.repeat(\"V\",d.shape[1]))\n",
      "   438                                                           d.columns = [a + str(b) for a,b in zip(vchr,vnum)]\n",
      "   439                                               else:\n",
      "   440                                                   return df_type(dat)\n",
      "   441                                           \n",
      "   442                                               ### Remove missing values\n",
      "   443         1         1490   1490.0      4.9      d.dropna(inplace=True)\n",
      "   444                                           \n",
      "   445                                               ### Check that p < n to ensure regression solutions\n",
      "   446         1            7      7.0      0.0      if (d.shape[1]-1) >= d.shape[0]:\n",
      "   447                                                   raise ValueError(\"N must be > p for valid regression solutions\")\n",
      "   448                                               \n",
      "   449                                               ### If max model size not specified, select all possible cov.s\n",
      "   450         1            3      3.0      0.0      if max_size==None:\n",
      "   451         1           11     11.0      0.0          max_size = d.shape[1]-1\n",
      "   452                                                   \n",
      "   453                                               ### Perform forward selection\n",
      "   454         1        23550  23550.0     77.0      fwd_sel = forward(d.iloc[:,1:], pd.DataFrame(d.iloc[:,0]), max_size, var_incl)\n",
      "   455                                               \n",
      "   456                                               ### Save order of covariate entry into model\n",
      "   457         1          590    590.0      1.9      cov_entry_order = cov_order(d.columns.values[1:], max_size, var_incl)\n",
      "   458                                               \n",
      "   459                                               ### Compute p-value of each covariate entering the model\n",
      "   460         1          943    943.0      3.1      p_orig = pval_comp(max_size)\n",
      "   461                                               \n",
      "   462                                               ### Arrange p-values in mono. inc. order\n",
      "   463        16           82      5.1      0.3      p_mono = np.array([max(p_orig[:(i+1)]) for i in range(len(p_orig))])\n",
      "   464                                                   \n",
      "   465                                               ### Gamma_F computation\n",
      "   466         1          148    148.0      0.5      g_F = gamma_F(p_mono, d.shape[1]-1, max_size)\n",
      "   467                                               \n",
      "   468                                               ### Check if betaout desired, if so compute beta_hat of model corresponding to specific gamma0\n",
      "   469         1            2      2.0      0.0      if betaout==True:\n",
      "   470                                                   betahats = beta_est(d.iloc[:,1:], pd.DataFrame(d.iloc[:,0]), g0, g_F, cov_entry_order)\n",
      "   471                                                   \n",
      "   472                                               ### Alpha_F computation for all steps in fwd sel proc\n",
      "   473         1           39     39.0      0.1      a_F = alpha_F(g0, d.shape[1]-1, max_size)\n",
      "   474                                           \n",
      "   475                                               ### Model size\n",
      "   476         1            6      6.0      0.0      S = np.arange(max_size)+1\n",
      "   477                                           \n",
      "   478                                               ### Combine S, Cov_names, p-vals, sorted p-vals, alpha_F, gamma_F into table\n",
      "   479         1         2974   2974.0      9.7      fsr_results = fsrtable(S, cov_entry_order, p_orig, p_mono, a_F, g_F)\n",
      "   480                                           \n",
      "   481                                               ### Return selected output: FSR table (+ betahat) (+ alpha_specific)\n",
      "   482         1            2      2.0      0.0      if gs!=None: \n",
      "   483                                                   ### Compute alpha_F for specific gammas (gs)\n",
      "   484                                                   if betaout==True:\n",
      "   485                                                       afg = alpha_F_g(gs, g_F, d.shape[1]-1)\n",
      "   486                                                       return ffsr_obj1(fsr_results, betahats, afg)\n",
      "   487                                                   else:\n",
      "   488                                                       afg = alpha_F_g(gs, g_F, d.shape[1]-1)\n",
      "   489                                                       return ffsr_obj2(fsr_results, afg)\n",
      "   490                                               else:\n",
      "   491         1            2      2.0      0.0          if betaout==True:\n",
      "   492                                                       return ffsr_obj3(fsr_results, betahats)\n",
      "   493                                                   else:\n",
      "   494         1            4      4.0      0.0              return ffsr_obj4(fsr_results)    \n",
      "\n"
     ]
    }
   ],
   "source": [
    "lstats.print_stats()"
   ]
  },
  {
   "cell_type": "code",
   "execution_count": 16,
   "metadata": {
    "collapsed": false
   },
   "outputs": [],
   "source": [
    "lstats = %lprun -r -f bagfsr bagfsr(d, 0.05)"
   ]
  },
  {
   "cell_type": "code",
   "execution_count": 17,
   "metadata": {
    "collapsed": false,
    "scrolled": true
   },
   "outputs": [
    {
     "name": "stdout",
     "output_type": "stream",
     "text": [
      "Timer unit: 1e-06 s\n",
      "\n",
      "Total time: 6.77536 s\n",
      "File: ffsr.py\n",
      "Function: bagfsr at line 556\n",
      "\n",
      "Line #      Hits         Time  Per Hit   % Time  Line Contents\n",
      "==============================================================\n",
      "   556                                           def bagfsr(dat,g0,B=200,max_s=None,v_incl=None,prec=4):\n",
      "   557                                               \n",
      "   558                                               \"\"\"\n",
      "   559                                               ### Purpose:\n",
      "   560                                               #   Perform bagging with Fast False Selection Rate procedure to allow for more accurate predictions.\n",
      "   561                                               \n",
      "   562                                               ### NOTE: appropriate covariate transformations are expected to have been applied prior \n",
      "   563                                               ###       to utilization of this FSR algorithm.\n",
      "   564                                                \n",
      "   565                                               ### Input params:\n",
      "   566                                               #   dat    = python dataframe of original p covariates, 1 outcome (in first col.): n x p+1\n",
      "   567                                               #   g0     = float pre-specified FSR of interest (\"gamma0\")\n",
      "   568                                               #   B      = integer of number of bagged samples\n",
      "   569                                               #   max_s  = integer of largest model size == max num vars to incl in final model (default = num covs in dataset)\n",
      "   570                                               #   v_incl = array of cols corresponding to those vars to force into model\n",
      "   571                                               #   prec   = integer of precision (num digits) desired in beta-hat parameter estimates of final model\n",
      "   572                                               \n",
      "   573                                               ### Output: \n",
      "   574                                               #   Mean of betahats\n",
      "   575                                               #   SEs of betahats\n",
      "   576                                               #   Avg alpha-to-enter\n",
      "   577                                               #   Avg model size\n",
      "   578                                               #   Prop of times each var included in model\n",
      "   579                                               \"\"\"\n",
      "   580                                               \n",
      "   581         1            7      7.0      0.0      import numpy as np\n",
      "   582         1            3      3.0      0.0      import pandas as pd\n",
      "   583         1        12459  12459.0      0.2      from sklearn.utils import resample\n",
      "   584                                               \n",
      "   585                                               ### Check that gamma0 is valid value\n",
      "   586         1            4      4.0      0.0      if g0 <= 0 or g0 >= 1:\n",
      "   587                                                   raise ValueError(\"Specified gamma0 (FSR) must be in (0,1)\")\n",
      "   588                                               \n",
      "   589                                               ### Check that B is valid value\n",
      "   590         1            2      2.0      0.0      if B <= 0:\n",
      "   591                                                   raise ValueError(\"B must be > 0\")\n",
      "   592                                                   \n",
      "   593                                               ### Clean and check data - make sure X, Y = pandas dataframes or else convert them\n",
      "   594         1           12     12.0      0.0      if df_type(dat)==True:\n",
      "   595         1            3      3.0      0.0          if isinstance(dat,pd.DataFrame):\n",
      "   596         1          601    601.0      0.0              d = dat.copy()\n",
      "   597                                                   else:\n",
      "   598                                                       if isinstance(dat,np.ndarray):\n",
      "   599                                                           d = pd.DataFrame(dat)\n",
      "   600                                                           vnum = list(np.arange(d.shape[1])+1)\n",
      "   601                                                           vchr = list(np.repeat(\"V\",d.shape[1]))\n",
      "   602                                                           d.columns = [a + str(b) for a,b in zip(vchr,vnum)]\n",
      "   603                                               else:\n",
      "   604                                                   return df_type(dat)\n",
      "   605                                               \n",
      "   606                                               ### Remove missing values\n",
      "   607         1         1175   1175.0      0.0      d.dropna(inplace=True)\n",
      "   608                                               \n",
      "   609                                               ### check that p < n to ensure regression solutions\n",
      "   610         1            8      8.0      0.0      if (d.shape[1]-1) >= d.shape[0]:\n",
      "   611                                                   raise ValueError(\"N must be > p for valid regression solutions\")\n",
      "   612                                               \n",
      "   613                                               ### Create array to keep track of number of times vars enter model\n",
      "   614         1          248    248.0      0.0      nentries = pd.DataFrame(np.zeros(d.shape[1]-1),index=d.columns.values[1:])\n",
      "   615                                               \n",
      "   616                                               ### Create array to store all estimated coefficients, ses, alphas, sizes\n",
      "   617         1          434    434.0      0.0      allbetas = pd.DataFrame(np.zeros([B,(d.shape[1]-1)]),columns=d.columns.values[1:])\n",
      "   618         1          179    179.0      0.0      allses = allbetas.copy()\n",
      "   619         1            2      2.0      0.0      alphas = []\n",
      "   620         1            2      2.0      0.0      sizes = []\n",
      "   621         1           22     22.0      0.0      np.random.seed(1234)\n",
      "   622                                               \n",
      "   623                                               ### Bagging loops\n",
      "   624       201          577      2.9      0.0      for i in range(B):\n",
      "   625                                                   # Draw with replacement from rows of data\n",
      "   626       200        65190    325.9      1.0          newdat = pd.DataFrame(resample(d, replace=True))\n",
      "   627       200        19818     99.1      0.3          newdat.columns = d.columns.values\n",
      "   628                                                   \n",
      "   629                                                   ### Obtain FSR results\n",
      "   630       200      5815112  29075.6     85.8          fsrout = ffsr_bag(newdat,g0,max_size=max_s,var_incl=v_incl)\n",
      "   631       200       205112   1025.6      3.0          allbetas.loc[i,fsrout[0].index.values] = fsrout[0].iloc[:,0]\n",
      "   632       200       197427    987.1      2.9          allses.loc[i,fsrout[0].index.values] = fsrout[0].iloc[:,1]\n",
      "   633       200          700      3.5      0.0          alphas.append(fsrout[1])\n",
      "   634       200          443      2.2      0.0          sizes.append(fsrout[2])\n",
      "   635                                           \n",
      "   636                                                   ### Update counts of num times var included\n",
      "   637       200       452731   2263.7      6.7          nentries.loc[fsrout[0].index[np.abs(np.around(fsrout[0].iloc[:,0],prec))>0]] += 1\n",
      "   638                                                   \n",
      "   639                                               ### Compute averages\n",
      "   640         1          395    395.0      0.0      avgbeta = allbetas.mean(axis=0) # mean across rows / colmeans == mean of each cov's betahat\n",
      "   641         1          276    276.0      0.0      avgse = allses.mean(axis=0)\n",
      "   642         1           66     66.0      0.0      avgalpha = np.mean(alphas)\n",
      "   643         1           48     48.0      0.0      avgsize = np.mean(sizes)\n",
      "   644         1          256    256.0      0.0      var_props = nentries/float(B)\n",
      "   645         1         1936   1936.0      0.0      cov_res = pd.concat([avgbeta,avgse,var_props],axis=1)\n",
      "   646         1          102    102.0      0.0      cov_res.columns = ['betahat','betase','prop_incl']\n",
      "   647                                               \n",
      "   648         1            6      6.0      0.0      return bagfsr_obj(cov_res, avgalpha, avgsize)\n",
      "\n"
     ]
    }
   ],
   "source": [
    "lstats.print_stats()"
   ]
  },
  {
   "cell_type": "code",
   "execution_count": null,
   "metadata": {
    "collapsed": false
   },
   "outputs": [],
   "source": []
  },
  {
   "cell_type": "code",
   "execution_count": 33,
   "metadata": {
    "collapsed": true
   },
   "outputs": [],
   "source": [
    "%load_ext memory_profiler"
   ]
  },
  {
   "cell_type": "code",
   "execution_count": 35,
   "metadata": {
    "collapsed": false
   },
   "outputs": [
    {
     "name": "stdout",
     "output_type": "stream",
     "text": [
      "peak memory: 120.65 MiB, increment: 0.01 MiB\n"
     ]
    }
   ],
   "source": [
    "%memit f.ffsr(d,0.05)"
   ]
  },
  {
   "cell_type": "code",
   "execution_count": 36,
   "metadata": {
    "collapsed": false
   },
   "outputs": [
    {
     "name": "stdout",
     "output_type": "stream",
     "text": [
      "('',)\n"
     ]
    }
   ],
   "source": [
    "mstats = %mprun -f f.ffsr f.ffsr(d,0.05)"
   ]
  },
  {
   "cell_type": "code",
   "execution_count": 37,
   "metadata": {
    "collapsed": false
   },
   "outputs": [
    {
     "name": "stdout",
     "output_type": "stream",
     "text": [
      "peak memory: 120.70 MiB, increment: 0.00 MiB\n"
     ]
    }
   ],
   "source": [
    "%memit f.bagfsr(d,0.05)"
   ]
  },
  {
   "cell_type": "code",
   "execution_count": 38,
   "metadata": {
    "collapsed": false
   },
   "outputs": [
    {
     "name": "stdout",
     "output_type": "stream",
     "text": [
      "('',)\n"
     ]
    }
   ],
   "source": [
    "mstats = %mprun -f f.bagfsr f.bagfsr(d,0.05)"
   ]
  },
  {
   "cell_type": "code",
   "execution_count": null,
   "metadata": {
    "collapsed": true
   },
   "outputs": [],
   "source": []
  }
 ],
 "metadata": {
  "kernelspec": {
   "display_name": "Python 2",
   "language": "python",
   "name": "python2"
  },
  "language_info": {
   "codemirror_mode": {
    "name": "ipython",
    "version": 2
   },
   "file_extension": ".py",
   "mimetype": "text/x-python",
   "name": "python",
   "nbconvert_exporter": "python",
   "pygments_lexer": "ipython2",
   "version": "2.7.9"
  }
 },
 "nbformat": 4,
 "nbformat_minor": 0
}
